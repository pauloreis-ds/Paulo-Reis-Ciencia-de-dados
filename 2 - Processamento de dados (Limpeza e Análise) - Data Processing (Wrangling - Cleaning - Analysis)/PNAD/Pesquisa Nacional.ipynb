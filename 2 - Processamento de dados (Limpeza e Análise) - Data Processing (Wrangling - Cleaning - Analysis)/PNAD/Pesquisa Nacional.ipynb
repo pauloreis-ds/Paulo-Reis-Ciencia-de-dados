{
 "cells": [
  {
   "cell_type": "markdown",
   "metadata": {},
   "source": [
    "# Análise Exploratória de Dados com Python\n",
    "    \n",
    "    A Pesquisa Nacional por Amostra de Domicílios - PNAD\n",
    "\n",
    "Arquivo com dados: https://github.com/neylsoncrepalde/introducao_ao_r/blob/master/dados/pes_2012.csv?raw=true\n",
    "\n",
    "Link do vídeo que me ajudou: https://www.youtube.com/watch?v=2OXbbgvMrBA&list=WL&index=14&t=183s\n",
    "\n",
    "\n",
    "### Colunas\n",
    "\n",
    "    V0101 - Ano\n",
    "    UF    - Unidade da Federação\n",
    "    V0302 - Gênero\n",
    "    V8005 - Idade\n",
    "    V0404 - Cor da pele\n",
    "    V4803 - Escolaridade\n",
    "    V4718 - Renda Principal\n",
    "    V4720 - Renda Total\n",
    "    V4729 - Peso Amostral\n",
    "    \n",
    "## Planejamento\n",
    "        1 - Exploração dos dados\n",
    "            1.1 Encontrando Dados Nulos\n",
    "        2 - Primeiras análises\n",
    "            2.1 Qual a proporção de gênero e cor da pele?\n",
    "                Gênero\n",
    "                Cor da Pele\n",
    "            2.2 Variáveis Quantitativas\n",
    "                Idade\n",
    "            2.3 Tipos de dados (Renda Principal, Renda Total)\n",
    "        \n",
    "        3 - Análises mais complexas (com gráficos)\n",
    "Você pode acessar o notebook com os gráficos aqui: https://github.com/pauloreis-ds/Paulo-Reis-Ciencia-de-dados/tree/master/4%20-%20Visualiza%C3%A7%C3%A3o%20de%20dados%20-%20Data%20Visualization/PNAD\n",
    "        "
   ]
  },
  {
   "cell_type": "code",
   "execution_count": 89,
   "metadata": {},
   "outputs": [],
   "source": [
    "# Seção imports\n",
    "\n",
    "import pandas as pd"
   ]
  },
  {
   "cell_type": "code",
   "execution_count": 41,
   "metadata": {},
   "outputs": [],
   "source": [
    "pnad = pd .read_csv('pes_2012.csv')"
   ]
  },
  {
   "cell_type": "markdown",
   "metadata": {},
   "source": [
    "## 1 - Exploração do dados\n",
    "\n",
    "    Descobrir como os dados estão estruturados e organizados, para\n",
    "    que saibamos como utilizar e onde modificar de acordo como nossa\n",
    "    necessidade.\n",
    "    A começar pelo nome das colunas. Sabemos quais são, então podemos \n",
    "    alterar agora, já que facilitará o processo."
   ]
  },
  {
   "cell_type": "code",
   "execution_count": 42,
   "metadata": {},
   "outputs": [
    {
     "data": {
      "text/html": [
       "<div>\n",
       "<style scoped>\n",
       "    .dataframe tbody tr th:only-of-type {\n",
       "        vertical-align: middle;\n",
       "    }\n",
       "\n",
       "    .dataframe tbody tr th {\n",
       "        vertical-align: top;\n",
       "    }\n",
       "\n",
       "    .dataframe thead th {\n",
       "        text-align: right;\n",
       "    }\n",
       "</style>\n",
       "<table border=\"1\" class=\"dataframe\">\n",
       "  <thead>\n",
       "    <tr style=\"text-align: right;\">\n",
       "      <th></th>\n",
       "      <th>V0101</th>\n",
       "      <th>UF</th>\n",
       "      <th>V0302</th>\n",
       "      <th>V8005</th>\n",
       "      <th>V0404</th>\n",
       "      <th>V4803</th>\n",
       "      <th>V4718</th>\n",
       "      <th>V4720</th>\n",
       "      <th>V4729</th>\n",
       "    </tr>\n",
       "  </thead>\n",
       "  <tbody>\n",
       "    <tr>\n",
       "      <th>0</th>\n",
       "      <td>2012</td>\n",
       "      <td>Rondônia</td>\n",
       "      <td>Masculino</td>\n",
       "      <td>48</td>\n",
       "      <td>Branca</td>\n",
       "      <td>15 anos ou mais</td>\n",
       "      <td>3000</td>\n",
       "      <td>3000</td>\n",
       "      <td>232</td>\n",
       "    </tr>\n",
       "    <tr>\n",
       "      <th>1</th>\n",
       "      <td>2012</td>\n",
       "      <td>Rondônia</td>\n",
       "      <td>Feminino</td>\n",
       "      <td>48</td>\n",
       "      <td>Branca</td>\n",
       "      <td>15 anos ou mais</td>\n",
       "      <td>3000</td>\n",
       "      <td>3000</td>\n",
       "      <td>232</td>\n",
       "    </tr>\n",
       "    <tr>\n",
       "      <th>2</th>\n",
       "      <td>2012</td>\n",
       "      <td>Rondônia</td>\n",
       "      <td>Feminino</td>\n",
       "      <td>23</td>\n",
       "      <td>Branca</td>\n",
       "      <td>15 anos ou mais</td>\n",
       "      <td>1100</td>\n",
       "      <td>1100</td>\n",
       "      <td>232</td>\n",
       "    </tr>\n",
       "    <tr>\n",
       "      <th>3</th>\n",
       "      <td>2012</td>\n",
       "      <td>Rondônia</td>\n",
       "      <td>Feminino</td>\n",
       "      <td>21</td>\n",
       "      <td>Branca</td>\n",
       "      <td>14 anos</td>\n",
       "      <td>1100</td>\n",
       "      <td>1100</td>\n",
       "      <td>232</td>\n",
       "    </tr>\n",
       "    <tr>\n",
       "      <th>4</th>\n",
       "      <td>2012</td>\n",
       "      <td>Rondônia</td>\n",
       "      <td>Feminino</td>\n",
       "      <td>54</td>\n",
       "      <td>Branca</td>\n",
       "      <td>15 anos ou mais</td>\n",
       "      <td>NaN</td>\n",
       "      <td>460</td>\n",
       "      <td>232</td>\n",
       "    </tr>\n",
       "  </tbody>\n",
       "</table>\n",
       "</div>"
      ],
      "text/plain": [
       "   V0101        UF      V0302  V8005   V0404            V4803 V4718 V4720  \\\n",
       "0   2012  Rondônia  Masculino     48  Branca  15 anos ou mais  3000  3000   \n",
       "1   2012  Rondônia   Feminino     48  Branca  15 anos ou mais  3000  3000   \n",
       "2   2012  Rondônia   Feminino     23  Branca  15 anos ou mais  1100  1100   \n",
       "3   2012  Rondônia   Feminino     21  Branca          14 anos  1100  1100   \n",
       "4   2012  Rondônia   Feminino     54  Branca  15 anos ou mais   NaN   460   \n",
       "\n",
       "   V4729  \n",
       "0    232  \n",
       "1    232  \n",
       "2    232  \n",
       "3    232  \n",
       "4    232  "
      ]
     },
     "execution_count": 42,
     "metadata": {},
     "output_type": "execute_result"
    }
   ],
   "source": [
    "# Mostra as primeiras linhas da tabela\n",
    "\n",
    "pnad.head()"
   ]
  },
  {
   "cell_type": "code",
   "execution_count": 43,
   "metadata": {},
   "outputs": [],
   "source": [
    "# Passamos um dicionário como argumento para alteração\n",
    "# inplace = True faz a modificação na própria variável\n",
    "\n",
    "dict_with_names = {\"V0101\": \"Ano\",\"V0302\": \"Sexo\",\"V8005\": \"Idade\",\"V0404\": \"Cor_da_pele\", \"V4803\": \"Escolaridade\",\n",
    "                        \"V4718\": \"Renda_principal\", \"V4720\": \"Renda_total\", \"V4729\": \"Peso_amostral\"}\n",
    "\n",
    "pnad.rename(columns=dict_with_names, inplace=True)"
   ]
  },
  {
   "cell_type": "code",
   "execution_count": 44,
   "metadata": {
    "scrolled": true
   },
   "outputs": [
    {
     "data": {
      "text/html": [
       "<div>\n",
       "<style scoped>\n",
       "    .dataframe tbody tr th:only-of-type {\n",
       "        vertical-align: middle;\n",
       "    }\n",
       "\n",
       "    .dataframe tbody tr th {\n",
       "        vertical-align: top;\n",
       "    }\n",
       "\n",
       "    .dataframe thead th {\n",
       "        text-align: right;\n",
       "    }\n",
       "</style>\n",
       "<table border=\"1\" class=\"dataframe\">\n",
       "  <thead>\n",
       "    <tr style=\"text-align: right;\">\n",
       "      <th></th>\n",
       "      <th>Ano</th>\n",
       "      <th>UF</th>\n",
       "      <th>Sexo</th>\n",
       "      <th>Idade</th>\n",
       "      <th>Cor_da_pele</th>\n",
       "      <th>Escolaridade</th>\n",
       "      <th>Renda_principal</th>\n",
       "      <th>Renda_total</th>\n",
       "      <th>Peso_amostral</th>\n",
       "    </tr>\n",
       "  </thead>\n",
       "  <tbody>\n",
       "    <tr>\n",
       "      <th>362448</th>\n",
       "      <td>2012</td>\n",
       "      <td>Distrito Federal</td>\n",
       "      <td>Masculino</td>\n",
       "      <td>21</td>\n",
       "      <td>Branca</td>\n",
       "      <td>13 anos</td>\n",
       "      <td>NaN</td>\n",
       "      <td>0</td>\n",
       "      <td>290</td>\n",
       "    </tr>\n",
       "    <tr>\n",
       "      <th>362449</th>\n",
       "      <td>2012</td>\n",
       "      <td>Distrito Federal</td>\n",
       "      <td>Masculino</td>\n",
       "      <td>19</td>\n",
       "      <td>Branca</td>\n",
       "      <td>13 anos</td>\n",
       "      <td>NaN</td>\n",
       "      <td>0</td>\n",
       "      <td>290</td>\n",
       "    </tr>\n",
       "    <tr>\n",
       "      <th>362450</th>\n",
       "      <td>2012</td>\n",
       "      <td>Distrito Federal</td>\n",
       "      <td>Masculino</td>\n",
       "      <td>40</td>\n",
       "      <td>Branca</td>\n",
       "      <td>15 anos ou mais</td>\n",
       "      <td>13000</td>\n",
       "      <td>13000</td>\n",
       "      <td>290</td>\n",
       "    </tr>\n",
       "  </tbody>\n",
       "</table>\n",
       "</div>"
      ],
      "text/plain": [
       "         Ano                UF       Sexo  Idade Cor_da_pele     Escolaridade  \\\n",
       "362448  2012  Distrito Federal  Masculino     21      Branca          13 anos   \n",
       "362449  2012  Distrito Federal  Masculino     19      Branca          13 anos   \n",
       "362450  2012  Distrito Federal  Masculino     40      Branca  15 anos ou mais   \n",
       "\n",
       "       Renda_principal Renda_total  Peso_amostral  \n",
       "362448             NaN           0            290  \n",
       "362449             NaN           0            290  \n",
       "362450           13000       13000            290  "
      ]
     },
     "execution_count": 44,
     "metadata": {},
     "output_type": "execute_result"
    }
   ],
   "source": [
    "# Mostra as últimas linhas da tabela, e como pode notar, podemos escolher quantas linhas\n",
    "\n",
    "pnad.tail(3)"
   ]
  },
  {
   "cell_type": "code",
   "execution_count": 45,
   "metadata": {},
   "outputs": [
    {
     "data": {
      "text/plain": [
       "(362451, 9)"
      ]
     },
     "execution_count": 45,
     "metadata": {},
     "output_type": "execute_result"
    }
   ],
   "source": [
    "# Número de linhas e colunas\n",
    "\n",
    "pnad.shape"
   ]
  },
  {
   "cell_type": "code",
   "execution_count": 46,
   "metadata": {},
   "outputs": [
    {
     "data": {
      "text/plain": [
       "Index(['Ano', 'UF', 'Sexo', 'Idade', 'Cor_da_pele', 'Escolaridade',\n",
       "       'Renda_principal', 'Renda_total', 'Peso_amostral'],\n",
       "      dtype='object')"
      ]
     },
     "execution_count": 46,
     "metadata": {},
     "output_type": "execute_result"
    }
   ],
   "source": [
    "# Mostra as colunas\n",
    "'''\n",
    "    Mas não precisaríamos usar agora, já que sabemos quais são\n",
    "'''\n",
    "\n",
    "pnad.columns"
   ]
  },
  {
   "cell_type": "code",
   "execution_count": 47,
   "metadata": {},
   "outputs": [
    {
     "data": {
      "text/plain": [
       "Ano                 int64\n",
       "UF                 object\n",
       "Sexo               object\n",
       "Idade               int64\n",
       "Cor_da_pele        object\n",
       "Escolaridade       object\n",
       "Renda_principal    object\n",
       "Renda_total        object\n",
       "Peso_amostral       int64\n",
       "dtype: object"
      ]
     },
     "execution_count": 47,
     "metadata": {},
     "output_type": "execute_result"
    }
   ],
   "source": [
    "# Tipo de dado das colunas\n",
    "\n",
    "\n",
    "pnad.dtypes"
   ]
  },
  {
   "cell_type": "code",
   "execution_count": 48,
   "metadata": {},
   "outputs": [
    {
     "name": "stdout",
     "output_type": "stream",
     "text": [
      "<class 'pandas.core.frame.DataFrame'>\n",
      "RangeIndex: 362451 entries, 0 to 362450\n",
      "Data columns (total 9 columns):\n",
      " #   Column           Non-Null Count   Dtype \n",
      "---  ------           --------------   ----- \n",
      " 0   Ano              362451 non-null  int64 \n",
      " 1   UF               362451 non-null  object\n",
      " 2   Sexo             362451 non-null  object\n",
      " 3   Idade            362451 non-null  int64 \n",
      " 4   Cor_da_pele      362451 non-null  object\n",
      " 5   Escolaridade     362451 non-null  object\n",
      " 6   Renda_principal  173539 non-null  object\n",
      " 7   Renda_total      309512 non-null  object\n",
      " 8   Peso_amostral    362451 non-null  int64 \n",
      "dtypes: int64(3), object(6)\n",
      "memory usage: 24.9+ MB\n"
     ]
    }
   ],
   "source": [
    "# Informações como o nome das colunas, seus tipos de dados e quantidade de dados não nulos...\n",
    "'''\n",
    "    Sim, poderíamos ter utilizado está função ao invés das três anteriores.\n",
    "    O ponto é que há momentos em que as funções mais específicas são mais adequadas.\n",
    "    Veremos mais adiante.\n",
    "'''\n",
    "\n",
    "pnad.info()"
   ]
  },
  {
   "cell_type": "markdown",
   "metadata": {},
   "source": [
    "### 1.1 Encontrando Dados Nulos\n",
    "    Valores faltantes, nulos, na/NaN/Null/None podem interferir na análise\n",
    "    por isso é importante saber como lidar com eles.\n",
    "    \n",
    "    .shape nos retornou o número de linhas/observações como sendo 362451.\n",
    "    Logo, ao ver em .info() que há colunas com valores não nulos/ non-null\n",
    "    menores que 362451, sabemos que há NaN entre os dados.\n",
    "    \n",
    "    Mas há outra maneira de identificar \"missing values\":"
   ]
  },
  {
   "cell_type": "code",
   "execution_count": 49,
   "metadata": {},
   "outputs": [
    {
     "data": {
      "text/html": [
       "<div>\n",
       "<style scoped>\n",
       "    .dataframe tbody tr th:only-of-type {\n",
       "        vertical-align: middle;\n",
       "    }\n",
       "\n",
       "    .dataframe tbody tr th {\n",
       "        vertical-align: top;\n",
       "    }\n",
       "\n",
       "    .dataframe thead th {\n",
       "        text-align: right;\n",
       "    }\n",
       "</style>\n",
       "<table border=\"1\" class=\"dataframe\">\n",
       "  <thead>\n",
       "    <tr style=\"text-align: right;\">\n",
       "      <th></th>\n",
       "      <th>Ano</th>\n",
       "      <th>UF</th>\n",
       "      <th>Sexo</th>\n",
       "      <th>Idade</th>\n",
       "      <th>Cor_da_pele</th>\n",
       "      <th>Escolaridade</th>\n",
       "      <th>Renda_principal</th>\n",
       "      <th>Renda_total</th>\n",
       "      <th>Peso_amostral</th>\n",
       "    </tr>\n",
       "  </thead>\n",
       "  <tbody>\n",
       "    <tr>\n",
       "      <th>0</th>\n",
       "      <td>False</td>\n",
       "      <td>False</td>\n",
       "      <td>False</td>\n",
       "      <td>False</td>\n",
       "      <td>False</td>\n",
       "      <td>False</td>\n",
       "      <td>False</td>\n",
       "      <td>False</td>\n",
       "      <td>False</td>\n",
       "    </tr>\n",
       "    <tr>\n",
       "      <th>1</th>\n",
       "      <td>False</td>\n",
       "      <td>False</td>\n",
       "      <td>False</td>\n",
       "      <td>False</td>\n",
       "      <td>False</td>\n",
       "      <td>False</td>\n",
       "      <td>False</td>\n",
       "      <td>False</td>\n",
       "      <td>False</td>\n",
       "    </tr>\n",
       "    <tr>\n",
       "      <th>2</th>\n",
       "      <td>False</td>\n",
       "      <td>False</td>\n",
       "      <td>False</td>\n",
       "      <td>False</td>\n",
       "      <td>False</td>\n",
       "      <td>False</td>\n",
       "      <td>False</td>\n",
       "      <td>False</td>\n",
       "      <td>False</td>\n",
       "    </tr>\n",
       "    <tr>\n",
       "      <th>3</th>\n",
       "      <td>False</td>\n",
       "      <td>False</td>\n",
       "      <td>False</td>\n",
       "      <td>False</td>\n",
       "      <td>False</td>\n",
       "      <td>False</td>\n",
       "      <td>False</td>\n",
       "      <td>False</td>\n",
       "      <td>False</td>\n",
       "    </tr>\n",
       "    <tr>\n",
       "      <th>4</th>\n",
       "      <td>False</td>\n",
       "      <td>False</td>\n",
       "      <td>False</td>\n",
       "      <td>False</td>\n",
       "      <td>False</td>\n",
       "      <td>False</td>\n",
       "      <td>True</td>\n",
       "      <td>False</td>\n",
       "      <td>False</td>\n",
       "    </tr>\n",
       "  </tbody>\n",
       "</table>\n",
       "</div>"
      ],
      "text/plain": [
       "     Ano     UF   Sexo  Idade  Cor_da_pele  Escolaridade  Renda_principal  \\\n",
       "0  False  False  False  False        False         False            False   \n",
       "1  False  False  False  False        False         False            False   \n",
       "2  False  False  False  False        False         False            False   \n",
       "3  False  False  False  False        False         False            False   \n",
       "4  False  False  False  False        False         False             True   \n",
       "\n",
       "   Renda_total  Peso_amostral  \n",
       "0        False          False  \n",
       "1        False          False  \n",
       "2        False          False  \n",
       "3        False          False  \n",
       "4        False          False  "
      ]
     },
     "execution_count": 49,
     "metadata": {},
     "output_type": "execute_result"
    }
   ],
   "source": [
    "# Retorna boolean. True se for NaN, False se for um valor válido.\n",
    "'''\n",
    "    Essa abordagem, apesar de nos indicar NaN, não é a forma mais \n",
    "    eficiente de se localizar dados Null. Por isso...\n",
    "'''\n",
    "\n",
    "pnad.isnull().head()"
   ]
  },
  {
   "cell_type": "code",
   "execution_count": 50,
   "metadata": {},
   "outputs": [
    {
     "data": {
      "text/plain": [
       "Ano                     0\n",
       "UF                      0\n",
       "Sexo                    0\n",
       "Idade                   0\n",
       "Cor_da_pele             0\n",
       "Escolaridade            0\n",
       "Renda_principal    188912\n",
       "Renda_total         52939\n",
       "Peso_amostral           0\n",
       "dtype: int64"
      ]
     },
     "execution_count": 50,
     "metadata": {},
     "output_type": "execute_result"
    }
   ],
   "source": [
    "'''\n",
    "    Utilizar .sum() é uma boa opção, ele nos dirá a quantidade de\n",
    "    NaN encontradas\n",
    "'''\n",
    "# Obs: isnull() faz o mesmo que isna()\n",
    "pnad.isna().sum()"
   ]
  },
  {
   "cell_type": "code",
   "execution_count": 51,
   "metadata": {},
   "outputs": [
    {
     "data": {
      "text/plain": [
       "Ano                False\n",
       "UF                 False\n",
       "Sexo               False\n",
       "Idade              False\n",
       "Cor_da_pele        False\n",
       "Escolaridade       False\n",
       "Renda_principal     True\n",
       "Renda_total         True\n",
       "Peso_amostral      False\n",
       "dtype: bool"
      ]
     },
     "execution_count": 51,
     "metadata": {},
     "output_type": "execute_result"
    }
   ],
   "source": [
    "'''\n",
    "    Extra: ao usarmos .any() o retorno é True para se houver pelo menos 1 valor nulo\n",
    "    e False para se não ouver nenhum\n",
    "'''\n",
    "\n",
    "pnad.isna().any()"
   ]
  },
  {
   "cell_type": "code",
   "execution_count": 52,
   "metadata": {},
   "outputs": [
    {
     "data": {
      "text/plain": [
       "Ano                0.000000\n",
       "UF                 0.000000\n",
       "Sexo               0.000000\n",
       "Idade              0.000000\n",
       "Cor_da_pele        0.000000\n",
       "Escolaridade       0.000000\n",
       "Renda_principal    0.521207\n",
       "Renda_total        0.146058\n",
       "Peso_amostral      0.000000\n",
       "dtype: float64"
      ]
     },
     "execution_count": 52,
     "metadata": {},
     "output_type": "execute_result"
    }
   ],
   "source": [
    "# Quantia (em porcentagem) dos NaN\n",
    "'''\n",
    "    Note que .shape retorna uma tupla (lista que não pode ser alterada) \n",
    "    (362451, 9).\n",
    "    Ao fazermos .shape[0] estamos nos referindo ao primeiro valor dessa tupla\n",
    "    \n",
    "    'Como se fosse uma lista'[0] \n",
    "'''\n",
    "\n",
    "pnad.isna().sum() / pnad.shape[0]"
   ]
  },
  {
   "cell_type": "code",
   "execution_count": 53,
   "metadata": {},
   "outputs": [
    {
     "data": {
      "text/plain": [
       "'C'"
      ]
     },
     "execution_count": 53,
     "metadata": {},
     "output_type": "execute_result"
    }
   ],
   "source": [
    "'Como se fosse uma lista'[0]"
   ]
  },
  {
   "cell_type": "code",
   "execution_count": 54,
   "metadata": {},
   "outputs": [
    {
     "data": {
      "text/plain": [
       "Ano                 0.000000\n",
       "UF                  0.000000\n",
       "Sexo                0.000000\n",
       "Idade               0.000000\n",
       "Cor_da_pele         0.000000\n",
       "Escolaridade        0.000000\n",
       "Renda_principal    52.120700\n",
       "Renda_total        14.605836\n",
       "Peso_amostral       0.000000\n",
       "dtype: float64"
      ]
     },
     "execution_count": 54,
     "metadata": {},
     "output_type": "execute_result"
    }
   ],
   "source": [
    "''' Melhor visualização? '''\n",
    "(pnad.isna().sum() / pnad.shape[0]) * 100"
   ]
  },
  {
   "cell_type": "markdown",
   "metadata": {},
   "source": [
    "## 2 - Primeiras Análises\n",
    "     Qual a proporção de gênero, idade e cor da pele?\n",
    "### Gênero"
   ]
  },
  {
   "cell_type": "code",
   "execution_count": 55,
   "metadata": {},
   "outputs": [
    {
     "data": {
      "text/plain": [
       "Feminino     186054\n",
       "Masculino    176397\n",
       "Name: Sexo, dtype: int64"
      ]
     },
     "execution_count": 55,
     "metadata": {},
     "output_type": "execute_result"
    }
   ],
   "source": [
    "# Conta os valores da coluna\n",
    "'''\n",
    "    Logo, teremos a quantidade (nesse caso) de pessoas do sexo Feminino e Masculino\n",
    "\n",
    "'''\n",
    "\n",
    "pnad.Sexo.value_counts()"
   ]
  },
  {
   "cell_type": "code",
   "execution_count": 56,
   "metadata": {},
   "outputs": [
    {
     "data": {
      "text/plain": [
       "Feminino     0.513322\n",
       "Masculino    0.486678\n",
       "Name: Sexo, dtype: float64"
      ]
     },
     "execution_count": 56,
     "metadata": {},
     "output_type": "execute_result"
    }
   ],
   "source": [
    "'''\n",
    "    Para termos a proporção (valores em porcentagem), basta dividirmos as \n",
    "    quantidades de pessoas de cada sexo pelo número total de pessoas.\n",
    "    \n",
    "    .shape[0] nos diz o número total de linhas da tabela, o que pode ser \n",
    "    representado pelo número total de pessoas (já que também a coluna ['Sexo'] \n",
    "    não tem valores nulos).\n",
    "'''\n",
    "\n",
    "total_de_casos = pnad.shape[0]\n",
    "\n",
    "pnad.Sexo.value_counts() / total_de_casos"
   ]
  },
  {
   "cell_type": "code",
   "execution_count": 57,
   "metadata": {},
   "outputs": [
    {
     "data": {
      "text/plain": [
       "Feminino     51.33218\n",
       "Masculino    48.66782\n",
       "Name: Sexo, dtype: float64"
      ]
     },
     "execution_count": 57,
     "metadata": {},
     "output_type": "execute_result"
    }
   ],
   "source": [
    "(pnad.Sexo.value_counts() / total_de_casos) * 100"
   ]
  },
  {
   "cell_type": "markdown",
   "metadata": {},
   "source": [
    "    Por fim temos que aproximadamente 51% são mulheres e 48% homens\n",
    "### Cor da pele\n",
    "    Dados diferentes, mas mesmo processo"
   ]
  },
  {
   "cell_type": "code",
   "execution_count": 58,
   "metadata": {},
   "outputs": [
    {
     "data": {
      "text/plain": [
       "Parda             0.479328\n",
       "Branca            0.429286\n",
       "Preta             0.083101\n",
       "Amarela           0.004276\n",
       "Indígena          0.003959\n",
       "Sem declaração    0.000050\n",
       "Name: Cor_da_pele, dtype: float64"
      ]
     },
     "execution_count": 58,
     "metadata": {},
     "output_type": "execute_result"
    }
   ],
   "source": [
    "pnad.Cor_da_pele.value_counts() / total_de_casos"
   ]
  },
  {
   "cell_type": "markdown",
   "metadata": {},
   "source": [
    "### Variáveis Quantitativas\n",
    "\n",
    "Para analisá-las, começamos com estatística descritiva (média, mediana, desvio padrão...)\n",
    "### Idade"
   ]
  },
  {
   "cell_type": "code",
   "execution_count": 59,
   "metadata": {},
   "outputs": [
    {
     "data": {
      "text/plain": [
       "32.63801175883085"
      ]
     },
     "execution_count": 59,
     "metadata": {},
     "output_type": "execute_result"
    }
   ],
   "source": [
    "# idade mean = Média\n",
    "pnad.Idade.mean()"
   ]
  },
  {
   "cell_type": "code",
   "execution_count": 60,
   "metadata": {},
   "outputs": [
    {
     "data": {
      "text/plain": [
       "30.0"
      ]
     },
     "execution_count": 60,
     "metadata": {},
     "output_type": "execute_result"
    }
   ],
   "source": [
    "# Mediana\n",
    "pnad.Idade.median()"
   ]
  },
  {
   "cell_type": "code",
   "execution_count": 61,
   "metadata": {},
   "outputs": [
    {
     "data": {
      "text/plain": [
       "20.77032627236788"
      ]
     },
     "execution_count": 61,
     "metadata": {},
     "output_type": "execute_result"
    }
   ],
   "source": [
    "# Desvio Padrão - uma medida de dispersão em torno da média \n",
    "#                 o quão próximo da média os dados estão\n",
    "pnad.Idade.std()"
   ]
  },
  {
   "cell_type": "code",
   "execution_count": 62,
   "metadata": {},
   "outputs": [
    {
     "data": {
      "text/plain": [
       "count    362451.000000\n",
       "mean         32.638012\n",
       "std          20.770326\n",
       "min           0.000000\n",
       "25%          15.000000\n",
       "50%          30.000000\n",
       "75%          48.000000\n",
       "max         117.000000\n",
       "Name: Idade, dtype: float64"
      ]
     },
     "execution_count": 62,
     "metadata": {},
     "output_type": "execute_result"
    }
   ],
   "source": [
    "# Nos apresenta essas estatísticas (e outras) de uma vez\n",
    "\n",
    "pnad.Idade.describe()"
   ]
  },
  {
   "cell_type": "markdown",
   "metadata": {},
   "source": [
    "    .describe() também pode ser utilizada no dataset inteiro, assim\n",
    "    ela dirá calculará essas informações estatísticas das colunas númericas"
   ]
  },
  {
   "cell_type": "code",
   "execution_count": 63,
   "metadata": {},
   "outputs": [
    {
     "data": {
      "text/html": [
       "<div>\n",
       "<style scoped>\n",
       "    .dataframe tbody tr th:only-of-type {\n",
       "        vertical-align: middle;\n",
       "    }\n",
       "\n",
       "    .dataframe tbody tr th {\n",
       "        vertical-align: top;\n",
       "    }\n",
       "\n",
       "    .dataframe thead th {\n",
       "        text-align: right;\n",
       "    }\n",
       "</style>\n",
       "<table border=\"1\" class=\"dataframe\">\n",
       "  <thead>\n",
       "    <tr style=\"text-align: right;\">\n",
       "      <th></th>\n",
       "      <th>Ano</th>\n",
       "      <th>UF</th>\n",
       "      <th>Sexo</th>\n",
       "      <th>Idade</th>\n",
       "      <th>Cor_da_pele</th>\n",
       "      <th>Escolaridade</th>\n",
       "      <th>Renda_principal</th>\n",
       "      <th>Renda_total</th>\n",
       "      <th>Peso_amostral</th>\n",
       "    </tr>\n",
       "  </thead>\n",
       "  <tbody>\n",
       "    <tr>\n",
       "      <th>0</th>\n",
       "      <td>2012</td>\n",
       "      <td>Rondônia</td>\n",
       "      <td>Masculino</td>\n",
       "      <td>48</td>\n",
       "      <td>Branca</td>\n",
       "      <td>15 anos ou mais</td>\n",
       "      <td>3000</td>\n",
       "      <td>3000</td>\n",
       "      <td>232</td>\n",
       "    </tr>\n",
       "  </tbody>\n",
       "</table>\n",
       "</div>"
      ],
      "text/plain": [
       "    Ano        UF       Sexo  Idade Cor_da_pele     Escolaridade  \\\n",
       "0  2012  Rondônia  Masculino     48      Branca  15 anos ou mais   \n",
       "\n",
       "  Renda_principal Renda_total  Peso_amostral  \n",
       "0            3000        3000            232  "
      ]
     },
     "execution_count": 63,
     "metadata": {},
     "output_type": "execute_result"
    }
   ],
   "source": [
    "pnad.head(1)"
   ]
  },
  {
   "cell_type": "code",
   "execution_count": 69,
   "metadata": {},
   "outputs": [
    {
     "data": {
      "text/html": [
       "<div>\n",
       "<style scoped>\n",
       "    .dataframe tbody tr th:only-of-type {\n",
       "        vertical-align: middle;\n",
       "    }\n",
       "\n",
       "    .dataframe tbody tr th {\n",
       "        vertical-align: top;\n",
       "    }\n",
       "\n",
       "    .dataframe thead th {\n",
       "        text-align: right;\n",
       "    }\n",
       "</style>\n",
       "<table border=\"1\" class=\"dataframe\">\n",
       "  <thead>\n",
       "    <tr style=\"text-align: right;\">\n",
       "      <th></th>\n",
       "      <th>Ano</th>\n",
       "      <th>Idade</th>\n",
       "      <th>Peso_amostral</th>\n",
       "    </tr>\n",
       "  </thead>\n",
       "  <tbody>\n",
       "    <tr>\n",
       "      <th>count</th>\n",
       "      <td>362451.0</td>\n",
       "      <td>362451.000000</td>\n",
       "      <td>362451.000000</td>\n",
       "    </tr>\n",
       "    <tr>\n",
       "      <th>mean</th>\n",
       "      <td>2012.0</td>\n",
       "      <td>32.638012</td>\n",
       "      <td>543.183294</td>\n",
       "    </tr>\n",
       "    <tr>\n",
       "      <th>std</th>\n",
       "      <td>0.0</td>\n",
       "      <td>20.770326</td>\n",
       "      <td>260.364253</td>\n",
       "    </tr>\n",
       "    <tr>\n",
       "      <th>min</th>\n",
       "      <td>2012.0</td>\n",
       "      <td>0.000000</td>\n",
       "      <td>174.000000</td>\n",
       "    </tr>\n",
       "    <tr>\n",
       "      <th>25%</th>\n",
       "      <td>2012.0</td>\n",
       "      <td>15.000000</td>\n",
       "      <td>334.000000</td>\n",
       "    </tr>\n",
       "    <tr>\n",
       "      <th>50%</th>\n",
       "      <td>2012.0</td>\n",
       "      <td>30.000000</td>\n",
       "      <td>522.000000</td>\n",
       "    </tr>\n",
       "    <tr>\n",
       "      <th>75%</th>\n",
       "      <td>2012.0</td>\n",
       "      <td>48.000000</td>\n",
       "      <td>705.000000</td>\n",
       "    </tr>\n",
       "    <tr>\n",
       "      <th>max</th>\n",
       "      <td>2012.0</td>\n",
       "      <td>117.000000</td>\n",
       "      <td>1132.000000</td>\n",
       "    </tr>\n",
       "  </tbody>\n",
       "</table>\n",
       "</div>"
      ],
      "text/plain": [
       "            Ano          Idade  Peso_amostral\n",
       "count  362451.0  362451.000000  362451.000000\n",
       "mean     2012.0      32.638012     543.183294\n",
       "std         0.0      20.770326     260.364253\n",
       "min      2012.0       0.000000     174.000000\n",
       "25%      2012.0      15.000000     334.000000\n",
       "50%      2012.0      30.000000     522.000000\n",
       "75%      2012.0      48.000000     705.000000\n",
       "max      2012.0     117.000000    1132.000000"
      ]
     },
     "execution_count": 69,
     "metadata": {},
     "output_type": "execute_result"
    }
   ],
   "source": [
    "'''\n",
    "    Como pode ver, ['Renda_principal'] e ['Renda_total'] não estão 'salvas'\n",
    "    como valores numéricos, assim sendo não aparecerão.\n",
    "    A solução é tranformá-los em tipo de dado numérico.\n",
    "'''\n",
    "\n",
    "pnad.describe()"
   ]
  },
  {
   "cell_type": "markdown",
   "metadata": {},
   "source": [
    "### 2.3 Tipos de dados"
   ]
  },
  {
   "cell_type": "code",
   "execution_count": 70,
   "metadata": {},
   "outputs": [
    {
     "data": {
      "text/plain": [
       "Ano                 int64\n",
       "UF                 object\n",
       "Sexo               object\n",
       "Idade               int64\n",
       "Cor_da_pele        object\n",
       "Escolaridade       object\n",
       "Renda_principal    object\n",
       "Renda_total        object\n",
       "Peso_amostral       int64\n",
       "dtype: object"
      ]
     },
     "execution_count": 70,
     "metadata": {},
     "output_type": "execute_result"
    }
   ],
   "source": [
    "'''\n",
    "    Note que ['Renda_principal'] e ['Renda_total'] estão como object (str, list, dict...)\n",
    "'''\n",
    "\n",
    "pnad.dtypes"
   ]
  },
  {
   "cell_type": "code",
   "execution_count": 73,
   "metadata": {},
   "outputs": [
    {
     "ename": "ValueError",
     "evalue": "Unable to parse string \"Sem declaração\" at position 281",
     "output_type": "error",
     "traceback": [
      "\u001b[1;31m---------------------------------------------------------------------------\u001b[0m",
      "\u001b[1;31mValueError\u001b[0m                                Traceback (most recent call last)",
      "\u001b[1;32mpandas\\_libs\\lib.pyx\u001b[0m in \u001b[0;36mpandas._libs.lib.maybe_convert_numeric\u001b[1;34m()\u001b[0m\n",
      "\u001b[1;31mValueError\u001b[0m: Unable to parse string \"Sem declaração\"",
      "\nDuring handling of the above exception, another exception occurred:\n",
      "\u001b[1;31mValueError\u001b[0m                                Traceback (most recent call last)",
      "\u001b[1;32m<ipython-input-73-a452bed70beb>\u001b[0m in \u001b[0;36m<module>\u001b[1;34m\u001b[0m\n\u001b[0;32m      9\u001b[0m '''\n\u001b[0;32m     10\u001b[0m \u001b[1;33m\u001b[0m\u001b[0m\n\u001b[1;32m---> 11\u001b[1;33m \u001b[0mpd\u001b[0m\u001b[1;33m.\u001b[0m\u001b[0mto_numeric\u001b[0m\u001b[1;33m(\u001b[0m\u001b[0mpnad\u001b[0m\u001b[1;33m.\u001b[0m\u001b[0mRenda_principal\u001b[0m\u001b[1;33m)\u001b[0m\u001b[1;33m\u001b[0m\u001b[1;33m\u001b[0m\u001b[0m\n\u001b[0m",
      "\u001b[1;32mC:\\ProgramData\\Anaconda3\\lib\\site-packages\\pandas\\core\\tools\\numeric.py\u001b[0m in \u001b[0;36mto_numeric\u001b[1;34m(arg, errors, downcast)\u001b[0m\n\u001b[0;32m    148\u001b[0m         \u001b[1;32mtry\u001b[0m\u001b[1;33m:\u001b[0m\u001b[1;33m\u001b[0m\u001b[1;33m\u001b[0m\u001b[0m\n\u001b[0;32m    149\u001b[0m             values = lib.maybe_convert_numeric(\n\u001b[1;32m--> 150\u001b[1;33m                 \u001b[0mvalues\u001b[0m\u001b[1;33m,\u001b[0m \u001b[0mset\u001b[0m\u001b[1;33m(\u001b[0m\u001b[1;33m)\u001b[0m\u001b[1;33m,\u001b[0m \u001b[0mcoerce_numeric\u001b[0m\u001b[1;33m=\u001b[0m\u001b[0mcoerce_numeric\u001b[0m\u001b[1;33m\u001b[0m\u001b[1;33m\u001b[0m\u001b[0m\n\u001b[0m\u001b[0;32m    151\u001b[0m             )\n\u001b[0;32m    152\u001b[0m         \u001b[1;32mexcept\u001b[0m \u001b[1;33m(\u001b[0m\u001b[0mValueError\u001b[0m\u001b[1;33m,\u001b[0m \u001b[0mTypeError\u001b[0m\u001b[1;33m)\u001b[0m\u001b[1;33m:\u001b[0m\u001b[1;33m\u001b[0m\u001b[1;33m\u001b[0m\u001b[0m\n",
      "\u001b[1;32mpandas\\_libs\\lib.pyx\u001b[0m in \u001b[0;36mpandas._libs.lib.maybe_convert_numeric\u001b[1;34m()\u001b[0m\n",
      "\u001b[1;31mValueError\u001b[0m: Unable to parse string \"Sem declaração\" at position 281"
     ]
    }
   ],
   "source": [
    "# Alterando o tipo de dado \"textual\" para numérico\n",
    "\n",
    "'''\n",
    "    ERRO: Encontraremos um erro, pois existe o texto \"Sem declaração\"\n",
    "    entre os valores.\n",
    "    \n",
    "    ValueError: Unable to parse string \"Sem declaração\" at position 281\n",
    "\n",
    "'''\n",
    "\n",
    "pd.to_numeric(pnad.Renda_principal)"
   ]
  },
  {
   "cell_type": "code",
   "execution_count": 75,
   "metadata": {},
   "outputs": [
    {
     "data": {
      "text/html": [
       "<div>\n",
       "<style scoped>\n",
       "    .dataframe tbody tr th:only-of-type {\n",
       "        vertical-align: middle;\n",
       "    }\n",
       "\n",
       "    .dataframe tbody tr th {\n",
       "        vertical-align: top;\n",
       "    }\n",
       "\n",
       "    .dataframe thead th {\n",
       "        text-align: right;\n",
       "    }\n",
       "</style>\n",
       "<table border=\"1\" class=\"dataframe\">\n",
       "  <thead>\n",
       "    <tr style=\"text-align: right;\">\n",
       "      <th></th>\n",
       "      <th>Ano</th>\n",
       "      <th>UF</th>\n",
       "      <th>Sexo</th>\n",
       "      <th>Idade</th>\n",
       "      <th>Cor_da_pele</th>\n",
       "      <th>Escolaridade</th>\n",
       "      <th>Renda_principal</th>\n",
       "      <th>Renda_total</th>\n",
       "      <th>Peso_amostral</th>\n",
       "    </tr>\n",
       "  </thead>\n",
       "  <tbody>\n",
       "    <tr>\n",
       "      <th>281</th>\n",
       "      <td>2012</td>\n",
       "      <td>Rondônia</td>\n",
       "      <td>Masculino</td>\n",
       "      <td>20</td>\n",
       "      <td>Parda</td>\n",
       "      <td>15 anos ou mais</td>\n",
       "      <td>Sem declaração</td>\n",
       "      <td>Sem declaração</td>\n",
       "      <td>232</td>\n",
       "    </tr>\n",
       "    <tr>\n",
       "      <th>1361</th>\n",
       "      <td>2012</td>\n",
       "      <td>Rondônia</td>\n",
       "      <td>Masculino</td>\n",
       "      <td>52</td>\n",
       "      <td>Branca</td>\n",
       "      <td>11 anos</td>\n",
       "      <td>Sem declaração</td>\n",
       "      <td>Sem declaração</td>\n",
       "      <td>232</td>\n",
       "    </tr>\n",
       "    <tr>\n",
       "      <th>1730</th>\n",
       "      <td>2012</td>\n",
       "      <td>Rondônia</td>\n",
       "      <td>Masculino</td>\n",
       "      <td>72</td>\n",
       "      <td>Branca</td>\n",
       "      <td>4 anos</td>\n",
       "      <td>Sem declaração</td>\n",
       "      <td>Sem declaração</td>\n",
       "      <td>233</td>\n",
       "    </tr>\n",
       "    <tr>\n",
       "      <th>1732</th>\n",
       "      <td>2012</td>\n",
       "      <td>Rondônia</td>\n",
       "      <td>Feminino</td>\n",
       "      <td>49</td>\n",
       "      <td>Branca</td>\n",
       "      <td>15 anos ou mais</td>\n",
       "      <td>Sem declaração</td>\n",
       "      <td>Sem declaração</td>\n",
       "      <td>232</td>\n",
       "    </tr>\n",
       "    <tr>\n",
       "      <th>2319</th>\n",
       "      <td>2012</td>\n",
       "      <td>Rondônia</td>\n",
       "      <td>Masculino</td>\n",
       "      <td>30</td>\n",
       "      <td>Branca</td>\n",
       "      <td>4 anos</td>\n",
       "      <td>Sem declaração</td>\n",
       "      <td>Sem declaração</td>\n",
       "      <td>233</td>\n",
       "    </tr>\n",
       "  </tbody>\n",
       "</table>\n",
       "</div>"
      ],
      "text/plain": [
       "       Ano        UF       Sexo  Idade Cor_da_pele     Escolaridade  \\\n",
       "281   2012  Rondônia  Masculino     20       Parda  15 anos ou mais   \n",
       "1361  2012  Rondônia  Masculino     52      Branca          11 anos   \n",
       "1730  2012  Rondônia  Masculino     72      Branca           4 anos   \n",
       "1732  2012  Rondônia   Feminino     49      Branca  15 anos ou mais   \n",
       "2319  2012  Rondônia  Masculino     30      Branca           4 anos   \n",
       "\n",
       "     Renda_principal     Renda_total  Peso_amostral  \n",
       "281   Sem declaração  Sem declaração            232  \n",
       "1361  Sem declaração  Sem declaração            232  \n",
       "1730  Sem declaração  Sem declaração            233  \n",
       "1732  Sem declaração  Sem declaração            232  \n",
       "2319  Sem declaração  Sem declaração            233  "
      ]
     },
     "execution_count": 75,
     "metadata": {},
     "output_type": "execute_result"
    }
   ],
   "source": [
    "# Confirmando\n",
    "pnad[pnad.Renda_principal == \"Sem declaração\"].head()"
   ]
  },
  {
   "cell_type": "code",
   "execution_count": 77,
   "metadata": {},
   "outputs": [
    {
     "data": {
      "text/plain": [
       "Ano                4558\n",
       "UF                 4558\n",
       "Sexo               4558\n",
       "Idade              4558\n",
       "Cor_da_pele        4558\n",
       "Escolaridade       4558\n",
       "Renda_principal    4558\n",
       "Renda_total        4558\n",
       "Peso_amostral      4558\n",
       "dtype: int64"
      ]
     },
     "execution_count": 77,
     "metadata": {},
     "output_type": "execute_result"
    }
   ],
   "source": [
    "# Quantos valores \"Sem declaração\" temos ao total\n",
    "pnad[pnad.Renda_principal == \"Sem declaração\"].count()"
   ]
  },
  {
   "cell_type": "code",
   "execution_count": 80,
   "metadata": {},
   "outputs": [],
   "source": [
    "'''\n",
    "    Para resolver, ativamos o parâmetro errors  como 'coerce'.\n",
    "    Isso fará com que a função transforme os valores que ela \n",
    "    não consegue mudar para número em NaN.\n",
    "    \n",
    "    Além disso, passamos essa mudança para a tabela (através da \n",
    "    coluna ['Renda_principal'])\n",
    "'''\n",
    "\n",
    "pnad.Renda_principal = pd.to_numeric(pnad.Renda_principal, errors='coerce')"
   ]
  },
  {
   "cell_type": "code",
   "execution_count": 81,
   "metadata": {},
   "outputs": [],
   "source": [
    "# O mesmo para ['Renda_total']\n",
    "\n",
    "pnad.Renda_total = pd.to_numeric(pnad.Renda_total, errors='coerce')"
   ]
  },
  {
   "cell_type": "code",
   "execution_count": 83,
   "metadata": {},
   "outputs": [
    {
     "data": {
      "text/html": [
       "<div>\n",
       "<style scoped>\n",
       "    .dataframe tbody tr th:only-of-type {\n",
       "        vertical-align: middle;\n",
       "    }\n",
       "\n",
       "    .dataframe tbody tr th {\n",
       "        vertical-align: top;\n",
       "    }\n",
       "\n",
       "    .dataframe thead th {\n",
       "        text-align: right;\n",
       "    }\n",
       "</style>\n",
       "<table border=\"1\" class=\"dataframe\">\n",
       "  <thead>\n",
       "    <tr style=\"text-align: right;\">\n",
       "      <th></th>\n",
       "      <th>Ano</th>\n",
       "      <th>Idade</th>\n",
       "      <th>Renda_principal</th>\n",
       "      <th>Renda_total</th>\n",
       "      <th>Peso_amostral</th>\n",
       "    </tr>\n",
       "  </thead>\n",
       "  <tbody>\n",
       "    <tr>\n",
       "      <th>count</th>\n",
       "      <td>362451.0</td>\n",
       "      <td>362451.000000</td>\n",
       "      <td>168981.000000</td>\n",
       "      <td>303634.000000</td>\n",
       "      <td>362451.000000</td>\n",
       "    </tr>\n",
       "    <tr>\n",
       "      <th>mean</th>\n",
       "      <td>2012.0</td>\n",
       "      <td>32.638012</td>\n",
       "      <td>1342.847628</td>\n",
       "      <td>992.282985</td>\n",
       "      <td>543.183294</td>\n",
       "    </tr>\n",
       "    <tr>\n",
       "      <th>std</th>\n",
       "      <td>0.0</td>\n",
       "      <td>20.770326</td>\n",
       "      <td>2656.679175</td>\n",
       "      <td>2492.988418</td>\n",
       "      <td>260.364253</td>\n",
       "    </tr>\n",
       "    <tr>\n",
       "      <th>min</th>\n",
       "      <td>2012.0</td>\n",
       "      <td>0.000000</td>\n",
       "      <td>0.000000</td>\n",
       "      <td>0.000000</td>\n",
       "      <td>174.000000</td>\n",
       "    </tr>\n",
       "    <tr>\n",
       "      <th>25%</th>\n",
       "      <td>2012.0</td>\n",
       "      <td>15.000000</td>\n",
       "      <td>622.000000</td>\n",
       "      <td>0.000000</td>\n",
       "      <td>334.000000</td>\n",
       "    </tr>\n",
       "    <tr>\n",
       "      <th>50%</th>\n",
       "      <td>2012.0</td>\n",
       "      <td>30.000000</td>\n",
       "      <td>800.000000</td>\n",
       "      <td>622.000000</td>\n",
       "      <td>522.000000</td>\n",
       "    </tr>\n",
       "    <tr>\n",
       "      <th>75%</th>\n",
       "      <td>2012.0</td>\n",
       "      <td>48.000000</td>\n",
       "      <td>1400.000000</td>\n",
       "      <td>1100.000000</td>\n",
       "      <td>705.000000</td>\n",
       "    </tr>\n",
       "    <tr>\n",
       "      <th>max</th>\n",
       "      <td>2012.0</td>\n",
       "      <td>117.000000</td>\n",
       "      <td>350000.000000</td>\n",
       "      <td>351600.000000</td>\n",
       "      <td>1132.000000</td>\n",
       "    </tr>\n",
       "  </tbody>\n",
       "</table>\n",
       "</div>"
      ],
      "text/plain": [
       "            Ano          Idade  Renda_principal    Renda_total  Peso_amostral\n",
       "count  362451.0  362451.000000    168981.000000  303634.000000  362451.000000\n",
       "mean     2012.0      32.638012      1342.847628     992.282985     543.183294\n",
       "std         0.0      20.770326      2656.679175    2492.988418     260.364253\n",
       "min      2012.0       0.000000         0.000000       0.000000     174.000000\n",
       "25%      2012.0      15.000000       622.000000       0.000000     334.000000\n",
       "50%      2012.0      30.000000       800.000000     622.000000     522.000000\n",
       "75%      2012.0      48.000000      1400.000000    1100.000000     705.000000\n",
       "max      2012.0     117.000000    350000.000000  351600.000000    1132.000000"
      ]
     },
     "execution_count": 83,
     "metadata": {},
     "output_type": "execute_result"
    }
   ],
   "source": [
    "# Agora elas são vistas como números\n",
    "\n",
    "pnad.describe()"
   ]
  },
  {
   "cell_type": "markdown",
   "metadata": {},
   "source": [
    "## 3 - Análises mais complexas (com gráficos)\n",
    "\n",
    "Você pode acessar a segunda parte por esse link:\n",
    "\n",
    "https://github.com/pauloreis-ds/Paulo-Reis-Ciencia-de-dados/tree/master/4%20-%20Visualiza%C3%A7%C3%A3o%20de%20dados%20-%20Data%20Visualization/PNAD\n",
    "\n",
    "    Localização pelos arquivos do Github:\n",
    "    Paulo-Reis-Ciencia-de-dados/4 - Visualização de dados - Data Visualization/PNAD/"
   ]
  }
 ],
 "metadata": {
  "kernelspec": {
   "display_name": "Python 3",
   "language": "python",
   "name": "python3"
  },
  "language_info": {
   "codemirror_mode": {
    "name": "ipython",
    "version": 3
   },
   "file_extension": ".py",
   "mimetype": "text/x-python",
   "name": "python",
   "nbconvert_exporter": "python",
   "pygments_lexer": "ipython3",
   "version": "3.7.6"
  }
 },
 "nbformat": 4,
 "nbformat_minor": 4
}
