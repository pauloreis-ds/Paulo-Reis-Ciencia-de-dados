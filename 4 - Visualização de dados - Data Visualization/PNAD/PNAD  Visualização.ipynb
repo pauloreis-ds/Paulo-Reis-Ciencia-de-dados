{
 "cells": [
  {
   "cell_type": "markdown",
   "metadata": {},
   "source": [
    "# Vizualização de dados da PNAD\n",
    "Pesquisa Nacional por Amostra de Domicílios - PNAD\n",
    "\n",
    "Arquivo com dados: https://github.com/neylsoncrepalde/introducao_ao_r/blob/master/dados/pes_2012.csv?raw=true\n",
    "\n",
    "Link do vídeo que me ajudou: https://www.youtube.com/watch?v=2OXbbgvMrBA&list=WL&index=14&t=183s\n",
    "\n",
    "    \n",
    "    Essa é uma continuação da Análise Exploratória desses mesmos dados. \n",
    "    Você não precisa vê-la se seu interesse é apenas a aplicação das \n",
    "    bibliotecas gráficas. Mas caso queria, aqui está o link para o notebook: \n",
    "\n",
    "\n",
    "https://github.com/pauloreis-ds/Paulo-Reis-Ciencia-de-dados/tree/master/2%20-%20Processamento%20de%20dados%20(Limpeza%20e%20An%C3%A1lise)%20-%20Data%20Processing%20(Wrangling%20-%20Cleaning%20-%20Analysis)/PNAD\n",
    "\n",
    "\n",
    "    ~(*-*~) ~(*-*)~ (~*-*)~\n",
    "    Neste notebook, utilizaremos o poder da visualização para fazermos\n",
    "    algumas análises, além da própria prática e aprendizagem de como\n",
    "    utilizar uma das ferramentas gráficas disponibilizadas para \n",
    "    esse belo trabalho Data Scientifico\n",
    "    ~(*-*~) ~(*-*)~ (~*-*)~    \n",
    "    \n",
    "\n",
    "## Planejamento \n",
    "\n",
    "    1 - Brevissíma introdução aos dados\n",
    "    2 - Gráficos\n",
    "        2.1 Idade e Renda\n",
    "        2.2 Sexo\n",
    "        2.3 Cor da pele\n",
    "        2.4 Cruzando dados - Cor de pele x Sexo\n",
    "        2.5 Média de Renda por Sexo\n",
    "            Média de Renda por Cor da pele\n",
    "        2.6 Desafios da Renda (Voltando ao 1º gráfico)\n",
    "            Agregando os dados\n",
    "                Interação entre idade e renda\n",
    "    3 - Modelos estatísticos\n",
    "    4 - Anos de Escolaridade\n",
    "        4.1 Diferença de escolaridade entre homens e mulheres"
   ]
  },
  {
   "cell_type": "code",
   "execution_count": 12,
   "metadata": {},
   "outputs": [],
   "source": [
    "# Seção imports\n",
    "\n",
    "# manipulação de dados\n",
    "import pandas as pd\n",
    "\n",
    "# gráficos\n",
    "import matplotlib.pyplot as plt\n",
    "import seaborn as sns\n",
    "\n",
    "# Para análise estatística (usaremos na parte 3 do planejamento)\n",
    "import statsmodels.formula.api as smf\n",
    "\n",
    "# Regular Expressions Para limpar ['Anos_de_escolaridade']\n",
    "import re"
   ]
  },
  {
   "cell_type": "markdown",
   "metadata": {},
   "source": [
    "    Obs: o seaborn foi desenvolvido em cima do matplotlib, por isso podemos usá-los juntos\n",
    "    sem nenhuma problemática de interação. Então mesmo utilizando métodos do seaborn para\n",
    "    construir os gráficos (por serem mais fáceis de usar), ainda conseguimos aplicar funções\n",
    "    do matplotlib a eles."
   ]
  },
  {
   "cell_type": "code",
   "execution_count": 13,
   "metadata": {},
   "outputs": [],
   "source": [
    "# Recebendo dados na memória\n",
    "\n",
    "pnad = pd.read_csv('pes_2012_PARTE2.csv')"
   ]
  },
  {
   "cell_type": "markdown",
   "metadata": {},
   "source": [
    "## Brevissíma introdução aos dados"
   ]
  },
  {
   "cell_type": "code",
   "execution_count": 14,
   "metadata": {},
   "outputs": [
    {
     "data": {
      "text/html": [
       "<div>\n",
       "<style scoped>\n",
       "    .dataframe tbody tr th:only-of-type {\n",
       "        vertical-align: middle;\n",
       "    }\n",
       "\n",
       "    .dataframe tbody tr th {\n",
       "        vertical-align: top;\n",
       "    }\n",
       "\n",
       "    .dataframe thead th {\n",
       "        text-align: right;\n",
       "    }\n",
       "</style>\n",
       "<table border=\"1\" class=\"dataframe\">\n",
       "  <thead>\n",
       "    <tr style=\"text-align: right;\">\n",
       "      <th></th>\n",
       "      <th>Unnamed: 0</th>\n",
       "      <th>Ano</th>\n",
       "      <th>UF</th>\n",
       "      <th>Sexo</th>\n",
       "      <th>Idade</th>\n",
       "      <th>Cor_da_pele</th>\n",
       "      <th>Anos_de_escolaridade</th>\n",
       "      <th>Renda_principal</th>\n",
       "      <th>Renda_total</th>\n",
       "      <th>Peso_amostral</th>\n",
       "    </tr>\n",
       "  </thead>\n",
       "  <tbody>\n",
       "    <tr>\n",
       "      <th>0</th>\n",
       "      <td>0</td>\n",
       "      <td>2012</td>\n",
       "      <td>Rondônia</td>\n",
       "      <td>Masculino</td>\n",
       "      <td>48</td>\n",
       "      <td>Branca</td>\n",
       "      <td>15 anos ou mais</td>\n",
       "      <td>3000.0</td>\n",
       "      <td>3000.0</td>\n",
       "      <td>232</td>\n",
       "    </tr>\n",
       "    <tr>\n",
       "      <th>1</th>\n",
       "      <td>1</td>\n",
       "      <td>2012</td>\n",
       "      <td>Rondônia</td>\n",
       "      <td>Feminino</td>\n",
       "      <td>48</td>\n",
       "      <td>Branca</td>\n",
       "      <td>15 anos ou mais</td>\n",
       "      <td>3000.0</td>\n",
       "      <td>3000.0</td>\n",
       "      <td>232</td>\n",
       "    </tr>\n",
       "    <tr>\n",
       "      <th>2</th>\n",
       "      <td>2</td>\n",
       "      <td>2012</td>\n",
       "      <td>Rondônia</td>\n",
       "      <td>Feminino</td>\n",
       "      <td>23</td>\n",
       "      <td>Branca</td>\n",
       "      <td>15 anos ou mais</td>\n",
       "      <td>1100.0</td>\n",
       "      <td>1100.0</td>\n",
       "      <td>232</td>\n",
       "    </tr>\n",
       "    <tr>\n",
       "      <th>3</th>\n",
       "      <td>3</td>\n",
       "      <td>2012</td>\n",
       "      <td>Rondônia</td>\n",
       "      <td>Feminino</td>\n",
       "      <td>21</td>\n",
       "      <td>Branca</td>\n",
       "      <td>14 anos</td>\n",
       "      <td>1100.0</td>\n",
       "      <td>1100.0</td>\n",
       "      <td>232</td>\n",
       "    </tr>\n",
       "    <tr>\n",
       "      <th>4</th>\n",
       "      <td>4</td>\n",
       "      <td>2012</td>\n",
       "      <td>Rondônia</td>\n",
       "      <td>Feminino</td>\n",
       "      <td>54</td>\n",
       "      <td>Branca</td>\n",
       "      <td>15 anos ou mais</td>\n",
       "      <td>NaN</td>\n",
       "      <td>460.0</td>\n",
       "      <td>232</td>\n",
       "    </tr>\n",
       "  </tbody>\n",
       "</table>\n",
       "</div>"
      ],
      "text/plain": [
       "   Unnamed: 0   Ano        UF       Sexo  Idade Cor_da_pele  \\\n",
       "0           0  2012  Rondônia  Masculino     48      Branca   \n",
       "1           1  2012  Rondônia   Feminino     48      Branca   \n",
       "2           2  2012  Rondônia   Feminino     23      Branca   \n",
       "3           3  2012  Rondônia   Feminino     21      Branca   \n",
       "4           4  2012  Rondônia   Feminino     54      Branca   \n",
       "\n",
       "  Anos_de_escolaridade  Renda_principal  Renda_total  Peso_amostral  \n",
       "0      15 anos ou mais           3000.0       3000.0            232  \n",
       "1      15 anos ou mais           3000.0       3000.0            232  \n",
       "2      15 anos ou mais           1100.0       1100.0            232  \n",
       "3              14 anos           1100.0       1100.0            232  \n",
       "4      15 anos ou mais              NaN        460.0            232  "
      ]
     },
     "execution_count": 14,
     "metadata": {},
     "output_type": "execute_result"
    }
   ],
   "source": [
    "pnad.head()"
   ]
  },
  {
   "cell_type": "code",
   "execution_count": 15,
   "metadata": {},
   "outputs": [
    {
     "name": "stdout",
     "output_type": "stream",
     "text": [
      "<class 'pandas.core.frame.DataFrame'>\n",
      "RangeIndex: 362451 entries, 0 to 362450\n",
      "Data columns (total 10 columns):\n",
      " #   Column                Non-Null Count   Dtype  \n",
      "---  ------                --------------   -----  \n",
      " 0   Unnamed: 0            362451 non-null  int64  \n",
      " 1   Ano                   362451 non-null  int64  \n",
      " 2   UF                    362451 non-null  object \n",
      " 3   Sexo                  362451 non-null  object \n",
      " 4   Idade                 362451 non-null  int64  \n",
      " 5   Cor_da_pele           362451 non-null  object \n",
      " 6   Anos_de_escolaridade  362451 non-null  object \n",
      " 7   Renda_principal       168981 non-null  float64\n",
      " 8   Renda_total           303634 non-null  float64\n",
      " 9   Peso_amostral         362451 non-null  int64  \n",
      "dtypes: float64(2), int64(4), object(4)\n",
      "memory usage: 27.7+ MB\n"
     ]
    }
   ],
   "source": [
    "# Breve descrição dos dados, para você se situar\n",
    "'''\n",
    "    Há valores nulos (lidaremos com eles, caso seja necessário)\n",
    "    e uma coluna desnecessária.    \n",
    "'''\n",
    "\n",
    "pnad.info()"
   ]
  },
  {
   "cell_type": "code",
   "execution_count": 16,
   "metadata": {},
   "outputs": [
    {
     "data": {
      "text/html": [
       "<div>\n",
       "<style scoped>\n",
       "    .dataframe tbody tr th:only-of-type {\n",
       "        vertical-align: middle;\n",
       "    }\n",
       "\n",
       "    .dataframe tbody tr th {\n",
       "        vertical-align: top;\n",
       "    }\n",
       "\n",
       "    .dataframe thead th {\n",
       "        text-align: right;\n",
       "    }\n",
       "</style>\n",
       "<table border=\"1\" class=\"dataframe\">\n",
       "  <thead>\n",
       "    <tr style=\"text-align: right;\">\n",
       "      <th></th>\n",
       "      <th>Ano</th>\n",
       "      <th>UF</th>\n",
       "      <th>Sexo</th>\n",
       "      <th>Idade</th>\n",
       "      <th>Cor_da_pele</th>\n",
       "      <th>Anos_de_escolaridade</th>\n",
       "      <th>Renda_principal</th>\n",
       "      <th>Renda_total</th>\n",
       "      <th>Peso_amostral</th>\n",
       "    </tr>\n",
       "  </thead>\n",
       "  <tbody>\n",
       "    <tr>\n",
       "      <th>0</th>\n",
       "      <td>2012</td>\n",
       "      <td>Rondônia</td>\n",
       "      <td>Masculino</td>\n",
       "      <td>48</td>\n",
       "      <td>Branca</td>\n",
       "      <td>15 anos ou mais</td>\n",
       "      <td>3000.0</td>\n",
       "      <td>3000.0</td>\n",
       "      <td>232</td>\n",
       "    </tr>\n",
       "  </tbody>\n",
       "</table>\n",
       "</div>"
      ],
      "text/plain": [
       "    Ano        UF       Sexo  Idade Cor_da_pele Anos_de_escolaridade  \\\n",
       "0  2012  Rondônia  Masculino     48      Branca      15 anos ou mais   \n",
       "\n",
       "   Renda_principal  Renda_total  Peso_amostral  \n",
       "0           3000.0       3000.0            232  "
      ]
     },
     "execution_count": 16,
     "metadata": {},
     "output_type": "execute_result"
    }
   ],
   "source": [
    "# Removendo a coluna desnecessária, já que ela é um índice que já temos\n",
    "pnad.drop(columns='Unnamed: 0', inplace=True)\n",
    "pnad.head(1)"
   ]
  },
  {
   "cell_type": "markdown",
   "metadata": {},
   "source": [
    "## 2 - Gráficos\n",
    "### 2.1 - Idade e renda"
   ]
  },
  {
   "cell_type": "code",
   "execution_count": 17,
   "metadata": {},
   "outputs": [],
   "source": [
    "# Definindo um estilo para os gráficos ficarem mais bonitos\n",
    "\n",
    "sns.set(style='whitegrid')"
   ]
  },
  {
   "cell_type": "code",
   "execution_count": 18,
   "metadata": {},
   "outputs": [
    {
     "data": {
      "image/png": "[encoded data removed]",
      "text/plain": [
       "<Figure size 432x288 with 1 Axes>"
      ]
     },
     "metadata": {},
     "output_type": "display_data"
    }
   ],
   "source": [
    "'''\n",
    "    Criando um gráfico de dispersão. Ele precisa de 2 parâmetros: o eixo X e o eixo Y. \n",
    "   \n",
    "       Y  (Vertical)\n",
    "       |\n",
    "       |\n",
    "       |_______ X  (horizontal)\n",
    "\n",
    "'''\n",
    "\n",
    "plt.scatter(x = pnad.Idade, y = pnad.Renda_principal)\n",
    "\n",
    "# Adiciona o título ao gráfico\n",
    "plt.title('Interação entre idade e renda')\n",
    "\n",
    "# \"Plotando\" o gráfico\n",
    "plt.show()"
   ]
  },
  {
   "cell_type": "markdown",
   "metadata": {},
   "source": [
    "    Olhando rapidamente para .describe() [célula abaixo], podemos perceber que\n",
    "    nosso gráfico está cheio de 'sujeiras'/outliers, em outras palavras, valores \n",
    "    atípicos. Isso porque queremos analisar o comportamento ou o histórico ou os \n",
    "    dados da maior quantidade de (por exemplo) cliente possível, para saber como \n",
    "    reagir a essa maioria. \n",
    "    \n",
    "    Estudar as exceções (nesse caso) não é o que queremos. \n",
    "    A média da renda principal é 1342. E a mediana(50%) nos mostra que metade das pessoas\n",
    "    ganhavam até 800. Por isso a parte inferior do gráfico é tão densa.\n",
    "    \n",
    "    Porém, entretanto, todavia... até 75% das pessoas ganhavam 1400. Mas claramente,\n",
    "    ao olharmos para a '75ª' parte do gráfico, não vemos um valor de 1400 no eixo Y\n",
    "       \n",
    "                Y\n",
    "                |\n",
    "    75% - 240mil|\n",
    "                |\n",
    "    50% - 170mil|\n",
    "                |\n",
    "    0%          |___________________\n",
    "    \n",
    "    \n",
    "    OU SEJA, algumas poucas pessoas que têm rendimentos Muito altos atrapalham \n",
    "    na visualização dos casos mais 'reais', que são mais prováveis de se acontecer.    "
   ]
  },
  {
   "cell_type": "code",
   "execution_count": 19,
   "metadata": {},
   "outputs": [
    {
     "data": {
      "text/html": [
       "<div>\n",
       "<style scoped>\n",
       "    .dataframe tbody tr th:only-of-type {\n",
       "        vertical-align: middle;\n",
       "    }\n",
       "\n",
       "    .dataframe tbody tr th {\n",
       "        vertical-align: top;\n",
       "    }\n",
       "\n",
       "    .dataframe thead th {\n",
       "        text-align: right;\n",
       "    }\n",
       "</style>\n",
       "<table border=\"1\" class=\"dataframe\">\n",
       "  <thead>\n",
       "    <tr style=\"text-align: right;\">\n",
       "      <th></th>\n",
       "      <th>Ano</th>\n",
       "      <th>Idade</th>\n",
       "      <th>Renda_principal</th>\n",
       "      <th>Renda_total</th>\n",
       "      <th>Peso_amostral</th>\n",
       "    </tr>\n",
       "  </thead>\n",
       "  <tbody>\n",
       "    <tr>\n",
       "      <th>count</th>\n",
       "      <td>362451.0</td>\n",
       "      <td>362451.000000</td>\n",
       "      <td>168981.000000</td>\n",
       "      <td>303634.000000</td>\n",
       "      <td>362451.000000</td>\n",
       "    </tr>\n",
       "    <tr>\n",
       "      <th>mean</th>\n",
       "      <td>2012.0</td>\n",
       "      <td>32.638012</td>\n",
       "      <td>1342.847628</td>\n",
       "      <td>992.282985</td>\n",
       "      <td>543.183294</td>\n",
       "    </tr>\n",
       "    <tr>\n",
       "      <th>std</th>\n",
       "      <td>0.0</td>\n",
       "      <td>20.770326</td>\n",
       "      <td>2656.679175</td>\n",
       "      <td>2492.988418</td>\n",
       "      <td>260.364253</td>\n",
       "    </tr>\n",
       "    <tr>\n",
       "      <th>min</th>\n",
       "      <td>2012.0</td>\n",
       "      <td>0.000000</td>\n",
       "      <td>0.000000</td>\n",
       "      <td>0.000000</td>\n",
       "      <td>174.000000</td>\n",
       "    </tr>\n",
       "    <tr>\n",
       "      <th>25%</th>\n",
       "      <td>2012.0</td>\n",
       "      <td>15.000000</td>\n",
       "      <td>622.000000</td>\n",
       "      <td>0.000000</td>\n",
       "      <td>334.000000</td>\n",
       "    </tr>\n",
       "    <tr>\n",
       "      <th>50%</th>\n",
       "      <td>2012.0</td>\n",
       "      <td>30.000000</td>\n",
       "      <td>800.000000</td>\n",
       "      <td>622.000000</td>\n",
       "      <td>522.000000</td>\n",
       "    </tr>\n",
       "    <tr>\n",
       "      <th>75%</th>\n",
       "      <td>2012.0</td>\n",
       "      <td>48.000000</td>\n",
       "      <td>1400.000000</td>\n",
       "      <td>1100.000000</td>\n",
       "      <td>705.000000</td>\n",
       "    </tr>\n",
       "    <tr>\n",
       "      <th>max</th>\n",
       "      <td>2012.0</td>\n",
       "      <td>117.000000</td>\n",
       "      <td>350000.000000</td>\n",
       "      <td>351600.000000</td>\n",
       "      <td>1132.000000</td>\n",
       "    </tr>\n",
       "  </tbody>\n",
       "</table>\n",
       "</div>"
      ],
      "text/plain": [
       "            Ano          Idade  Renda_principal    Renda_total  Peso_amostral\n",
       "count  362451.0  362451.000000    168981.000000  303634.000000  362451.000000\n",
       "mean     2012.0      32.638012      1342.847628     992.282985     543.183294\n",
       "std         0.0      20.770326      2656.679175    2492.988418     260.364253\n",
       "min      2012.0       0.000000         0.000000       0.000000     174.000000\n",
       "25%      2012.0      15.000000       622.000000       0.000000     334.000000\n",
       "50%      2012.0      30.000000       800.000000     622.000000     522.000000\n",
       "75%      2012.0      48.000000      1400.000000    1100.000000     705.000000\n",
       "max      2012.0     117.000000    350000.000000  351600.000000    1132.000000"
      ]
     },
     "execution_count": 19,
     "metadata": {},
     "output_type": "execute_result"
    }
   ],
   "source": [
    "pnad.describe()"
   ]
  },
  {
   "cell_type": "markdown",
   "metadata": {},
   "source": [
    "    Antes de solucionarmos essa problemática um pouco mais complexa,\n",
    "    vamos compreender alguns pontos mais simples (inclusive da sintax\n",
    "    das bibliotecas)\n",
    "### 2.2 Sexo"
   ]
  },
  {
   "cell_type": "code",
   "execution_count": 20,
   "metadata": {},
   "outputs": [
    {
     "data": {
      "image/png": "[encoded data removed]",
      "text/plain": [
       "<Figure size 432x288 with 1 Axes>"
      ]
     },
     "metadata": {},
     "output_type": "display_data"
    }
   ],
   "source": [
    "# Um histograma que mostra a quantidade de homens e mulheres\n",
    "\n",
    "sns.countplot(pnad.Sexo)\n",
    "plt.title('Sexo')\n",
    "plt.show()"
   ]
  },
  {
   "cell_type": "code",
   "execution_count": 22,
   "metadata": {},
   "outputs": [
    {
     "data": {
      "image/png": "[encoded data removed]",
      "text/plain": [
       "<Figure size 432x432 with 1 Axes>"
      ]
     },
     "metadata": {},
     "output_type": "display_data"
    }
   ],
   "source": [
    "'''\n",
    "    Para deixá-lo mais informativo, podemos mudar o nome dos eixos\n",
    "    com as funções xlabel() e ylabel() --> label = rótulo, etiqueta.\n",
    "    E alterar a dimensão da figura com  plt.figure(figsize=()) no \n",
    "    início do código do gráfico.\n",
    "\n",
    "'''\n",
    "\n",
    "plt.figure(figsize=(6,6))    # novo\n",
    "\n",
    "sns.countplot(pnad.Sexo)\n",
    "\n",
    "plt.title('Sexo')\n",
    "plt.xlabel('Gênero')    # novo\n",
    "plt.ylabel('Quantidade de Pessoas')    # novo\n",
    "\n",
    "plt.show()"
   ]
  },
  {
   "cell_type": "markdown",
   "metadata": {},
   "source": [
    "### 2.3 Cor da pele\n",
    "    Como temos mais categorias de classificação, o histograma\n",
    "    parece ser um pouco \"melhor utilizado\"/ mais atraente. Apenas \n",
    "    uma impressão minha, já que, na verdade, o uso dos tipos de \n",
    "    gráficos em relação aos tipos de dados varia de acordo com \n",
    "    o que mais se adequa à situação."
   ]
  },
  {
   "cell_type": "code",
   "execution_count": 23,
   "metadata": {},
   "outputs": [
    {
     "data": {
      "image/png": "[encoded data removed]",
      "text/plain": [
       "<Figure size 720x432 with 1 Axes>"
      ]
     },
     "metadata": {},
     "output_type": "display_data"
    }
   ],
   "source": [
    "plt.figure(figsize=(10,6))    \n",
    "sns.countplot(pnad.Cor_da_pele)\n",
    "\n",
    "plt.title('Sexo')\n",
    "# plt.xlabel('Cor da pele')    # Perceba que sem o 'label' o nome da coluna é utilizado.\n",
    "plt.ylabel('Quantidade de Pessoas')\n",
    "\n",
    "plt.show()"
   ]
  },
  {
   "cell_type": "markdown",
   "metadata": {},
   "source": [
    "### 2.4 Cruzando dados - Cor de pele x Sexo\n",
    "    Podemos também cruzar os dois gráficos para formar 1\n",
    "    com informações sobre as duas observações."
   ]
  },
  {
   "cell_type": "code",
   "execution_count": 24,
   "metadata": {},
   "outputs": [
    {
     "data": {
      "image/png": "[encoded data removed]",
      "text/plain": [
       "<Figure size 720x432 with 1 Axes>"
      ]
     },
     "metadata": {},
     "output_type": "display_data"
    }
   ],
   "source": [
    "'''\n",
    "    Nesse caso, queremos que o eixo Y (vertical) seja a quantidade de pessoas.\n",
    "        Logo, não adicionamos parâmetro y, pois ele já está utilizando a \n",
    "        quantidade de pessoas.\n",
    "    \n",
    "    No eixo x, queremos manter a cor de pele como a classe separadora\n",
    "    Mas queremos que em cada categoria de pele, haja uma subdivisão entre\n",
    "    os sexos.\n",
    "        Assim sendo, assinamos o parâmetro 'hue' como sendo a coluna/as categorias\n",
    "        da subdivisão (Sexo).\n",
    "    \n",
    "    ps: o parâmetro hue determina qual coluna no quadro de dados deve ser usada \n",
    "    para codificação de cores.\n",
    "'''\n",
    "plt.figure(figsize=(10,6))    \n",
    "\n",
    "sns.countplot(pnad.Cor_da_pele, hue=pnad.Sexo)\n",
    "\n",
    "plt.show()"
   ]
  },
  {
   "cell_type": "code",
   "execution_count": 25,
   "metadata": {},
   "outputs": [
    {
     "data": {
      "image/png": "[encoded data removed]",
      "text/plain": [
       "<Figure size 576x432 with 1 Axes>"
      ]
     },
     "metadata": {},
     "output_type": "display_data"
    }
   ],
   "source": [
    "# Veja o que ocorre ao invertermos o eixo x com o hue\n",
    "plt.figure(figsize=(8,6))    \n",
    "\n",
    "sns.countplot(pnad.Sexo, hue=pnad.Cor_da_pele)\n",
    "\n",
    "plt.show()"
   ]
  },
  {
   "cell_type": "markdown",
   "metadata": {},
   "source": [
    "### 2.5 Média de Renda por Sexo\n",
    "    Horror à primeira vista. Como você vê, os outliers (pontos fora da curva)\n",
    "    atrapalham e muito na visão e até interpretação do boxplot. Já que eles\n",
    "    têm uma renda imensamente maior que a maioria das pessoas.\n",
    "    _____\n",
    "      |\n",
    "     _|_\n",
    "    |   |\n",
    "    |   |\n",
    "    |___|\n",
    "      |\n",
    "    __|__"
   ]
  },
  {
   "cell_type": "code",
   "execution_count": 26,
   "metadata": {},
   "outputs": [
    {
     "data": {
      "image/png": "[encoded data removed]",
      "text/plain": [
       "<Figure size 432x288 with 1 Axes>"
      ]
     },
     "metadata": {},
     "output_type": "display_data"
    }
   ],
   "source": [
    "# Tente apreciar\n",
    "\n",
    "sns.boxplot(pnad.Sexo, pnad.Renda_principal)\n",
    "plt.show()"
   ]
  },
  {
   "cell_type": "code",
   "execution_count": 27,
   "metadata": {},
   "outputs": [
    {
     "data": {
      "image/png": "[encoded data removed]",
      "text/plain": [
       "<Figure size 432x432 with 1 Axes>"
      ]
     },
     "metadata": {},
     "output_type": "display_data"
    }
   ],
   "source": [
    "'''\n",
    "    Para tentar contornar isso, podemos definir limites no eixo Y\n",
    "    com plt.ylim()   y limit (minimo, máximo)\n",
    "    Se antes a renda variava de 0 a 350mil\n",
    "    Façamos a ir de 0 a 3 mil\n",
    "    \n",
    "    Podemos perceber os homens estão com uma média salárial maior que as mulheres\n",
    "'''\n",
    "plt.figure(figsize=(6,6))    \n",
    "\n",
    "sns.boxplot(pnad.Sexo, pnad.Renda_principal)\n",
    "plt.ylim(0,3000)    # novo\n",
    "plt.show()"
   ]
  },
  {
   "cell_type": "markdown",
   "metadata": {},
   "source": [
    "####  Média de Renda por Cor da pele "
   ]
  },
  {
   "cell_type": "code",
   "execution_count": 28,
   "metadata": {},
   "outputs": [
    {
     "data": {
      "image/png": "[encoded data removed]",
      "text/plain": [
       "<Figure size 720x432 with 1 Axes>"
      ]
     },
     "metadata": {},
     "output_type": "display_data"
    }
   ],
   "source": [
    "'''\n",
    "    Os 'amarelos' têm a distribuição de renda mais alta,\n",
    "    seguida dos 'brancos' e os indígenas tendo a menor média\n",
    "    salarial.\n",
    "'''\n",
    "plt.figure(figsize=(10,6))    \n",
    "\n",
    "sns.boxplot(pnad.Cor_da_pele, pnad.Renda_principal)    #Alteração\n",
    "plt.ylim(0,4000)    # Alteração\n",
    "plt.show()"
   ]
  },
  {
   "cell_type": "code",
   "execution_count": 29,
   "metadata": {
    "scrolled": false
   },
   "outputs": [
    {
     "data": {
      "image/png": "[encoded data removed]",
      "text/plain": [
       "<Figure size 864x504 with 1 Axes>"
      ]
     },
     "metadata": {},
     "output_type": "display_data"
    }
   ],
   "source": [
    "'''\n",
    "        Agora, vamos colocar no eixo _X_ (horizontal) a divisão por Sexo.\n",
    "        No eixo |Y| (vertical) queremos o valor do salário principal.\n",
    "        E na subdivisão, vamos utilizar a cor da pele\n",
    "        \n",
    "        sns.boxplot( X, Y, hue)\n",
    "        \n",
    "        Confirmaremos ainda mais que os homens estão com uma dispersão \n",
    "        salarial, além da média, maior que as mulheres.\n",
    "        \n",
    "'''\n",
    "\n",
    "# Aumentanto o tamanho da figura\n",
    "plt.figure(figsize=(12,7))\n",
    "\n",
    "sns.boxplot(pnad.Sexo, pnad.Renda_principal, hue=pnad.Cor_da_pele)    #Alteração\n",
    "plt.ylim(0,4000)    # Alteração\n",
    "plt.show()"
   ]
  },
  {
   "cell_type": "markdown",
   "metadata": {},
   "source": [
    "### 2.6 Desafios da Renda (Voltando ao 1º gráfico)\n",
    "        Abaixo vemos que idade vai de 0 (mínima) a 117 (máxima) anos. \n",
    "        Porém, não faz sentido avaliar o salário de um bebê ou de uma\n",
    "        criança de 12 anos. Por isso, o ideal é selecionarmos um range\n",
    "        com o qual trablhar.\n",
    "        \n"
   ]
  },
  {
   "cell_type": "code",
   "execution_count": 30,
   "metadata": {},
   "outputs": [
    {
     "data": {
      "text/html": [
       "<div>\n",
       "<style scoped>\n",
       "    .dataframe tbody tr th:only-of-type {\n",
       "        vertical-align: middle;\n",
       "    }\n",
       "\n",
       "    .dataframe tbody tr th {\n",
       "        vertical-align: top;\n",
       "    }\n",
       "\n",
       "    .dataframe thead th {\n",
       "        text-align: right;\n",
       "    }\n",
       "</style>\n",
       "<table border=\"1\" class=\"dataframe\">\n",
       "  <thead>\n",
       "    <tr style=\"text-align: right;\">\n",
       "      <th></th>\n",
       "      <th>Ano</th>\n",
       "      <th>Idade</th>\n",
       "      <th>Renda_principal</th>\n",
       "      <th>Renda_total</th>\n",
       "      <th>Peso_amostral</th>\n",
       "    </tr>\n",
       "  </thead>\n",
       "  <tbody>\n",
       "    <tr>\n",
       "      <th>count</th>\n",
       "      <td>362451.0</td>\n",
       "      <td>362451.000000</td>\n",
       "      <td>168981.000000</td>\n",
       "      <td>303634.000000</td>\n",
       "      <td>362451.000000</td>\n",
       "    </tr>\n",
       "    <tr>\n",
       "      <th>mean</th>\n",
       "      <td>2012.0</td>\n",
       "      <td>32.638012</td>\n",
       "      <td>1342.847628</td>\n",
       "      <td>992.282985</td>\n",
       "      <td>543.183294</td>\n",
       "    </tr>\n",
       "    <tr>\n",
       "      <th>std</th>\n",
       "      <td>0.0</td>\n",
       "      <td>20.770326</td>\n",
       "      <td>2656.679175</td>\n",
       "      <td>2492.988418</td>\n",
       "      <td>260.364253</td>\n",
       "    </tr>\n",
       "    <tr>\n",
       "      <th>min</th>\n",
       "      <td>2012.0</td>\n",
       "      <td>0.000000</td>\n",
       "      <td>0.000000</td>\n",
       "      <td>0.000000</td>\n",
       "      <td>174.000000</td>\n",
       "    </tr>\n",
       "    <tr>\n",
       "      <th>25%</th>\n",
       "      <td>2012.0</td>\n",
       "      <td>15.000000</td>\n",
       "      <td>622.000000</td>\n",
       "      <td>0.000000</td>\n",
       "      <td>334.000000</td>\n",
       "    </tr>\n",
       "    <tr>\n",
       "      <th>50%</th>\n",
       "      <td>2012.0</td>\n",
       "      <td>30.000000</td>\n",
       "      <td>800.000000</td>\n",
       "      <td>622.000000</td>\n",
       "      <td>522.000000</td>\n",
       "    </tr>\n",
       "    <tr>\n",
       "      <th>75%</th>\n",
       "      <td>2012.0</td>\n",
       "      <td>48.000000</td>\n",
       "      <td>1400.000000</td>\n",
       "      <td>1100.000000</td>\n",
       "      <td>705.000000</td>\n",
       "    </tr>\n",
       "    <tr>\n",
       "      <th>max</th>\n",
       "      <td>2012.0</td>\n",
       "      <td>117.000000</td>\n",
       "      <td>350000.000000</td>\n",
       "      <td>351600.000000</td>\n",
       "      <td>1132.000000</td>\n",
       "    </tr>\n",
       "  </tbody>\n",
       "</table>\n",
       "</div>"
      ],
      "text/plain": [
       "            Ano          Idade  Renda_principal    Renda_total  Peso_amostral\n",
       "count  362451.0  362451.000000    168981.000000  303634.000000  362451.000000\n",
       "mean     2012.0      32.638012      1342.847628     992.282985     543.183294\n",
       "std         0.0      20.770326      2656.679175    2492.988418     260.364253\n",
       "min      2012.0       0.000000         0.000000       0.000000     174.000000\n",
       "25%      2012.0      15.000000       622.000000       0.000000     334.000000\n",
       "50%      2012.0      30.000000       800.000000     622.000000     522.000000\n",
       "75%      2012.0      48.000000      1400.000000    1100.000000     705.000000\n",
       "max      2012.0     117.000000    350000.000000  351600.000000    1132.000000"
      ]
     },
     "execution_count": 30,
     "metadata": {},
     "output_type": "execute_result"
    }
   ],
   "source": [
    "pnad.describe()"
   ]
  },
  {
   "cell_type": "code",
   "execution_count": 31,
   "metadata": {},
   "outputs": [
    {
     "data": {
      "text/plain": [
       "(253553, 9)"
      ]
     },
     "execution_count": 31,
     "metadata": {},
     "output_type": "execute_result"
    }
   ],
   "source": [
    "# Então vamos extrair uma subamostra de pessoas entre 18 e 80 anos\n",
    "'''\n",
    "    Com o .loc[] conseguiremos condicionar e escolher os dados que queremos\n",
    "    \n",
    "    Senhor .loc,  me dê as pessoas que são de idade\n",
    "    \n",
    "    [ (maior ou igual a 18 anos) e (menor ou igual a 80) ]\n",
    "    \n",
    "'''\n",
    "\n",
    "idade_de_18_a_80 = pnad.loc[(pnad.Idade >= 18) & (pnad.Idade <=80)]\n",
    "idade_de_18_a_80.shape"
   ]
  },
  {
   "cell_type": "code",
   "execution_count": 32,
   "metadata": {},
   "outputs": [
    {
     "data": {
      "text/html": [
       "<div>\n",
       "<style scoped>\n",
       "    .dataframe tbody tr th:only-of-type {\n",
       "        vertical-align: middle;\n",
       "    }\n",
       "\n",
       "    .dataframe tbody tr th {\n",
       "        vertical-align: top;\n",
       "    }\n",
       "\n",
       "    .dataframe thead th {\n",
       "        text-align: right;\n",
       "    }\n",
       "</style>\n",
       "<table border=\"1\" class=\"dataframe\">\n",
       "  <thead>\n",
       "    <tr style=\"text-align: right;\">\n",
       "      <th></th>\n",
       "      <th>Ano</th>\n",
       "      <th>Idade</th>\n",
       "      <th>Renda_principal</th>\n",
       "      <th>Renda_total</th>\n",
       "      <th>Peso_amostral</th>\n",
       "    </tr>\n",
       "  </thead>\n",
       "  <tbody>\n",
       "    <tr>\n",
       "      <th>count</th>\n",
       "      <td>253553.0</td>\n",
       "      <td>253553.000000</td>\n",
       "      <td>162489.000000</td>\n",
       "      <td>247915.000000</td>\n",
       "      <td>253553.000000</td>\n",
       "    </tr>\n",
       "    <tr>\n",
       "      <th>mean</th>\n",
       "      <td>2012.0</td>\n",
       "      <td>41.243267</td>\n",
       "      <td>1383.663325</td>\n",
       "      <td>1179.231043</td>\n",
       "      <td>546.483579</td>\n",
       "    </tr>\n",
       "    <tr>\n",
       "      <th>std</th>\n",
       "      <td>0.0</td>\n",
       "      <td>15.734264</td>\n",
       "      <td>2697.002431</td>\n",
       "      <td>2702.889707</td>\n",
       "      <td>262.830921</td>\n",
       "    </tr>\n",
       "    <tr>\n",
       "      <th>min</th>\n",
       "      <td>2012.0</td>\n",
       "      <td>18.000000</td>\n",
       "      <td>0.000000</td>\n",
       "      <td>0.000000</td>\n",
       "      <td>174.000000</td>\n",
       "    </tr>\n",
       "    <tr>\n",
       "      <th>25%</th>\n",
       "      <td>2012.0</td>\n",
       "      <td>28.000000</td>\n",
       "      <td>622.000000</td>\n",
       "      <td>216.000000</td>\n",
       "      <td>334.000000</td>\n",
       "    </tr>\n",
       "    <tr>\n",
       "      <th>50%</th>\n",
       "      <td>2012.0</td>\n",
       "      <td>39.000000</td>\n",
       "      <td>800.000000</td>\n",
       "      <td>675.000000</td>\n",
       "      <td>523.000000</td>\n",
       "    </tr>\n",
       "    <tr>\n",
       "      <th>75%</th>\n",
       "      <td>2012.0</td>\n",
       "      <td>53.000000</td>\n",
       "      <td>1500.000000</td>\n",
       "      <td>1244.000000</td>\n",
       "      <td>705.000000</td>\n",
       "    </tr>\n",
       "    <tr>\n",
       "      <th>max</th>\n",
       "      <td>2012.0</td>\n",
       "      <td>80.000000</td>\n",
       "      <td>350000.000000</td>\n",
       "      <td>351600.000000</td>\n",
       "      <td>1132.000000</td>\n",
       "    </tr>\n",
       "  </tbody>\n",
       "</table>\n",
       "</div>"
      ],
      "text/plain": [
       "            Ano          Idade  Renda_principal    Renda_total  Peso_amostral\n",
       "count  253553.0  253553.000000    162489.000000  247915.000000  253553.000000\n",
       "mean     2012.0      41.243267      1383.663325    1179.231043     546.483579\n",
       "std         0.0      15.734264      2697.002431    2702.889707     262.830921\n",
       "min      2012.0      18.000000         0.000000       0.000000     174.000000\n",
       "25%      2012.0      28.000000       622.000000     216.000000     334.000000\n",
       "50%      2012.0      39.000000       800.000000     675.000000     523.000000\n",
       "75%      2012.0      53.000000      1500.000000    1244.000000     705.000000\n",
       "max      2012.0      80.000000    350000.000000  351600.000000    1132.000000"
      ]
     },
     "execution_count": 32,
     "metadata": {},
     "output_type": "execute_result"
    }
   ],
   "source": [
    "'''\n",
    "    A descrição mudou um pouco, mas ainda há alguns fatores para minerarmos.\n",
    "    Não há um motivo específico para analisarmos pessoas com renda igual a 0.\n",
    "        Então, por hora, vamos removê-las desta análise.\n",
    "''' \n",
    "\n",
    "idade_de_18_a_80.describe()"
   ]
  },
  {
   "cell_type": "code",
   "execution_count": 33,
   "metadata": {},
   "outputs": [
    {
     "data": {
      "text/plain": [
       "(152465, 9)"
      ]
     },
     "execution_count": 33,
     "metadata": {},
     "output_type": "execute_result"
    }
   ],
   "source": [
    "idade_de_18_a_80 = pnad.loc[(pnad.Idade >= 18) & (pnad.Idade <=80) & (pnad.Renda_principal > 0)]\n",
    "idade_de_18_a_80.shape"
   ]
  },
  {
   "cell_type": "code",
   "execution_count": 34,
   "metadata": {},
   "outputs": [
    {
     "data": {
      "text/html": [
       "<div>\n",
       "<style scoped>\n",
       "    .dataframe tbody tr th:only-of-type {\n",
       "        vertical-align: middle;\n",
       "    }\n",
       "\n",
       "    .dataframe tbody tr th {\n",
       "        vertical-align: top;\n",
       "    }\n",
       "\n",
       "    .dataframe thead th {\n",
       "        text-align: right;\n",
       "    }\n",
       "</style>\n",
       "<table border=\"1\" class=\"dataframe\">\n",
       "  <thead>\n",
       "    <tr style=\"text-align: right;\">\n",
       "      <th></th>\n",
       "      <th>Ano</th>\n",
       "      <th>Idade</th>\n",
       "      <th>Renda_principal</th>\n",
       "      <th>Renda_total</th>\n",
       "      <th>Peso_amostral</th>\n",
       "    </tr>\n",
       "  </thead>\n",
       "  <tbody>\n",
       "    <tr>\n",
       "      <th>count</th>\n",
       "      <td>152465.0</td>\n",
       "      <td>152465.000000</td>\n",
       "      <td>152465.000000</td>\n",
       "      <td>152045.000000</td>\n",
       "      <td>152465.000000</td>\n",
       "    </tr>\n",
       "    <tr>\n",
       "      <th>mean</th>\n",
       "      <td>2012.0</td>\n",
       "      <td>38.306818</td>\n",
       "      <td>1474.633982</td>\n",
       "      <td>1619.577362</td>\n",
       "      <td>543.260643</td>\n",
       "    </tr>\n",
       "    <tr>\n",
       "      <th>std</th>\n",
       "      <td>0.0</td>\n",
       "      <td>12.669668</td>\n",
       "      <td>2760.054778</td>\n",
       "      <td>3249.729116</td>\n",
       "      <td>265.643859</td>\n",
       "    </tr>\n",
       "    <tr>\n",
       "      <th>min</th>\n",
       "      <td>2012.0</td>\n",
       "      <td>18.000000</td>\n",
       "      <td>1.000000</td>\n",
       "      <td>1.000000</td>\n",
       "      <td>174.000000</td>\n",
       "    </tr>\n",
       "    <tr>\n",
       "      <th>25%</th>\n",
       "      <td>2012.0</td>\n",
       "      <td>28.000000</td>\n",
       "      <td>622.000000</td>\n",
       "      <td>622.000000</td>\n",
       "      <td>333.000000</td>\n",
       "    </tr>\n",
       "    <tr>\n",
       "      <th>50%</th>\n",
       "      <td>2012.0</td>\n",
       "      <td>37.000000</td>\n",
       "      <td>900.000000</td>\n",
       "      <td>950.000000</td>\n",
       "      <td>494.000000</td>\n",
       "    </tr>\n",
       "    <tr>\n",
       "      <th>75%</th>\n",
       "      <td>2012.0</td>\n",
       "      <td>47.000000</td>\n",
       "      <td>1500.000000</td>\n",
       "      <td>1600.000000</td>\n",
       "      <td>689.000000</td>\n",
       "    </tr>\n",
       "    <tr>\n",
       "      <th>max</th>\n",
       "      <td>2012.0</td>\n",
       "      <td>80.000000</td>\n",
       "      <td>350000.000000</td>\n",
       "      <td>351600.000000</td>\n",
       "      <td>1132.000000</td>\n",
       "    </tr>\n",
       "  </tbody>\n",
       "</table>\n",
       "</div>"
      ],
      "text/plain": [
       "            Ano          Idade  Renda_principal    Renda_total  Peso_amostral\n",
       "count  152465.0  152465.000000    152465.000000  152045.000000  152465.000000\n",
       "mean     2012.0      38.306818      1474.633982    1619.577362     543.260643\n",
       "std         0.0      12.669668      2760.054778    3249.729116     265.643859\n",
       "min      2012.0      18.000000         1.000000       1.000000     174.000000\n",
       "25%      2012.0      28.000000       622.000000     622.000000     333.000000\n",
       "50%      2012.0      37.000000       900.000000     950.000000     494.000000\n",
       "75%      2012.0      47.000000      1500.000000    1600.000000     689.000000\n",
       "max      2012.0      80.000000    350000.000000  351600.000000    1132.000000"
      ]
     },
     "execution_count": 34,
     "metadata": {},
     "output_type": "execute_result"
    }
   ],
   "source": [
    "'''\n",
    "    Perceba que considerando apenas as pessoas com renda, a média (mean)\n",
    "    sobe, já que não há valores 0 sendo somados.\n",
    "'''\n",
    "idade_de_18_a_80.describe()"
   ]
  },
  {
   "cell_type": "markdown",
   "metadata": {},
   "source": [
    "#### Agregando os dados \n",
    "    .agg() nos permite usar uma ou mais operações no eixo especificado (linhas ou colunas).\n",
    "    \n",
    "    Para você entender melhor, olhe para o exemplo a seguir"
   ]
  },
  {
   "cell_type": "code",
   "execution_count": 35,
   "metadata": {},
   "outputs": [
    {
     "data": {
      "text/html": [
       "<div>\n",
       "<style scoped>\n",
       "    .dataframe tbody tr th:only-of-type {\n",
       "        vertical-align: middle;\n",
       "    }\n",
       "\n",
       "    .dataframe tbody tr th {\n",
       "        vertical-align: top;\n",
       "    }\n",
       "\n",
       "    .dataframe thead th {\n",
       "        text-align: right;\n",
       "    }\n",
       "</style>\n",
       "<table border=\"1\" class=\"dataframe\">\n",
       "  <thead>\n",
       "    <tr style=\"text-align: right;\">\n",
       "      <th></th>\n",
       "      <th>A</th>\n",
       "      <th>B</th>\n",
       "      <th>C</th>\n",
       "    </tr>\n",
       "  </thead>\n",
       "  <tbody>\n",
       "    <tr>\n",
       "      <th>0</th>\n",
       "      <td>1</td>\n",
       "      <td>2</td>\n",
       "      <td>3</td>\n",
       "    </tr>\n",
       "    <tr>\n",
       "      <th>1</th>\n",
       "      <td>4</td>\n",
       "      <td>5</td>\n",
       "      <td>6</td>\n",
       "    </tr>\n",
       "    <tr>\n",
       "      <th>2</th>\n",
       "      <td>7</td>\n",
       "      <td>8</td>\n",
       "      <td>9</td>\n",
       "    </tr>\n",
       "  </tbody>\n",
       "</table>\n",
       "</div>"
      ],
      "text/plain": [
       "   A  B  C\n",
       "0  1  2  3\n",
       "1  4  5  6\n",
       "2  7  8  9"
      ]
     },
     "execution_count": 35,
     "metadata": {},
     "output_type": "execute_result"
    }
   ],
   "source": [
    "# Criamos um DataFrame\n",
    "df = pd.DataFrame([[1, 2, 3],\n",
    "                   [4, 5, 6],\n",
    "                   [7, 8, 9]],\n",
    "                  columns=['A', 'B', 'C'])\n",
    "df"
   ]
  },
  {
   "cell_type": "code",
   "execution_count": 36,
   "metadata": {
    "scrolled": true
   },
   "outputs": [
    {
     "data": {
      "text/html": [
       "<div>\n",
       "<style scoped>\n",
       "    .dataframe tbody tr th:only-of-type {\n",
       "        vertical-align: middle;\n",
       "    }\n",
       "\n",
       "    .dataframe tbody tr th {\n",
       "        vertical-align: top;\n",
       "    }\n",
       "\n",
       "    .dataframe thead th {\n",
       "        text-align: right;\n",
       "    }\n",
       "</style>\n",
       "<table border=\"1\" class=\"dataframe\">\n",
       "  <thead>\n",
       "    <tr style=\"text-align: right;\">\n",
       "      <th></th>\n",
       "      <th>A</th>\n",
       "      <th>B</th>\n",
       "      <th>C</th>\n",
       "    </tr>\n",
       "  </thead>\n",
       "  <tbody>\n",
       "    <tr>\n",
       "      <th>sum</th>\n",
       "      <td>12</td>\n",
       "      <td>15</td>\n",
       "      <td>18</td>\n",
       "    </tr>\n",
       "    <tr>\n",
       "      <th>min</th>\n",
       "      <td>1</td>\n",
       "      <td>2</td>\n",
       "      <td>3</td>\n",
       "    </tr>\n",
       "  </tbody>\n",
       "</table>\n",
       "</div>"
      ],
      "text/plain": [
       "      A   B   C\n",
       "sum  12  15  18\n",
       "min   1   2   3"
      ]
     },
     "execution_count": 36,
     "metadata": {},
     "output_type": "execute_result"
    }
   ],
   "source": [
    "# Agregamos e aplicamos as funções sum() que retorna a soma e min() retornando o valor mínimo\n",
    "df.agg(['sum', 'min'])"
   ]
  },
  {
   "cell_type": "code",
   "execution_count": 37,
   "metadata": {},
   "outputs": [
    {
     "data": {
      "text/html": [
       "<div>\n",
       "<style scoped>\n",
       "    .dataframe tbody tr th:only-of-type {\n",
       "        vertical-align: middle;\n",
       "    }\n",
       "\n",
       "    .dataframe tbody tr th {\n",
       "        vertical-align: top;\n",
       "    }\n",
       "\n",
       "    .dataframe thead th {\n",
       "        text-align: right;\n",
       "    }\n",
       "</style>\n",
       "<table border=\"1\" class=\"dataframe\">\n",
       "  <thead>\n",
       "    <tr style=\"text-align: right;\">\n",
       "      <th></th>\n",
       "      <th>Ano</th>\n",
       "      <th>UF</th>\n",
       "      <th>Sexo</th>\n",
       "      <th>Idade</th>\n",
       "      <th>Cor_da_pele</th>\n",
       "      <th>Anos_de_escolaridade</th>\n",
       "      <th>Renda_principal</th>\n",
       "      <th>Renda_total</th>\n",
       "      <th>Peso_amostral</th>\n",
       "    </tr>\n",
       "  </thead>\n",
       "  <tbody>\n",
       "    <tr>\n",
       "      <th>0</th>\n",
       "      <td>2012</td>\n",
       "      <td>Rondônia</td>\n",
       "      <td>Masculino</td>\n",
       "      <td>48</td>\n",
       "      <td>Branca</td>\n",
       "      <td>15 anos ou mais</td>\n",
       "      <td>3000.0</td>\n",
       "      <td>3000.0</td>\n",
       "      <td>232</td>\n",
       "    </tr>\n",
       "    <tr>\n",
       "      <th>1</th>\n",
       "      <td>2012</td>\n",
       "      <td>Rondônia</td>\n",
       "      <td>Feminino</td>\n",
       "      <td>48</td>\n",
       "      <td>Branca</td>\n",
       "      <td>15 anos ou mais</td>\n",
       "      <td>3000.0</td>\n",
       "      <td>3000.0</td>\n",
       "      <td>232</td>\n",
       "    </tr>\n",
       "    <tr>\n",
       "      <th>2</th>\n",
       "      <td>2012</td>\n",
       "      <td>Rondônia</td>\n",
       "      <td>Feminino</td>\n",
       "      <td>23</td>\n",
       "      <td>Branca</td>\n",
       "      <td>15 anos ou mais</td>\n",
       "      <td>1100.0</td>\n",
       "      <td>1100.0</td>\n",
       "      <td>232</td>\n",
       "    </tr>\n",
       "    <tr>\n",
       "      <th>3</th>\n",
       "      <td>2012</td>\n",
       "      <td>Rondônia</td>\n",
       "      <td>Feminino</td>\n",
       "      <td>21</td>\n",
       "      <td>Branca</td>\n",
       "      <td>14 anos</td>\n",
       "      <td>1100.0</td>\n",
       "      <td>1100.0</td>\n",
       "      <td>232</td>\n",
       "    </tr>\n",
       "    <tr>\n",
       "      <th>5</th>\n",
       "      <td>2012</td>\n",
       "      <td>Rondônia</td>\n",
       "      <td>Masculino</td>\n",
       "      <td>56</td>\n",
       "      <td>Preta</td>\n",
       "      <td>15 anos ou mais</td>\n",
       "      <td>10000.0</td>\n",
       "      <td>10000.0</td>\n",
       "      <td>232</td>\n",
       "    </tr>\n",
       "  </tbody>\n",
       "</table>\n",
       "</div>"
      ],
      "text/plain": [
       "    Ano        UF       Sexo  Idade Cor_da_pele Anos_de_escolaridade  \\\n",
       "0  2012  Rondônia  Masculino     48      Branca      15 anos ou mais   \n",
       "1  2012  Rondônia   Feminino     48      Branca      15 anos ou mais   \n",
       "2  2012  Rondônia   Feminino     23      Branca      15 anos ou mais   \n",
       "3  2012  Rondônia   Feminino     21      Branca              14 anos   \n",
       "5  2012  Rondônia  Masculino     56       Preta      15 anos ou mais   \n",
       "\n",
       "   Renda_principal  Renda_total  Peso_amostral  \n",
       "0           3000.0       3000.0            232  \n",
       "1           3000.0       3000.0            232  \n",
       "2           1100.0       1100.0            232  \n",
       "3           1100.0       1100.0            232  \n",
       "5          10000.0      10000.0            232  "
      ]
     },
     "execution_count": 37,
     "metadata": {},
     "output_type": "execute_result"
    }
   ],
   "source": [
    "'''\n",
    "    Nos nossos dados, primeiro, vamos agrupá-los em sexo para então\n",
    "    aplicarmos as funções com o .agg()\n",
    "    \n",
    "    Exemplo de agrupamento  .groupby()\n",
    "'''\n",
    "\n",
    "# Dados antes de agrupar\n",
    "idade_de_18_a_80.head()"
   ]
  },
  {
   "cell_type": "code",
   "execution_count": 38,
   "metadata": {},
   "outputs": [
    {
     "data": {
      "text/html": [
       "<div>\n",
       "<style scoped>\n",
       "    .dataframe tbody tr th:only-of-type {\n",
       "        vertical-align: middle;\n",
       "    }\n",
       "\n",
       "    .dataframe tbody tr th {\n",
       "        vertical-align: top;\n",
       "    }\n",
       "\n",
       "    .dataframe thead th {\n",
       "        text-align: right;\n",
       "    }\n",
       "</style>\n",
       "<table border=\"1\" class=\"dataframe\">\n",
       "  <thead>\n",
       "    <tr style=\"text-align: right;\">\n",
       "      <th></th>\n",
       "      <th>Ano</th>\n",
       "      <th>Idade</th>\n",
       "      <th>Renda_principal</th>\n",
       "      <th>Renda_total</th>\n",
       "      <th>Peso_amostral</th>\n",
       "    </tr>\n",
       "    <tr>\n",
       "      <th>Cor_da_pele</th>\n",
       "      <th></th>\n",
       "      <th></th>\n",
       "      <th></th>\n",
       "      <th></th>\n",
       "      <th></th>\n",
       "    </tr>\n",
       "  </thead>\n",
       "  <tbody>\n",
       "    <tr>\n",
       "      <th>Amarela</th>\n",
       "      <td>1358100</td>\n",
       "      <td>27324</td>\n",
       "      <td>1995641.0</td>\n",
       "      <td>2105969.0</td>\n",
       "      <td>449148</td>\n",
       "    </tr>\n",
       "    <tr>\n",
       "      <th>Branca</th>\n",
       "      <td>136663088</td>\n",
       "      <td>2639068</td>\n",
       "      <td>128210497.0</td>\n",
       "      <td>141110805.0</td>\n",
       "      <td>39783056</td>\n",
       "    </tr>\n",
       "    <tr>\n",
       "      <th>Indígena</th>\n",
       "      <td>1008012</td>\n",
       "      <td>19592</td>\n",
       "      <td>585051.0</td>\n",
       "      <td>656499.0</td>\n",
       "      <td>217034</td>\n",
       "    </tr>\n",
       "    <tr>\n",
       "      <th>Parda</th>\n",
       "      <td>139272652</td>\n",
       "      <td>2612024</td>\n",
       "      <td>78602181.0</td>\n",
       "      <td>85637206.0</td>\n",
       "      <td>35095740</td>\n",
       "    </tr>\n",
       "    <tr>\n",
       "      <th>Preta</th>\n",
       "      <td>28457728</td>\n",
       "      <td>542441</td>\n",
       "      <td>15436700.0</td>\n",
       "      <td>16738161.0</td>\n",
       "      <td>7283256</td>\n",
       "    </tr>\n",
       "  </tbody>\n",
       "</table>\n",
       "</div>"
      ],
      "text/plain": [
       "                   Ano    Idade  Renda_principal  Renda_total  Peso_amostral\n",
       "Cor_da_pele                                                                 \n",
       "Amarela        1358100    27324        1995641.0    2105969.0         449148\n",
       "Branca       136663088  2639068      128210497.0  141110805.0       39783056\n",
       "Indígena       1008012    19592         585051.0     656499.0         217034\n",
       "Parda        139272652  2612024       78602181.0   85637206.0       35095740\n",
       "Preta         28457728   542441       15436700.0   16738161.0        7283256"
      ]
     },
     "execution_count": 38,
     "metadata": {},
     "output_type": "execute_result"
    }
   ],
   "source": [
    "# Agrupando por Cor da pele e usando a função de soma (poderia ser qualquer outra)\n",
    "# Note que o ['Cor_da_pele'] virou o índice da tabela\n",
    "idade_de_18_a_80.groupby('Cor_da_pele').sum()"
   ]
  },
  {
   "cell_type": "code",
   "execution_count": 39,
   "metadata": {},
   "outputs": [
    {
     "data": {
      "text/html": [
       "<div>\n",
       "<style scoped>\n",
       "    .dataframe tbody tr th:only-of-type {\n",
       "        vertical-align: middle;\n",
       "    }\n",
       "\n",
       "    .dataframe tbody tr th {\n",
       "        vertical-align: top;\n",
       "    }\n",
       "\n",
       "    .dataframe thead th {\n",
       "        text-align: right;\n",
       "    }\n",
       "</style>\n",
       "<table border=\"1\" class=\"dataframe\">\n",
       "  <thead>\n",
       "    <tr style=\"text-align: right;\">\n",
       "      <th></th>\n",
       "      <th>Ano</th>\n",
       "      <th>Idade</th>\n",
       "      <th>Renda_principal</th>\n",
       "      <th>Renda_total</th>\n",
       "      <th>Peso_amostral</th>\n",
       "    </tr>\n",
       "    <tr>\n",
       "      <th>Sexo</th>\n",
       "      <th></th>\n",
       "      <th></th>\n",
       "      <th></th>\n",
       "      <th></th>\n",
       "      <th></th>\n",
       "    </tr>\n",
       "  </thead>\n",
       "  <tbody>\n",
       "    <tr>\n",
       "      <th>Feminino</th>\n",
       "      <td>127727796</td>\n",
       "      <td>2402646</td>\n",
       "      <td>77520070.0</td>\n",
       "      <td>86766147.0</td>\n",
       "      <td>34386504</td>\n",
       "    </tr>\n",
       "    <tr>\n",
       "      <th>Masculino</th>\n",
       "      <td>179031784</td>\n",
       "      <td>3437803</td>\n",
       "      <td>147310000.0</td>\n",
       "      <td>159482493.0</td>\n",
       "      <td>48441730</td>\n",
       "    </tr>\n",
       "  </tbody>\n",
       "</table>\n",
       "</div>"
      ],
      "text/plain": [
       "                 Ano    Idade  Renda_principal  Renda_total  Peso_amostral\n",
       "Sexo                                                                      \n",
       "Feminino   127727796  2402646       77520070.0   86766147.0       34386504\n",
       "Masculino  179031784  3437803      147310000.0  159482493.0       48441730"
      ]
     },
     "execution_count": 39,
     "metadata": {},
     "output_type": "execute_result"
    }
   ],
   "source": [
    "# E finalmente, como queremos agrupar\n",
    "idade_de_18_a_80.groupby('Sexo').sum()"
   ]
  },
  {
   "cell_type": "code",
   "execution_count": 40,
   "metadata": {},
   "outputs": [
    {
     "data": {
      "text/html": [
       "<div>\n",
       "<style scoped>\n",
       "    .dataframe tbody tr th:only-of-type {\n",
       "        vertical-align: middle;\n",
       "    }\n",
       "\n",
       "    .dataframe tbody tr th {\n",
       "        vertical-align: top;\n",
       "    }\n",
       "\n",
       "    .dataframe thead th {\n",
       "        text-align: right;\n",
       "    }\n",
       "</style>\n",
       "<table border=\"1\" class=\"dataframe\">\n",
       "  <thead>\n",
       "    <tr style=\"text-align: right;\">\n",
       "      <th></th>\n",
       "      <th>Renda_principal</th>\n",
       "    </tr>\n",
       "    <tr>\n",
       "      <th>Sexo</th>\n",
       "      <th></th>\n",
       "    </tr>\n",
       "  </thead>\n",
       "  <tbody>\n",
       "    <tr>\n",
       "      <th>Feminino</th>\n",
       "      <td>1221.115417</td>\n",
       "    </tr>\n",
       "    <tr>\n",
       "      <th>Masculino</th>\n",
       "      <td>1655.503360</td>\n",
       "    </tr>\n",
       "  </tbody>\n",
       "</table>\n",
       "</div>"
      ],
      "text/plain": [
       "           Renda_principal\n",
       "Sexo                      \n",
       "Feminino       1221.115417\n",
       "Masculino      1655.503360"
      ]
     },
     "execution_count": 40,
     "metadata": {},
     "output_type": "execute_result"
    }
   ],
   "source": [
    "'''\n",
    "    Após agrupá-los em sexo, podemos aplicar as funções com o \n",
    "    .agg() nas colunas (ou linhas) que desjeamos utilizar.\n",
    "'''\n",
    "# Aplicando a média (sálarial)\n",
    "idade_de_18_a_80.groupby('Sexo').agg({'Renda_principal':'mean'})"
   ]
  },
  {
   "cell_type": "code",
   "execution_count": 41,
   "metadata": {},
   "outputs": [
    {
     "data": {
      "text/html": [
       "<div>\n",
       "<style scoped>\n",
       "    .dataframe tbody tr th:only-of-type {\n",
       "        vertical-align: middle;\n",
       "    }\n",
       "\n",
       "    .dataframe tbody tr th {\n",
       "        vertical-align: top;\n",
       "    }\n",
       "\n",
       "    .dataframe thead th {\n",
       "        text-align: right;\n",
       "    }\n",
       "</style>\n",
       "<table border=\"1\" class=\"dataframe\">\n",
       "  <thead>\n",
       "    <tr style=\"text-align: right;\">\n",
       "      <th></th>\n",
       "      <th>Renda_principal</th>\n",
       "    </tr>\n",
       "    <tr>\n",
       "      <th>Cor_da_pele</th>\n",
       "      <th></th>\n",
       "    </tr>\n",
       "  </thead>\n",
       "  <tbody>\n",
       "    <tr>\n",
       "      <th>Amarela</th>\n",
       "      <td>2956.505185</td>\n",
       "    </tr>\n",
       "    <tr>\n",
       "      <th>Branca</th>\n",
       "      <td>1887.558109</td>\n",
       "    </tr>\n",
       "    <tr>\n",
       "      <th>Indígena</th>\n",
       "      <td>1167.766467</td>\n",
       "    </tr>\n",
       "    <tr>\n",
       "      <th>Parda</th>\n",
       "      <td>1135.525072</td>\n",
       "    </tr>\n",
       "    <tr>\n",
       "      <th>Preta</th>\n",
       "      <td>1091.395645</td>\n",
       "    </tr>\n",
       "  </tbody>\n",
       "</table>\n",
       "</div>"
      ],
      "text/plain": [
       "             Renda_principal\n",
       "Cor_da_pele                 \n",
       "Amarela          2956.505185\n",
       "Branca           1887.558109\n",
       "Indígena         1167.766467\n",
       "Parda            1135.525072\n",
       "Preta            1091.395645"
      ]
     },
     "execution_count": 41,
     "metadata": {},
     "output_type": "execute_result"
    }
   ],
   "source": [
    "# Mesmo para cor da pele\n",
    "idade_de_18_a_80.groupby('Cor_da_pele').agg({'Renda_principal':'mean'})"
   ]
  },
  {
   "cell_type": "code",
   "execution_count": 42,
   "metadata": {},
   "outputs": [
    {
     "data": {
      "text/html": [
       "<div>\n",
       "<style scoped>\n",
       "    .dataframe tbody tr th:only-of-type {\n",
       "        vertical-align: middle;\n",
       "    }\n",
       "\n",
       "    .dataframe tbody tr th {\n",
       "        vertical-align: top;\n",
       "    }\n",
       "\n",
       "    .dataframe thead th {\n",
       "        text-align: right;\n",
       "    }\n",
       "</style>\n",
       "<table border=\"1\" class=\"dataframe\">\n",
       "  <thead>\n",
       "    <tr style=\"text-align: right;\">\n",
       "      <th></th>\n",
       "      <th></th>\n",
       "      <th>Renda_principal</th>\n",
       "    </tr>\n",
       "    <tr>\n",
       "      <th>Sexo</th>\n",
       "      <th>Cor_da_pele</th>\n",
       "      <th></th>\n",
       "    </tr>\n",
       "  </thead>\n",
       "  <tbody>\n",
       "    <tr>\n",
       "      <th rowspan=\"5\" valign=\"top\">Feminino</th>\n",
       "      <th>Amarela</th>\n",
       "      <td>2258.087662</td>\n",
       "    </tr>\n",
       "    <tr>\n",
       "      <th>Branca</th>\n",
       "      <td>1529.147839</td>\n",
       "    </tr>\n",
       "    <tr>\n",
       "      <th>Indígena</th>\n",
       "      <td>1051.083333</td>\n",
       "    </tr>\n",
       "    <tr>\n",
       "      <th>Parda</th>\n",
       "      <td>947.615567</td>\n",
       "    </tr>\n",
       "    <tr>\n",
       "      <th>Preta</th>\n",
       "      <td>876.474815</td>\n",
       "    </tr>\n",
       "    <tr>\n",
       "      <th rowspan=\"5\" valign=\"top\">Masculino</th>\n",
       "      <th>Amarela</th>\n",
       "      <td>3542.643052</td>\n",
       "    </tr>\n",
       "    <tr>\n",
       "      <th>Branca</th>\n",
       "      <td>2168.098501</td>\n",
       "    </tr>\n",
       "    <tr>\n",
       "      <th>Indígena</th>\n",
       "      <td>1240.268608</td>\n",
       "    </tr>\n",
       "    <tr>\n",
       "      <th>Parda</th>\n",
       "      <td>1259.249383</td>\n",
       "    </tr>\n",
       "    <tr>\n",
       "      <th>Preta</th>\n",
       "      <td>1235.539334</td>\n",
       "    </tr>\n",
       "  </tbody>\n",
       "</table>\n",
       "</div>"
      ],
      "text/plain": [
       "                       Renda_principal\n",
       "Sexo      Cor_da_pele                 \n",
       "Feminino  Amarela          2258.087662\n",
       "          Branca           1529.147839\n",
       "          Indígena         1051.083333\n",
       "          Parda             947.615567\n",
       "          Preta             876.474815\n",
       "Masculino Amarela          3542.643052\n",
       "          Branca           2168.098501\n",
       "          Indígena         1240.268608\n",
       "          Parda            1259.249383\n",
       "          Preta            1235.539334"
      ]
     },
     "execution_count": 42,
     "metadata": {},
     "output_type": "execute_result"
    }
   ],
   "source": [
    "\"\"\"\n",
    "    Podemos também agrupar por duas categorias (ou mais) passando uma \n",
    "    ['l','i','s','t','a'] delas e então aplicar o .agg() e utilizar \n",
    "    as funções estatísticas.\n",
    "\"\"\"\n",
    "\n",
    "idade_de_18_a_80.groupby(['Sexo','Cor_da_pele']).agg({'Renda_principal':'mean'})"
   ]
  },
  {
   "cell_type": "markdown",
   "metadata": {},
   "source": [
    "#### Interação entre idade e renda"
   ]
  },
  {
   "cell_type": "code",
   "execution_count": 43,
   "metadata": {},
   "outputs": [
    {
     "data": {
      "image/png": "[encoded data removed]",
      "text/plain": [
       "<Figure size 432x288 with 1 Axes>"
      ]
     },
     "metadata": {},
     "output_type": "display_data"
    }
   ],
   "source": [
    "# Primeiro gráfico que fizemos, sabemos que é uma péssima representação \n",
    "\n",
    "plt.scatter(idade_de_18_a_80.Idade, idade_de_18_a_80.Renda_principal)\n",
    "plt.show()"
   ]
  },
  {
   "cell_type": "code",
   "execution_count": 44,
   "metadata": {},
   "outputs": [
    {
     "data": {
      "image/png": "[encoded data removed]",
      "text/plain": [
       "<Figure size 432x288 with 1 Axes>"
      ]
     },
     "metadata": {},
     "output_type": "display_data"
    }
   ],
   "source": [
    "# Ao tentarmos limitar a renda, se torna uma visualização ainda mais agressiva \n",
    "# por conta da quantidade de pessoas\n",
    "\n",
    "plt.scatter(idade_de_18_a_80.Idade, idade_de_18_a_80.Renda_principal)\n",
    "plt.ylim(0, 3000)    # novo\n",
    "plt.show()"
   ]
  },
  {
   "cell_type": "code",
   "execution_count": 45,
   "metadata": {},
   "outputs": [
    {
     "data": {
      "text/html": [
       "<div>\n",
       "<style scoped>\n",
       "    .dataframe tbody tr th:only-of-type {\n",
       "        vertical-align: middle;\n",
       "    }\n",
       "\n",
       "    .dataframe tbody tr th {\n",
       "        vertical-align: top;\n",
       "    }\n",
       "\n",
       "    .dataframe thead th {\n",
       "        text-align: right;\n",
       "    }\n",
       "</style>\n",
       "<table border=\"1\" class=\"dataframe\">\n",
       "  <thead>\n",
       "    <tr style=\"text-align: right;\">\n",
       "      <th></th>\n",
       "      <th>Renda_principal</th>\n",
       "    </tr>\n",
       "    <tr>\n",
       "      <th>Idade</th>\n",
       "      <th></th>\n",
       "    </tr>\n",
       "  </thead>\n",
       "  <tbody>\n",
       "    <tr>\n",
       "      <th>18</th>\n",
       "      <td>636.022523</td>\n",
       "    </tr>\n",
       "    <tr>\n",
       "      <th>19</th>\n",
       "      <td>712.451517</td>\n",
       "    </tr>\n",
       "    <tr>\n",
       "      <th>20</th>\n",
       "      <td>781.159672</td>\n",
       "    </tr>\n",
       "    <tr>\n",
       "      <th>21</th>\n",
       "      <td>831.005974</td>\n",
       "    </tr>\n",
       "    <tr>\n",
       "      <th>22</th>\n",
       "      <td>881.850485</td>\n",
       "    </tr>\n",
       "  </tbody>\n",
       "</table>\n",
       "</div>"
      ],
      "text/plain": [
       "       Renda_principal\n",
       "Idade                 \n",
       "18          636.022523\n",
       "19          712.451517\n",
       "20          781.159672\n",
       "21          831.005974\n",
       "22          881.850485"
      ]
     },
     "execution_count": 45,
     "metadata": {},
     "output_type": "execute_result"
    }
   ],
   "source": [
    "'''\n",
    "    Uma possível solução é calcularmos a média de renda por idade e\n",
    "    a usarmos como parâmetro de análise, ao invés da renda de cada \n",
    "    idade/pessoa.\n",
    "    \n",
    "    Para isso, devemos agrupar os dados por idade e depois calcular a \n",
    "    média.\n",
    "'''\n",
    "\n",
    "dado = idade_de_18_a_80.groupby('Idade').agg({'Renda_principal':'mean'})\n",
    "dado.head()"
   ]
  },
  {
   "cell_type": "code",
   "execution_count": 46,
   "metadata": {},
   "outputs": [
    {
     "data": {
      "image/png": "[encoded data removed]",
      "text/plain": [
       "<Figure size 792x432 with 1 Axes>"
      ]
     },
     "metadata": {},
     "output_type": "display_data"
    }
   ],
   "source": [
    "'''\n",
    "    Agora que temos a renda média de cada idade podemos plotar o gráfico.\n",
    "\n",
    "    Note que usei dado.index no eixo X, porque ao agrupar os dados a \n",
    "    coluna ['Idade'] foi transformada no índice(index) da nova tabela.\n",
    "'''\n",
    "plt.figure(figsize=(11,6))\n",
    "\n",
    "plt.scatter(dado.index, dado.Renda_principal)\n",
    "\n",
    "plt.xlabel('Idade')\n",
    "plt.ylabel('Média Salarial')\n",
    "\n",
    "plt.show()"
   ]
  },
  {
   "cell_type": "code",
   "execution_count": 47,
   "metadata": {},
   "outputs": [
    {
     "data": {
      "image/png": "[encoded data removed]",
      "text/plain": [
       "<Figure size 432x288 with 1 Axes>"
      ]
     },
     "metadata": {},
     "output_type": "display_data"
    }
   ],
   "source": [
    "# Primeiro gráfico feito.\n",
    "plt.scatter(x = pnad.Idade, y = pnad.Renda_principal)\n",
    "\n",
    "plt.title('Interação entre idade e renda')\n",
    "\n",
    "plt.show()"
   ]
  },
  {
   "cell_type": "markdown",
   "metadata": {},
   "source": [
    "    Finalizando, podemos perceber a diferença de clareza entre os gráficos inicial\n",
    "    e o final. Eles têm a mesma base ideológica (mostrar a relação entre a idade e\n",
    "    a renda), porém nos apresentam tal relação de maneiras bem diferentes.\n",
    "    Um nos mostra as médias das rendas (dentro de um limite de até 3000 'dinheiros') de \n",
    "    acordo com cada idade, enquanto o outro é literalmente um mapeamento salarial, onde \n",
    "    teoricamente conseguimos ver a renda de todas as pessoas da pesquisa.    "
   ]
  },
  {
   "cell_type": "markdown",
   "metadata": {},
   "source": [
    "## 3 - Modelos estatísticos\n",
    "        Para facilitar nossas operações, vamos resetar o index\n",
    "        e tornar o index atual (Idade) em uma coluna."
   ]
  },
  {
   "cell_type": "code",
   "execution_count": 53,
   "metadata": {},
   "outputs": [
    {
     "data": {
      "text/html": [
       "<div>\n",
       "<style scoped>\n",
       "    .dataframe tbody tr th:only-of-type {\n",
       "        vertical-align: middle;\n",
       "    }\n",
       "\n",
       "    .dataframe tbody tr th {\n",
       "        vertical-align: top;\n",
       "    }\n",
       "\n",
       "    .dataframe thead th {\n",
       "        text-align: right;\n",
       "    }\n",
       "</style>\n",
       "<table border=\"1\" class=\"dataframe\">\n",
       "  <thead>\n",
       "    <tr style=\"text-align: right;\">\n",
       "      <th></th>\n",
       "      <th>level_0</th>\n",
       "      <th>index</th>\n",
       "      <th>Idade</th>\n",
       "      <th>Renda_principal</th>\n",
       "    </tr>\n",
       "  </thead>\n",
       "  <tbody>\n",
       "    <tr>\n",
       "      <th>0</th>\n",
       "      <td>0</td>\n",
       "      <td>0</td>\n",
       "      <td>18</td>\n",
       "      <td>636.022523</td>\n",
       "    </tr>\n",
       "    <tr>\n",
       "      <th>1</th>\n",
       "      <td>1</td>\n",
       "      <td>1</td>\n",
       "      <td>19</td>\n",
       "      <td>712.451517</td>\n",
       "    </tr>\n",
       "    <tr>\n",
       "      <th>2</th>\n",
       "      <td>2</td>\n",
       "      <td>2</td>\n",
       "      <td>20</td>\n",
       "      <td>781.159672</td>\n",
       "    </tr>\n",
       "    <tr>\n",
       "      <th>3</th>\n",
       "      <td>3</td>\n",
       "      <td>3</td>\n",
       "      <td>21</td>\n",
       "      <td>831.005974</td>\n",
       "    </tr>\n",
       "    <tr>\n",
       "      <th>4</th>\n",
       "      <td>4</td>\n",
       "      <td>4</td>\n",
       "      <td>22</td>\n",
       "      <td>881.850485</td>\n",
       "    </tr>\n",
       "  </tbody>\n",
       "</table>\n",
       "</div>"
      ],
      "text/plain": [
       "   level_0  index  Idade  Renda_principal\n",
       "0        0      0     18       636.022523\n",
       "1        1      1     19       712.451517\n",
       "2        2      2     20       781.159672\n",
       "3        3      3     21       831.005974\n",
       "4        4      4     22       881.850485"
      ]
     },
     "execution_count": 53,
     "metadata": {},
     "output_type": "execute_result"
    }
   ],
   "source": [
    "dado.reset_index(inplace=True)\n",
    "dado.head()"
   ]
  },
  {
   "cell_type": "code",
   "execution_count": 56,
   "metadata": {},
   "outputs": [
    {
     "name": "stdout",
     "output_type": "stream",
     "text": [
      "                            OLS Regression Results                            \n",
      "==============================================================================\n",
      "Dep. Variable:        Renda_principal   R-squared:                       0.385\n",
      "Model:                            OLS   Adj. R-squared:                  0.375\n",
      "Method:                 Least Squares   F-statistic:                     38.25\n",
      "Date:                Fri, 26 Jun 2020   Prob (F-statistic):           5.70e-08\n",
      "Time:                        18:50:29   Log-Likelihood:                -454.06\n",
      "No. Observations:                  63   AIC:                             912.1\n",
      "Df Residuals:                      61   BIC:                             916.4\n",
      "Df Model:                           1                                         \n",
      "Covariance Type:            nonrobust                                         \n",
      "==============================================================================\n",
      "                 coef    std err          t      P>|t|      [0.025      0.975]\n",
      "------------------------------------------------------------------------------\n",
      "Intercept    891.4949    120.141      7.420      0.000     651.258    1131.732\n",
      "dado.Idade    14.2173      2.299      6.185      0.000       9.621      18.814\n",
      "==============================================================================\n",
      "Omnibus:                       14.335   Durbin-Watson:                   1.223\n",
      "Prob(Omnibus):                  0.001   Jarque-Bera (JB):               47.015\n",
      "Skew:                          -0.370   Prob(JB):                     6.18e-11\n",
      "Kurtosis:                       7.167   Cond. No.                         150.\n",
      "==============================================================================\n",
      "\n",
      "Warnings:\n",
      "[1] Standard Errors assume that the covariance matrix of the errors is correctly specified.\n"
     ]
    }
   ],
   "source": [
    "# ordinarie list squares (ols) é a regressão linear da biblioteca statsmodels.formula.api\n",
    "'''\n",
    "    Não entraremos em detalhes agora, basicamente, utilizaremos essa regressão \n",
    "    linear no nosso gráfico. Por hora o mais importante é ver (literalmente rsrs)\n",
    "    como as regressões se comportam no gráfico.\n",
    "    \n",
    "'''\n",
    "\n",
    "modelo_linear = smf.ols(formula='Renda_principal ~ dado.Idade', data=dado).fit()\n",
    "print(modelo_linear.summary())"
   ]
  },
  {
   "cell_type": "code",
   "execution_count": 57,
   "metadata": {},
   "outputs": [
    {
     "data": {
      "image/png": "[encoded data removed]",
      "text/plain": [
       "<Figure size 792x432 with 1 Axes>"
      ]
     },
     "metadata": {},
     "output_type": "display_data"
    }
   ],
   "source": [
    "# Curva de regrassão\n",
    "curva_de_regressao = modelo_linear.predict(dado.Idade)    # novo, mas não precisa entender agora\n",
    "\n",
    "\n",
    "plt.figure(figsize=(11,6))\n",
    "plt.scatter(dado.Idade, dado.Renda_principal)\n",
    "\n",
    "# Criando o gráfico da linha da regressão \n",
    "# obs: ele será plotado junto ao gráfico Idade-Renda\n",
    "plt.plot(dado.Idade, curva_de_regressao, c='red')    # novo\n",
    "\n",
    "plt.xlabel('Idade')\n",
    "plt.ylabel('Média Salarial')\n",
    "\n",
    "plt.show()"
   ]
  },
  {
   "cell_type": "markdown",
   "metadata": {},
   "source": [
    "    Seguinte: abordar esse gráfico de renda com a regressão linear não é o\n",
    "    ideal a se fazer, porque nossas variáveis não têm uma relação linear.\n",
    "    Elas se relacionam quadraticamente, por isso precisamos aplicar um\n",
    "    modelo de regressão quadrática. Veja a seguir"
   ]
  },
  {
   "cell_type": "code",
   "execution_count": 58,
   "metadata": {},
   "outputs": [
    {
     "name": "stdout",
     "output_type": "stream",
     "text": [
      "                            OLS Regression Results                            \n",
      "==============================================================================\n",
      "Dep. Variable:        Renda_principal   R-squared:                       0.598\n",
      "Model:                            OLS   Adj. R-squared:                  0.585\n",
      "Method:                 Least Squares   F-statistic:                     44.71\n",
      "Date:                Fri, 26 Jun 2020   Prob (F-statistic):           1.29e-12\n",
      "Time:                        18:50:42   Log-Likelihood:                -440.65\n",
      "No. Observations:                  63   AIC:                             887.3\n",
      "Df Residuals:                      60   BIC:                             893.7\n",
      "Df Model:                           2                                         \n",
      "Covariance Type:            nonrobust                                         \n",
      "======================================================================================\n",
      "                         coef    std err          t      P>|t|      [0.025      0.975]\n",
      "--------------------------------------------------------------------------------------\n",
      "Intercept           -454.5368    257.875     -1.763      0.083    -970.364      61.290\n",
      "dado.Idade            77.9322     11.447      6.808      0.000      55.035     100.829\n",
      "I(dado.Idade ** 2)    -0.6502      0.115     -5.642      0.000      -0.881      -0.420\n",
      "==============================================================================\n",
      "Omnibus:                       44.575   Durbin-Watson:                   1.849\n",
      "Prob(Omnibus):                  0.000   Jarque-Bera (JB):              296.612\n",
      "Skew:                           1.710   Prob(JB):                     3.90e-65\n",
      "Kurtosis:                      13.064   Cond. No.                     2.48e+04\n",
      "==============================================================================\n",
      "\n",
      "Warnings:\n",
      "[1] Standard Errors assume that the covariance matrix of the errors is correctly specified.\n",
      "[2] The condition number is large, 2.48e+04. This might indicate that there are\n",
      "strong multicollinearity or other numerical problems.\n"
     ]
    }
   ],
   "source": [
    "modelo_linear_2 = smf.ols(formula='Renda_principal ~ dado.Idade + I(dado.Idade**2)', data=dado).fit()\n",
    "print(modelo_linear_2.summary())"
   ]
  },
  {
   "cell_type": "code",
   "execution_count": 59,
   "metadata": {},
   "outputs": [
    {
     "data": {
      "image/png": "[encoded data removed]",
      "text/plain": [
       "<Figure size 792x432 with 1 Axes>"
      ]
     },
     "metadata": {},
     "output_type": "display_data"
    }
   ],
   "source": [
    "curva_de_regressao_2 = modelo_linear_2.predict(dado.Idade)\n",
    "\n",
    "plt.figure(figsize=(11,6))\n",
    "plt.scatter(dado.Idade, dado.Renda_principal)\n",
    "\n",
    "plt.plot(dado.Idade, curva_de_regressao_2, c='red')    # novo\n",
    "\n",
    "plt.xlabel('Idade')\n",
    "plt.ylabel('Média Salarial')\n",
    "\n",
    "plt.show()"
   ]
  },
  {
   "cell_type": "markdown",
   "metadata": {},
   "source": [
    "    Agora conseguimos ver com mais clareza a relação quadrática entre\n",
    "    as variáveis e conseguimos estimar mais assertivamente os possíveis\n",
    "    valores modelados."
   ]
  },
  {
   "cell_type": "markdown",
   "metadata": {},
   "source": [
    "## Anos de Escolaridade\n",
    "    Note que os valores da coluna ['Anos_de_escolaridade'] estão\n",
    "    em formato de texto str (string), logo, não conseguiremos \n",
    "    fazer cálculos com os valores. Para isso devemos mudar o tipo\n",
    "    de dado."
   ]
  },
  {
   "cell_type": "code",
   "execution_count": 60,
   "metadata": {},
   "outputs": [
    {
     "data": {
      "text/plain": [
       "array(['15 anos ou mais', '14 anos', '11 anos', '8 anos', '10 anos',\n",
       "       '4 anos', '13 anos', '5 anos', '3 anos', '6 anos',\n",
       "       'Não determinados ', '12 anos', 'Sem instrução e menos de 1 ano',\n",
       "       '9 anos', '1 ano', '2 anos', '7 anos'], dtype=object)"
      ]
     },
     "execution_count": 60,
     "metadata": {},
     "output_type": "execute_result"
    }
   ],
   "source": [
    "idade_de_18_a_80.Anos_de_escolaridade.unique()"
   ]
  },
  {
   "cell_type": "code",
   "execution_count": 61,
   "metadata": {},
   "outputs": [
    {
     "data": {
      "text/plain": [
       "11 anos                           46554\n",
       "15 anos ou mais                   19837\n",
       "8 anos                            15547\n",
       "4 anos                            11516\n",
       "Sem instrução e menos de 1 ano     8951\n",
       "5 anos                             8018\n",
       "7 anos                             5497\n",
       "10 anos                            5099\n",
       "6 anos                             4874\n",
       "12 anos                            4826\n",
       "3 anos                             4718\n",
       "9 anos                             4384\n",
       "14 anos                            3512\n",
       "13 anos                            3269\n",
       "2 anos                             3234\n",
       "1 ano                              2147\n",
       "Não determinados                    482\n",
       "Name: Anos_de_escolaridade, dtype: int64"
      ]
     },
     "execution_count": 61,
     "metadata": {},
     "output_type": "execute_result"
    }
   ],
   "source": [
    "idade_de_18_a_80.Anos_de_escolaridade.value_counts()"
   ]
  },
  {
   "cell_type": "code",
   "execution_count": 62,
   "metadata": {},
   "outputs": [
    {
     "name": "stderr",
     "output_type": "stream",
     "text": [
      "C:\\ProgramData\\Anaconda3\\lib\\site-packages\\pandas\\core\\indexing.py:965: SettingWithCopyWarning: \n",
      "A value is trying to be set on a copy of a slice from a DataFrame.\n",
      "Try using .loc[row_indexer,col_indexer] = value instead\n",
      "\n",
      "See the caveats in the documentation: https://pandas.pydata.org/pandas-docs/stable/user_guide/indexing.html#returning-a-view-versus-a-copy\n",
      "  self.obj[item] = s\n"
     ]
    }
   ],
   "source": [
    "'''\n",
    "    Dependendo do objetivo de uso para os dados, há várias formas de\n",
    "    se abordar esses dados. Aqui, iremos transformar 'Sem instrução e menos de 1 ano'\n",
    "    em 0. E 'Não determinados' virarão NaN\n",
    "    \n",
    "    Como a coluna []'Anos_de_escolaridade'] está em formato str, é bom passarmos\n",
    "    o 0 também no formato str '0'\n",
    "'''\n",
    "\n",
    "idade_de_18_a_80.loc[idade_de_18_a_80.Anos_de_escolaridade =='Sem instrução e menos de 1 ano', 'Anos_de_escolaridade'] = '0'"
   ]
  },
  {
   "cell_type": "code",
   "execution_count": 76,
   "metadata": {
    "scrolled": true
   },
   "outputs": [
    {
     "data": {
      "text/plain": [
       "11 anos              46554\n",
       "15 anos ou mais      19837\n",
       "8 anos               15547\n",
       "4 anos               11516\n",
       "0                     8951\n",
       "5 anos                8018\n",
       "7 anos                5497\n",
       "10 anos               5099\n",
       "6 anos                4874\n",
       "12 anos               4826\n",
       "3 anos                4718\n",
       "9 anos                4384\n",
       "14 anos               3512\n",
       "13 anos               3269\n",
       "2 anos                3234\n",
       "1 ano                 2147\n",
       "Não determinados       482\n",
       "Name: Anos_de_escolaridade, dtype: int64"
      ]
     },
     "execution_count": 76,
     "metadata": {},
     "output_type": "execute_result"
    }
   ],
   "source": [
    "'''\n",
    "    Alterado. Perceba que há um padrão na escrita dos valores. E a biblioteca re\n",
    "    regular expressions nos auxiliará a identificar esse padrão, para que possamos\n",
    "    fazer as alterações que queremos sem muitas dificuldades.\n",
    "    Queremos deixar apenas os 'números' (para depois transformá-los em números de\n",
    "    verdade)\n",
    "'''\n",
    "\n",
    "idade_de_18_a_80.Anos_de_escolaridade.value_counts()"
   ]
  },
  {
   "cell_type": "code",
   "execution_count": 69,
   "metadata": {},
   "outputs": [],
   "source": [
    "# 1º Definimos os padrões\n",
    "\n",
    "anos_ou_mais = re.compile(' anos ou mais')\n",
    "anos = re.compile(' anos')\n",
    "ano = re.compile(' ano')"
   ]
  },
  {
   "cell_type": "code",
   "execution_count": 78,
   "metadata": {},
   "outputs": [],
   "source": [
    "# 2º Aplicar a substituição desses padrões\n",
    "# .apply() executa uma função em todas as linhas da tabela\n",
    "# lambda é apenas uma função sem nome (dá uma pesquisada, é bem simples)\n",
    "'''\n",
    "    Em cada linha da coluna ['Ano_de_escolaridade'] substitua o valor de ano_mais para '' (nada:)\n",
    "    \n",
    "    O mesmo para as outras expressões regulares.\n",
    "    \n",
    "    (.copy() por advertências do pandas, assunto para outro notebook)\n",
    "'''\n",
    "idade_de_18_a_80.Anos_de_escolaridade = idade_de_18_a_80.Anos_de_escolaridade.apply(lambda em_cada_linha: anos_ou_mais.sub('',em_cada_linha)).copy()\n",
    "idade_de_18_a_80.Anos_de_escolaridade = idade_de_18_a_80.Anos_de_escolaridade.apply(lambda em_cada_linha: anos.sub('',em_cada_linha)).copy()\n",
    "idade_de_18_a_80.Anos_de_escolaridade = idade_de_18_a_80.Anos_de_escolaridade.apply(lambda em_cada_linha: ano.sub('',em_cada_linha)).copy()"
   ]
  },
  {
   "cell_type": "markdown",
   "metadata": {},
   "source": [
    "    Observação: a Ordem dos fatores altera o resultado ksks. Se, por exemplo, ordenassemos\n",
    "    \n",
    "    anos.sub()\n",
    "    anos_mais.sub()\n",
    "    \n",
    "    A alteração seria feita dessa forma:\n",
    "    \n",
    "    a função anos.sub() é chamada:\n",
    "       \n",
    "    11 anos               11               \n",
    "    15 anos ou mais       15 ou mais\n",
    "    8 anos                8\n",
    "    0                     0\n",
    "    5 anos                5\n",
    "    7 anos                7\n",
    "    10 anos               10\n",
    "    6 anos                6\n",
    "    12 anos               12\n",
    "    3 anos                3\n",
    "    9 anos                9\n",
    "    14 anos               14\n",
    "    13 anos               13\n",
    "    2 anos                2\n",
    "    1 ano                 1 ano\n",
    "    \n",
    "    E agora, quando anos_mais.sub() for chamada não haverá 'anos ou mais' para alterar.\n",
    "    Por isso devemos sempre alterar do mais particular para o mais geral\n",
    "    'ano' é geral, praticamente todas as strings têm.\n",
    "    'anos ou mais' é bem específica, apenas algumas strings a contém."
   ]
  },
  {
   "cell_type": "code",
   "execution_count": 79,
   "metadata": {},
   "outputs": [
    {
     "data": {
      "text/plain": [
       "11                   46554\n",
       "15                   19837\n",
       "8                    15547\n",
       "4                    11516\n",
       "0                     8951\n",
       "5                     8018\n",
       "7                     5497\n",
       "10                    5099\n",
       "6                     4874\n",
       "12                    4826\n",
       "3                     4718\n",
       "9                     4384\n",
       "14                    3512\n",
       "13                    3269\n",
       "2                     3234\n",
       "1                     2147\n",
       "Não determinados       482\n",
       "Name: Anos_de_escolaridade, dtype: int64"
      ]
     },
     "execution_count": 79,
     "metadata": {},
     "output_type": "execute_result"
    }
   ],
   "source": [
    "# \\(*O*)/\n",
    "\n",
    "idade_de_18_a_80.Anos_de_escolaridade.value_counts()"
   ]
  },
  {
   "cell_type": "code",
   "execution_count": 85,
   "metadata": {},
   "outputs": [
    {
     "data": {
      "text/plain": [
       "Ano                       int64\n",
       "UF                       object\n",
       "Sexo                     object\n",
       "Idade                     int64\n",
       "Cor_da_pele              object\n",
       "Anos_de_escolaridade     object\n",
       "Renda_principal         float64\n",
       "Renda_total             float64\n",
       "Peso_amostral             int64\n",
       "dtype: object"
      ]
     },
     "execution_count": 85,
     "metadata": {},
     "output_type": "execute_result"
    }
   ],
   "source": [
    "# Seu tipo ainda é object\n",
    "\n",
    "idade_de_18_a_80.dtypes"
   ]
  },
  {
   "cell_type": "code",
   "execution_count": 88,
   "metadata": {},
   "outputs": [
    {
     "data": {
      "text/plain": [
       "11.0    46554\n",
       "15.0    19837\n",
       "8.0     15547\n",
       "4.0     11516\n",
       "0.0      8951\n",
       "5.0      8018\n",
       "7.0      5497\n",
       "10.0     5099\n",
       "6.0      4874\n",
       "12.0     4826\n",
       "3.0      4718\n",
       "9.0      4384\n",
       "14.0     3512\n",
       "13.0     3269\n",
       "2.0      3234\n",
       "1.0      2147\n",
       "Name: Anos_de_escolaridade, dtype: int64"
      ]
     },
     "execution_count": 88,
     "metadata": {},
     "output_type": "execute_result"
    }
   ],
   "source": [
    "# 'Não determinados' será transformado em NaN\n",
    "\n",
    "idade_de_18_a_80.Anos_de_escolaridade = pd.to_numeric(idade_de_18_a_80.Anos_de_escolaridade, errors='coerce')\n",
    "\n",
    "idade_de_18_a_80.Anos_de_escolaridade.value_counts()"
   ]
  },
  {
   "cell_type": "code",
   "execution_count": 91,
   "metadata": {},
   "outputs": [
    {
     "data": {
      "text/plain": [
       "count    151983.000000\n",
       "mean          8.887139\n",
       "std           4.273326\n",
       "min           0.000000\n",
       "25%           5.000000\n",
       "50%          11.000000\n",
       "75%          11.000000\n",
       "max          15.000000\n",
       "Name: Anos_de_escolaridade, dtype: float64"
      ]
     },
     "execution_count": 91,
     "metadata": {},
     "output_type": "execute_result"
    }
   ],
   "source": [
    "# Agora podemos fazer cálculos com essa coluna\n",
    "\n",
    "idade_de_18_a_80.Anos_de_escolaridade.describe()"
   ]
  },
  {
   "cell_type": "markdown",
   "metadata": {},
   "source": [
    "### 4.1 Diferença de escolaridade entre homens e mulheres"
   ]
  },
  {
   "cell_type": "code",
   "execution_count": 93,
   "metadata": {},
   "outputs": [
    {
     "data": {
      "text/html": [
       "<div>\n",
       "<style scoped>\n",
       "    .dataframe tbody tr th:only-of-type {\n",
       "        vertical-align: middle;\n",
       "    }\n",
       "\n",
       "    .dataframe tbody tr th {\n",
       "        vertical-align: top;\n",
       "    }\n",
       "\n",
       "    .dataframe thead th {\n",
       "        text-align: right;\n",
       "    }\n",
       "</style>\n",
       "<table border=\"1\" class=\"dataframe\">\n",
       "  <thead>\n",
       "    <tr style=\"text-align: right;\">\n",
       "      <th></th>\n",
       "      <th>Anos_de_escolaridade</th>\n",
       "    </tr>\n",
       "    <tr>\n",
       "      <th>Sexo</th>\n",
       "      <th></th>\n",
       "    </tr>\n",
       "  </thead>\n",
       "  <tbody>\n",
       "    <tr>\n",
       "      <th>Feminino</th>\n",
       "      <td>9.771358</td>\n",
       "    </tr>\n",
       "    <tr>\n",
       "      <th>Masculino</th>\n",
       "      <td>8.256754</td>\n",
       "    </tr>\n",
       "  </tbody>\n",
       "</table>\n",
       "</div>"
      ],
      "text/plain": [
       "           Anos_de_escolaridade\n",
       "Sexo                           \n",
       "Feminino               9.771358\n",
       "Masculino              8.256754"
      ]
     },
     "execution_count": 93,
     "metadata": {},
     "output_type": "execute_result"
    }
   ],
   "source": [
    "# As mulheres têm mais escolaridade, estudam mais que os homens\n",
    "\n",
    "idade_de_18_a_80.groupby('Sexo').agg({'Anos_de_escolaridade':'mean'})"
   ]
  },
  {
   "cell_type": "markdown",
   "metadata": {},
   "source": [
    "    Conseguimos abordar muitos assuntos, e até poderíamos continuar, mas ficamos por aqui dessa vez. \n",
    "    Em outras práticas veremos conteúdos mais complexos."
   ]
  }
 ],
 "metadata": {
  "kernelspec": {
   "display_name": "Python 3",
   "language": "python",
   "name": "python3"
  },
  "language_info": {
   "codemirror_mode": {
    "name": "ipython",
    "version": 3
   },
   "file_extension": ".py",
   "mimetype": "text/x-python",
   "name": "python",
   "nbconvert_exporter": "python",
   "pygments_lexer": "ipython3",
   "version": "3.7.6"
  }
 },
 "nbformat": 4,
 "nbformat_minor": 4
}
