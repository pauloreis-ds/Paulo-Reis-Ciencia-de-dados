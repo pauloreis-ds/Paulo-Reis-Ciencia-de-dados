{
 "cells": [
  {
   "cell_type": "markdown",
   "metadata": {},
   "source": [
    "# Prevendo demanda de produtos.\n",
    "        \n",
    "        Aqui tentaremos prever vendas para 811 produtos.\n",
    "        Nosso conjunto de dados possui registros de vendas de 52 semanas (1 ano) para cada produto.\n",
    "\n",
    "        Isso significa que temos, originalmente, 811 séries temporais com 52 pontos de dados cada.\n",
    "        Podemos abordar esse problema criando um modelo único para cada produto. Entretanto é pouco\n",
    "        provável que essa seja a melhor forma de resolução. Já que haveria muitos modelos para dar\n",
    "        manutenção, além disso, em ML mais dados geralmente significam melhores previsões. Assim, ao\n",
    "        concatenar s séries em um único conjunto de dados, para treinar um único modelo, há muito \n",
    "        mais dados para se usar e isso pode ajudar o modelo a ter um desempenho melhor.\n",
    "        \n",
    "## Agenda\n",
    "        1 - Preparação dos dados\n",
    "            data.melt()\n",
    "            Adicionando features\n",
    "        2 - Baseline\n",
    "        3 - Criando o modelo\n",
    "            Melhorando-o\n",
    "            Modificando a variável alvo\n",
    "            Um modelo melhor\n",
    "        Melhorando a solução"
   ]
  },
  {
   "cell_type": "code",
   "execution_count": 1,
   "metadata": {},
   "outputs": [],
   "source": [
    "import pandas as pd\n",
    "import numpy as np\n",
    "import matplotlib.pyplot as plt\n",
    "\n",
    "from sklearn.metrics import mean_squared_log_error\n",
    "from sklearn.ensemble import RandomForestRegressor\n",
    "from lightgbm import LGBMRegressor"
   ]
  },
  {
   "cell_type": "code",
   "execution_count": 2,
   "metadata": {
    "scrolled": true
   },
   "outputs": [
    {
     "data": {
      "text/html": [
       "<div>\n",
       "<style scoped>\n",
       "    .dataframe tbody tr th:only-of-type {\n",
       "        vertical-align: middle;\n",
       "    }\n",
       "\n",
       "    .dataframe tbody tr th {\n",
       "        vertical-align: top;\n",
       "    }\n",
       "\n",
       "    .dataframe thead th {\n",
       "        text-align: right;\n",
       "    }\n",
       "</style>\n",
       "<table border=\"1\" class=\"dataframe\">\n",
       "  <thead>\n",
       "    <tr style=\"text-align: right;\">\n",
       "      <th></th>\n",
       "      <th>Product_Code</th>\n",
       "      <th>W0</th>\n",
       "      <th>W1</th>\n",
       "      <th>W2</th>\n",
       "      <th>W3</th>\n",
       "      <th>W4</th>\n",
       "      <th>W5</th>\n",
       "      <th>W6</th>\n",
       "      <th>W7</th>\n",
       "      <th>W8</th>\n",
       "      <th>...</th>\n",
       "      <th>W42</th>\n",
       "      <th>W43</th>\n",
       "      <th>W44</th>\n",
       "      <th>W45</th>\n",
       "      <th>W46</th>\n",
       "      <th>W47</th>\n",
       "      <th>W48</th>\n",
       "      <th>W49</th>\n",
       "      <th>W50</th>\n",
       "      <th>W51</th>\n",
       "    </tr>\n",
       "  </thead>\n",
       "  <tbody>\n",
       "    <tr>\n",
       "      <th>0</th>\n",
       "      <td>P1</td>\n",
       "      <td>11</td>\n",
       "      <td>12</td>\n",
       "      <td>10</td>\n",
       "      <td>8</td>\n",
       "      <td>13</td>\n",
       "      <td>12</td>\n",
       "      <td>14</td>\n",
       "      <td>21</td>\n",
       "      <td>6</td>\n",
       "      <td>...</td>\n",
       "      <td>4</td>\n",
       "      <td>7</td>\n",
       "      <td>8</td>\n",
       "      <td>10</td>\n",
       "      <td>12</td>\n",
       "      <td>3</td>\n",
       "      <td>7</td>\n",
       "      <td>6</td>\n",
       "      <td>5</td>\n",
       "      <td>10</td>\n",
       "    </tr>\n",
       "    <tr>\n",
       "      <th>1</th>\n",
       "      <td>P2</td>\n",
       "      <td>7</td>\n",
       "      <td>6</td>\n",
       "      <td>3</td>\n",
       "      <td>2</td>\n",
       "      <td>7</td>\n",
       "      <td>1</td>\n",
       "      <td>6</td>\n",
       "      <td>3</td>\n",
       "      <td>3</td>\n",
       "      <td>...</td>\n",
       "      <td>2</td>\n",
       "      <td>4</td>\n",
       "      <td>5</td>\n",
       "      <td>1</td>\n",
       "      <td>1</td>\n",
       "      <td>4</td>\n",
       "      <td>5</td>\n",
       "      <td>1</td>\n",
       "      <td>6</td>\n",
       "      <td>0</td>\n",
       "    </tr>\n",
       "    <tr>\n",
       "      <th>2</th>\n",
       "      <td>P3</td>\n",
       "      <td>7</td>\n",
       "      <td>11</td>\n",
       "      <td>8</td>\n",
       "      <td>9</td>\n",
       "      <td>10</td>\n",
       "      <td>8</td>\n",
       "      <td>7</td>\n",
       "      <td>13</td>\n",
       "      <td>12</td>\n",
       "      <td>...</td>\n",
       "      <td>6</td>\n",
       "      <td>14</td>\n",
       "      <td>5</td>\n",
       "      <td>5</td>\n",
       "      <td>7</td>\n",
       "      <td>8</td>\n",
       "      <td>14</td>\n",
       "      <td>8</td>\n",
       "      <td>8</td>\n",
       "      <td>7</td>\n",
       "    </tr>\n",
       "    <tr>\n",
       "      <th>3</th>\n",
       "      <td>P4</td>\n",
       "      <td>12</td>\n",
       "      <td>8</td>\n",
       "      <td>13</td>\n",
       "      <td>5</td>\n",
       "      <td>9</td>\n",
       "      <td>6</td>\n",
       "      <td>9</td>\n",
       "      <td>13</td>\n",
       "      <td>13</td>\n",
       "      <td>...</td>\n",
       "      <td>9</td>\n",
       "      <td>10</td>\n",
       "      <td>3</td>\n",
       "      <td>4</td>\n",
       "      <td>6</td>\n",
       "      <td>8</td>\n",
       "      <td>14</td>\n",
       "      <td>8</td>\n",
       "      <td>7</td>\n",
       "      <td>8</td>\n",
       "    </tr>\n",
       "    <tr>\n",
       "      <th>4</th>\n",
       "      <td>P5</td>\n",
       "      <td>8</td>\n",
       "      <td>5</td>\n",
       "      <td>13</td>\n",
       "      <td>11</td>\n",
       "      <td>6</td>\n",
       "      <td>7</td>\n",
       "      <td>9</td>\n",
       "      <td>14</td>\n",
       "      <td>9</td>\n",
       "      <td>...</td>\n",
       "      <td>7</td>\n",
       "      <td>11</td>\n",
       "      <td>7</td>\n",
       "      <td>12</td>\n",
       "      <td>6</td>\n",
       "      <td>6</td>\n",
       "      <td>5</td>\n",
       "      <td>11</td>\n",
       "      <td>8</td>\n",
       "      <td>9</td>\n",
       "    </tr>\n",
       "  </tbody>\n",
       "</table>\n",
       "<p>5 rows × 53 columns</p>\n",
       "</div>"
      ],
      "text/plain": [
       "  Product_Code  W0  W1  W2  W3  W4  W5  W6  W7  W8  ...  W42  W43  W44  W45  \\\n",
       "0           P1  11  12  10   8  13  12  14  21   6  ...    4    7    8   10   \n",
       "1           P2   7   6   3   2   7   1   6   3   3  ...    2    4    5    1   \n",
       "2           P3   7  11   8   9  10   8   7  13  12  ...    6   14    5    5   \n",
       "3           P4  12   8  13   5   9   6   9  13  13  ...    9   10    3    4   \n",
       "4           P5   8   5  13  11   6   7   9  14   9  ...    7   11    7   12   \n",
       "\n",
       "   W46  W47  W48  W49  W50  W51  \n",
       "0   12    3    7    6    5   10  \n",
       "1    1    4    5    1    6    0  \n",
       "2    7    8   14    8    8    7  \n",
       "3    6    8   14    8    7    8  \n",
       "4    6    6    5   11    8    9  \n",
       "\n",
       "[5 rows x 53 columns]"
      ]
     },
     "execution_count": 2,
     "metadata": {},
     "output_type": "execute_result"
    }
   ],
   "source": [
    "data = pd.read_csv(\"Sales_Transactions_Dataset_Weekly.csv\")\n",
    "data = data.filter(regex=r'Product|W')\n",
    "data.head()"
   ]
  },
  {
   "cell_type": "markdown",
   "metadata": {},
   "source": [
    "## 1 - Preparação dos dados\n",
    "        Para treinar um único modelo que preveja várias séries temporais ao mesmo tempo,\n",
    "        precisamos transformar os dados de maneira que cada linha se torne:\n",
    "        código do produto, a semana, e a quantidade de vendas.\n",
    "        \n",
    "    Por hora temos:\n",
    "        \n",
    "        código_do_produto         semana0          semana1            ...\n",
    "        \n",
    "             produto1         quantia vendida    quantia vendida      ...\n",
    "             produto2         quantia vendida    quantia vendida      ...\n",
    "             produto3         quantia vendida    quantia vendida      ...\n",
    "        \n",
    "   **Queremos:**\n",
    "        \n",
    "        código_do_produto     semana     quantia_vendida   \n",
    "\n",
    "             produto 1           0       quantia vendida\n",
    "             produto 2           0       quantia vendida\n",
    "             produto 3           0       quantia vendida\n",
    "             produto 1           1       quantia vendida\n",
    "             produto 2           1       quantia vendida\n",
    "             produto 3           1       quantia vendida\n",
    "             produto 1           2       quantia vendida\n",
    "             produto 2           2       quantia vendida\n",
    "             produto 3           2       quantia vendida       \n",
    "               ...              ...            ..."
   ]
  },
  {
   "cell_type": "markdown",
   "metadata": {},
   "source": [
    "### data.melt()\n",
    "**Explicação detalhada do código:** https://github.com/pauloreis-ds/Paulo-Reis-Ciencia-de-dados/blob/master/3%20-%20An%C3%A1lise%20de%20dados%20(com%20Machine%20Learning)%20-%20Data%20Analysis%20(Machine%20Learning)/Previs%C3%A3o%20de%20demanda/adicional/Explicando%20.melt()%20-%20passo%20a%20passo.ipynb"
   ]
  },
  {
   "cell_type": "code",
   "execution_count": 3,
   "metadata": {},
   "outputs": [
    {
     "data": {
      "text/html": [
       "<div>\n",
       "<style scoped>\n",
       "    .dataframe tbody tr th:only-of-type {\n",
       "        vertical-align: middle;\n",
       "    }\n",
       "\n",
       "    .dataframe tbody tr th {\n",
       "        vertical-align: top;\n",
       "    }\n",
       "\n",
       "    .dataframe thead th {\n",
       "        text-align: right;\n",
       "    }\n",
       "</style>\n",
       "<table border=\"1\" class=\"dataframe\">\n",
       "  <thead>\n",
       "    <tr style=\"text-align: right;\">\n",
       "      <th></th>\n",
       "      <th>Product_Code</th>\n",
       "      <th>Week</th>\n",
       "      <th>Sales</th>\n",
       "    </tr>\n",
       "  </thead>\n",
       "  <tbody>\n",
       "    <tr>\n",
       "      <th>0</th>\n",
       "      <td>1</td>\n",
       "      <td>0</td>\n",
       "      <td>11</td>\n",
       "    </tr>\n",
       "    <tr>\n",
       "      <th>1</th>\n",
       "      <td>2</td>\n",
       "      <td>0</td>\n",
       "      <td>7</td>\n",
       "    </tr>\n",
       "    <tr>\n",
       "      <th>2</th>\n",
       "      <td>3</td>\n",
       "      <td>0</td>\n",
       "      <td>7</td>\n",
       "    </tr>\n",
       "    <tr>\n",
       "      <th>3</th>\n",
       "      <td>4</td>\n",
       "      <td>0</td>\n",
       "      <td>12</td>\n",
       "    </tr>\n",
       "    <tr>\n",
       "      <th>4</th>\n",
       "      <td>5</td>\n",
       "      <td>0</td>\n",
       "      <td>8</td>\n",
       "    </tr>\n",
       "  </tbody>\n",
       "</table>\n",
       "</div>"
      ],
      "text/plain": [
       "   Product_Code  Week  Sales\n",
       "0             1     0     11\n",
       "1             2     0      7\n",
       "2             3     0      7\n",
       "3             4     0     12\n",
       "4             5     0      8"
      ]
     },
     "execution_count": 3,
     "metadata": {},
     "output_type": "execute_result"
    }
   ],
   "source": [
    "df = data.melt(id_vars='Product_Code', var_name='Week', value_name='Sales')\n",
    "\n",
    "df['Product_Code'] = df['Product_Code'].str.extract('(\\d+)', expand=False).astype(int)\n",
    "df['Week'] = df['Week'].str.extract('(\\d+)', expand=False).astype(int)\n",
    "\n",
    "df = df.sort_values(['Week', 'Product_Code'])\n",
    "df.head()"
   ]
  },
  {
   "cell_type": "code",
   "execution_count": 4,
   "metadata": {},
   "outputs": [
    {
     "data": {
      "text/plain": [
       "(42172, 3)"
      ]
     },
     "execution_count": 4,
     "metadata": {},
     "output_type": "execute_result"
    }
   ],
   "source": [
    "df.shape"
   ]
  },
  {
   "cell_type": "markdown",
   "metadata": {},
   "source": [
    "Agora para cada produto temos 52 pontos de dados para cada produto em 2 colunas, logo 52 pontos de dados vezes os 811 produtos = número de linhas do novo DataFrame (df), 42172."
   ]
  },
  {
   "cell_type": "markdown",
   "metadata": {},
   "source": [
    "### Adicionando features\n",
    "\n",
    "        Como você sabe, precisamos ter variáveis para enviar ao nosso modelo e obter as previsões. \n",
    "        E nesse caso, além do ['Product_Code'] e ['Week'], vamos acrescentar duas features\n",
    "        que geralmente ajudam muito no trabalho com séries temporais: atrasos e diferenças.\n",
    "\n",
    "    ['Last_Week_Sales'] \n",
    "**Vendas na semana passada**: é simplesmente a quantidade de vendas que um produto teve na semana anterior\n",
    "\n",
    "    ['Last_Week_Diff']\n",
    "**Diferença na semana passada**: a diferença entre o valor das vendas na semana anterior e a semana anterior a essa (S-1 - S-2)\n",
    "\n",
    "**Explicação detalhada do código:** https://github.com/pauloreis-ds/Paulo-Reis-Ciencia-de-dados/blob/master/3%20-%20An%C3%A1lise%20de%20dados%20(com%20Machine%20Learning)%20-%20Data%20Analysis%20(Machine%20Learning)/Previs%C3%A3o%20de%20demanda/adicional/Adicionando%20features%20-%20passo%20a%20passo.ipynb"
   ]
  },
  {
   "cell_type": "code",
   "execution_count": 5,
   "metadata": {},
   "outputs": [
    {
     "data": {
      "text/html": [
       "<div>\n",
       "<style scoped>\n",
       "    .dataframe tbody tr th:only-of-type {\n",
       "        vertical-align: middle;\n",
       "    }\n",
       "\n",
       "    .dataframe tbody tr th {\n",
       "        vertical-align: top;\n",
       "    }\n",
       "\n",
       "    .dataframe thead th {\n",
       "        text-align: right;\n",
       "    }\n",
       "</style>\n",
       "<table border=\"1\" class=\"dataframe\">\n",
       "  <thead>\n",
       "    <tr style=\"text-align: right;\">\n",
       "      <th></th>\n",
       "      <th>Product_Code</th>\n",
       "      <th>Week</th>\n",
       "      <th>Sales</th>\n",
       "      <th>Last_Week_Sales</th>\n",
       "      <th>Last_Week_Diff</th>\n",
       "    </tr>\n",
       "  </thead>\n",
       "  <tbody>\n",
       "    <tr>\n",
       "      <th>1622</th>\n",
       "      <td>1</td>\n",
       "      <td>2</td>\n",
       "      <td>10</td>\n",
       "      <td>12.0</td>\n",
       "      <td>1.0</td>\n",
       "    </tr>\n",
       "    <tr>\n",
       "      <th>1623</th>\n",
       "      <td>2</td>\n",
       "      <td>2</td>\n",
       "      <td>3</td>\n",
       "      <td>6.0</td>\n",
       "      <td>-1.0</td>\n",
       "    </tr>\n",
       "    <tr>\n",
       "      <th>1624</th>\n",
       "      <td>3</td>\n",
       "      <td>2</td>\n",
       "      <td>8</td>\n",
       "      <td>11.0</td>\n",
       "      <td>4.0</td>\n",
       "    </tr>\n",
       "    <tr>\n",
       "      <th>1625</th>\n",
       "      <td>4</td>\n",
       "      <td>2</td>\n",
       "      <td>13</td>\n",
       "      <td>8.0</td>\n",
       "      <td>-4.0</td>\n",
       "    </tr>\n",
       "    <tr>\n",
       "      <th>1626</th>\n",
       "      <td>5</td>\n",
       "      <td>2</td>\n",
       "      <td>13</td>\n",
       "      <td>5.0</td>\n",
       "      <td>-3.0</td>\n",
       "    </tr>\n",
       "  </tbody>\n",
       "</table>\n",
       "</div>"
      ],
      "text/plain": [
       "      Product_Code  Week  Sales  Last_Week_Sales  Last_Week_Diff\n",
       "1622             1     2     10             12.0             1.0\n",
       "1623             2     2      3              6.0            -1.0\n",
       "1624             3     2      8             11.0             4.0\n",
       "1625             4     2     13              8.0            -4.0\n",
       "1626             5     2     13              5.0            -3.0"
      ]
     },
     "execution_count": 5,
     "metadata": {},
     "output_type": "execute_result"
    }
   ],
   "source": [
    "df2 = df.copy()\n",
    "df2['Last_Week_Sales'] = df2.groupby(['Product_Code'])['Sales'].shift()\n",
    "df2['Last_Week_Diff'] = df2.groupby(['Product_Code'])['Last_Week_Sales'].diff()\n",
    "df2 = df2.dropna()\n",
    "df2.head()"
   ]
  },
  {
   "cell_type": "code",
   "execution_count": 6,
   "metadata": {},
   "outputs": [
    {
     "data": {
      "text/plain": [
       "(40550, 5)"
      ]
     },
     "execution_count": 6,
     "metadata": {},
     "output_type": "execute_result"
    }
   ],
   "source": [
    "df2.shape"
   ]
  },
  {
   "cell_type": "markdown",
   "metadata": {},
   "source": [
    "## Baseline para testar e validar nosso modelo\n",
    "\n",
    "    Para saber se nosso modelo é bom, precisamos ter uma métrica de avaliação. \n",
    "    Uma boa opção para previsão de vendas é o erro médio quadrático de log raiz.\n",
    "\n",
    "    Funciona como uma aproximação ao erro percentual entre nossas previsões e os targets (valores que queremos prever),\n",
    "    sendo uma maneira de entender os erros que nosso modelo está cometendo."
   ]
  },
  {
   "cell_type": "markdown",
   "metadata": {},
   "source": [
    "Então, basicamente o que queremos responder é o seguinte: **se prevermos que a _quantidade de vendas do produto_ [nessa semana - week] <br> for igual a _quantidade de venda desse mesmo produto_ na [semana passada] , qual/quanto será o nosso erro?**\n",
    "\n",
    "    O ponto chave aqui é que faremos isso (simular o treinamento do modelo) em todas as semanas \n",
    "    até a que queremos prever e ao final, avaliar nossa pontuação.\n",
    "    \n",
    "ps: e para evitar um (overfitting) modelo muito bom em poucas semanas, usarei todas as semanas de 40 a 52, repetindo o processo por uma de cada vez e calculando a pontuação."
   ]
  },
  {
   "cell_type": "code",
   "execution_count": 7,
   "metadata": {
    "scrolled": true
   },
   "outputs": [
    {
     "name": "stdout",
     "output_type": "stream",
     "text": [
      "Week 40 - Error 0.51952\n",
      "Week 41 - Error 0.51691\n",
      "Week 42 - Error 0.51026\n",
      "Week 43 - Error 0.50792\n",
      "Week 44 - Error 0.53409\n",
      "Week 45 - Error 0.52347\n",
      "Week 46 - Error 0.50018\n",
      "Week 47 - Error 0.49138\n",
      "Week 48 - Error 0.50585\n",
      "Week 49 - Error 0.50547\n",
      "Week 50 - Error 0.52220\n",
      "Week 51 - Error 0.55242\n",
      "\n",
      "Mean Error = 0.51581\n"
     ]
    }
   ],
   "source": [
    "# Métrica de avaliação / Função para calcular o erro.  \n",
    "# Root Mean Squared Log Error.\n",
    "def rmsle(true_y, prediction_y):  \n",
    "    return np.sqrt(mean_squared_log_error(true_y, prediction_y))\n",
    "\n",
    "mean_error = [] # Para guardar os erro%s de cada loop\n",
    "\n",
    "for week in range(40,52):\n",
    "    train = df2[df2['Week'] < week]        # train_X = Todos os dados antes da semana atual(week)\n",
    "    validation = df2[df2['Week'] == week]   # Contém Target/train_y da semana atual, que é a que queremos prever\n",
    "    \n",
    "    prediction = validation['Last_Week_Sales'].values # \"Resposta correta\", valores que queremos que a previsão seja/acerte\n",
    "       \n",
    "    error = rmsle(validation['Sales'].values, prediction) # Comparando/Validando os valores que queríamos prever ['Sales'] com \n",
    "    print('Week %d - Error %.5f' % (week, error))                       #   as previsões do modelo['Last_Week_Sales']\n",
    "    mean_error.append(error)\n",
    "    \n",
    "print('\\nMean Error = %.5f' % np.mean(mean_error)) # Média de todos os erros"
   ]
  },
  {
   "cell_type": "markdown",
   "metadata": {},
   "source": [
    "Mean Error = 0.51581\n",
    "\n",
    "Isso é aproximadamente 50% de erro em cada previsão, o que parece enorme! Porém, entretanto, todavia...\n",
    "\n",
    "Se observarmos a distribuição de vendas no conjunto de dados, veremos que muitos itens vendem quantidades muito pequenas. Portanto, devemos esperar que o erro pareça \"alto\". Já que percentualmente falando, qualquer diferença nos retorna um valor percentual muito alto.\n",
    "\n",
    "        Por exemplo (com um olhar Beeeeeeeeem abstrato):\n",
    "        Se o valor for 1 e prevermos 2 teremos um retorno de \"100% de erro\".\n",
    "        Ou 2 e 1 -> 50%.\n",
    "        Enquanto se o valor for 10 e prevermos 12 teremos apenas \"20% de erro\".\n",
    "\n",
    "O **importante** é saber que quando os produtos que estamos prevendo estão nas dezenas, (digamos que) de 1 até 30, esses 50% de erro não são tão gritante, não é tão ruim assim."
   ]
  },
  {
   "cell_type": "code",
   "execution_count": 8,
   "metadata": {
    "scrolled": true
   },
   "outputs": [
    {
     "data": {
      "text/plain": [
       "<function matplotlib.pyplot.show(*args, **kw)>"
      ]
     },
     "execution_count": 8,
     "metadata": {},
     "output_type": "execute_result"
    },
    {
     "data": {
      "image/png": "[encoded data removed]",
      "text/plain": [
       "<Figure size 720x360 with 1 Axes>"
      ]
     },
     "metadata": {
      "needs_background": "light"
     },
     "output_type": "display_data"
    }
   ],
   "source": [
    "df2['Sales'].hist(bins=20, figsize=(10,5))\n",
    "plt.show()"
   ]
  },
  {
   "cell_type": "markdown",
   "metadata": {},
   "source": [
    "## 3 - Criando o modelo\n",
    "    Agora que temos uma baseline, vamos tentar vencê-la!\n",
    "    \n",
    "Como primeiro modelo, vamos usar uma _random florest_. Além de ser um modelo forte com dados estruturados (como o que temos), geralmente já podemos obter um resultado muito bom apenas definindo um número alto de estimadores/árvores."
   ]
  },
  {
   "cell_type": "code",
   "execution_count": 15,
   "metadata": {},
   "outputs": [
    {
     "name": "stdout",
     "output_type": "stream",
     "text": [
      "Week 40 - Error 0.46242\n",
      "Week 41 - Error 0.45964\n",
      "Week 42 - Error 0.46166\n",
      "Week 43 - Error 0.46655\n",
      "Week 44 - Error 0.47122\n",
      "Week 45 - Error 0.43100\n",
      "Week 46 - Error 0.47183\n",
      "Week 47 - Error 0.44945\n",
      "Week 48 - Error 0.46080\n",
      "Week 49 - Error 0.44696\n",
      "Week 50 - Error 0.47465\n",
      "Week 51 - Error 0.48651\n",
      "\n",
      "Mean Error = 0.46189\n"
     ]
    }
   ],
   "source": [
    "mean_error = []\n",
    "for week in range(40,52):\n",
    "    train = df2[df2['Week'] < week]\n",
    "    validation = df2[df2['Week'] == week]\n",
    "    \n",
    "    train_X, test_X = train.drop(['Sales'], axis=1), validation.drop(['Sales'], axis=1)\n",
    "    train_y, test_y = train['Sales'].values, validation['Sales'].values\n",
    "    \n",
    "    # Modelo --> RandomForestRegressor()\n",
    "    model = RandomForestRegressor(n_estimators=1000, n_jobs=-1, random_state=0)\n",
    "    \n",
    "    # Treinando/ Fazendo o modelo aprender os padrões nos dados\n",
    "    model.fit(train_X, train_y)\n",
    "    \n",
    "    #Passando os dados/as features de teste (que ele nunca viu) para usar o padrão aprendido na predição dos valores Y de teste \n",
    "    prediction = model.predict(test_X)\n",
    "    \n",
    "    # Calculando o erro para avaliarmos sua precisão\n",
    "    error = rmsle(test_y, prediction)\n",
    "    print('Week %d - Error %.5f' % (week, error))\n",
    "    mean_error.append(error)\n",
    "\n",
    "print('\\nMean Error = %.5f' % np.mean(mean_error))"
   ]
  },
  {
   "cell_type": "markdown",
   "metadata": {},
   "source": [
    "### Melhorando-o\n",
    "\n",
    "Aplicando RandomForest conseguimos reduzir a porcentagem de erros. \n",
    "\n",
    "Agora, vamos ver o que conseguimos ao adicionar algumas features de mais semanas no passado.\n",
    "\n",
    "Mas antes, vamos adicionar o atraso e a diferença de vendas da semana anterior e da penúltima semana."
   ]
  },
  {
   "cell_type": "code",
   "execution_count": 16,
   "metadata": {},
   "outputs": [
    {
     "data": {
      "text/html": [
       "<div>\n",
       "<style scoped>\n",
       "    .dataframe tbody tr th:only-of-type {\n",
       "        vertical-align: middle;\n",
       "    }\n",
       "\n",
       "    .dataframe tbody tr th {\n",
       "        vertical-align: top;\n",
       "    }\n",
       "\n",
       "    .dataframe thead th {\n",
       "        text-align: right;\n",
       "    }\n",
       "</style>\n",
       "<table border=\"1\" class=\"dataframe\">\n",
       "  <thead>\n",
       "    <tr style=\"text-align: right;\">\n",
       "      <th></th>\n",
       "      <th>Product_Code</th>\n",
       "      <th>Week</th>\n",
       "      <th>Sales</th>\n",
       "      <th>Last_Week_Sales</th>\n",
       "      <th>Last_Week_Diff</th>\n",
       "    </tr>\n",
       "  </thead>\n",
       "  <tbody>\n",
       "    <tr>\n",
       "      <th>1622</th>\n",
       "      <td>1</td>\n",
       "      <td>2</td>\n",
       "      <td>10</td>\n",
       "      <td>12.0</td>\n",
       "      <td>1.0</td>\n",
       "    </tr>\n",
       "    <tr>\n",
       "      <th>1623</th>\n",
       "      <td>2</td>\n",
       "      <td>2</td>\n",
       "      <td>3</td>\n",
       "      <td>6.0</td>\n",
       "      <td>-1.0</td>\n",
       "    </tr>\n",
       "    <tr>\n",
       "      <th>1624</th>\n",
       "      <td>3</td>\n",
       "      <td>2</td>\n",
       "      <td>8</td>\n",
       "      <td>11.0</td>\n",
       "      <td>4.0</td>\n",
       "    </tr>\n",
       "    <tr>\n",
       "      <th>1625</th>\n",
       "      <td>4</td>\n",
       "      <td>2</td>\n",
       "      <td>13</td>\n",
       "      <td>8.0</td>\n",
       "      <td>-4.0</td>\n",
       "    </tr>\n",
       "    <tr>\n",
       "      <th>1626</th>\n",
       "      <td>5</td>\n",
       "      <td>2</td>\n",
       "      <td>13</td>\n",
       "      <td>5.0</td>\n",
       "      <td>-3.0</td>\n",
       "    </tr>\n",
       "  </tbody>\n",
       "</table>\n",
       "</div>"
      ],
      "text/plain": [
       "      Product_Code  Week  Sales  Last_Week_Sales  Last_Week_Diff\n",
       "1622             1     2     10             12.0             1.0\n",
       "1623             2     2      3              6.0            -1.0\n",
       "1624             3     2      8             11.0             4.0\n",
       "1625             4     2     13              8.0            -4.0\n",
       "1626             5     2     13              5.0            -3.0"
      ]
     },
     "execution_count": 16,
     "metadata": {},
     "output_type": "execute_result"
    }
   ],
   "source": [
    "df2.head() # E para comparar, aqui esta o dataset que acabamos de usar."
   ]
  },
  {
   "cell_type": "code",
   "execution_count": 17,
   "metadata": {},
   "outputs": [
    {
     "data": {
      "text/html": [
       "<div>\n",
       "<style scoped>\n",
       "    .dataframe tbody tr th:only-of-type {\n",
       "        vertical-align: middle;\n",
       "    }\n",
       "\n",
       "    .dataframe tbody tr th {\n",
       "        vertical-align: top;\n",
       "    }\n",
       "\n",
       "    .dataframe thead th {\n",
       "        text-align: right;\n",
       "    }\n",
       "</style>\n",
       "<table border=\"1\" class=\"dataframe\">\n",
       "  <thead>\n",
       "    <tr style=\"text-align: right;\">\n",
       "      <th></th>\n",
       "      <th>Product_Code</th>\n",
       "      <th>Week</th>\n",
       "      <th>Sales</th>\n",
       "      <th>Last_Week_Sales</th>\n",
       "      <th>Last_Week_Diff</th>\n",
       "      <th>Last-1_Week_Sales</th>\n",
       "      <th>Last-1_Week_Diff</th>\n",
       "    </tr>\n",
       "  </thead>\n",
       "  <tbody>\n",
       "    <tr>\n",
       "      <th>2433</th>\n",
       "      <td>1</td>\n",
       "      <td>3</td>\n",
       "      <td>8</td>\n",
       "      <td>10.0</td>\n",
       "      <td>-2.0</td>\n",
       "      <td>12.0</td>\n",
       "      <td>1.0</td>\n",
       "    </tr>\n",
       "    <tr>\n",
       "      <th>2434</th>\n",
       "      <td>2</td>\n",
       "      <td>3</td>\n",
       "      <td>2</td>\n",
       "      <td>3.0</td>\n",
       "      <td>-3.0</td>\n",
       "      <td>6.0</td>\n",
       "      <td>-1.0</td>\n",
       "    </tr>\n",
       "    <tr>\n",
       "      <th>2435</th>\n",
       "      <td>3</td>\n",
       "      <td>3</td>\n",
       "      <td>9</td>\n",
       "      <td>8.0</td>\n",
       "      <td>-3.0</td>\n",
       "      <td>11.0</td>\n",
       "      <td>4.0</td>\n",
       "    </tr>\n",
       "    <tr>\n",
       "      <th>2436</th>\n",
       "      <td>4</td>\n",
       "      <td>3</td>\n",
       "      <td>5</td>\n",
       "      <td>13.0</td>\n",
       "      <td>5.0</td>\n",
       "      <td>8.0</td>\n",
       "      <td>-4.0</td>\n",
       "    </tr>\n",
       "    <tr>\n",
       "      <th>2437</th>\n",
       "      <td>5</td>\n",
       "      <td>3</td>\n",
       "      <td>11</td>\n",
       "      <td>13.0</td>\n",
       "      <td>8.0</td>\n",
       "      <td>5.0</td>\n",
       "      <td>-3.0</td>\n",
       "    </tr>\n",
       "  </tbody>\n",
       "</table>\n",
       "</div>"
      ],
      "text/plain": [
       "      Product_Code  Week  Sales  Last_Week_Sales  Last_Week_Diff  \\\n",
       "2433             1     3      8             10.0            -2.0   \n",
       "2434             2     3      2              3.0            -3.0   \n",
       "2435             3     3      9              8.0            -3.0   \n",
       "2436             4     3      5             13.0             5.0   \n",
       "2437             5     3     11             13.0             8.0   \n",
       "\n",
       "      Last-1_Week_Sales  Last-1_Week_Diff  \n",
       "2433               12.0               1.0  \n",
       "2434                6.0              -1.0  \n",
       "2435               11.0               4.0  \n",
       "2436                8.0              -4.0  \n",
       "2437                5.0              -3.0  "
      ]
     },
     "execution_count": 17,
     "metadata": {},
     "output_type": "execute_result"
    }
   ],
   "source": [
    "# Os processos são praticamente os mesmos já visto antes.\n",
    "df3 = df.copy()\n",
    "df3['Last_Week_Sales'] = df3.groupby(['Product_Code'])['Sales'].shift()\n",
    "df3['Last_Week_Diff'] = df3.groupby(['Product_Code'])['Last_Week_Sales'].diff()\n",
    "df3['Last-1_Week_Sales'] = df3.groupby(['Product_Code'])['Sales'].shift(2)\n",
    "df3['Last-1_Week_Diff'] = df3.groupby(['Product_Code'])['Last-1_Week_Sales'].diff()\n",
    "df3 = df3.dropna()\n",
    "df3.head()"
   ]
  },
  {
   "cell_type": "markdown",
   "metadata": {},
   "source": [
    "**Então treinamos mais um modelo, agora usando as variáveis antigas junto às novas.**"
   ]
  },
  {
   "cell_type": "code",
   "execution_count": 18,
   "metadata": {},
   "outputs": [
    {
     "name": "stdout",
     "output_type": "stream",
     "text": [
      "Week 40 - Error 0.44389\n",
      "Week 41 - Error 0.45812\n",
      "Week 42 - Error 0.43652\n",
      "Week 43 - Error 0.44033\n",
      "Week 44 - Error 0.46318\n",
      "Week 45 - Error 0.42361\n",
      "Week 46 - Error 0.45752\n",
      "Week 47 - Error 0.44533\n",
      "Week 48 - Error 0.44598\n",
      "Week 49 - Error 0.43538\n",
      "Week 50 - Error 0.47349\n",
      "Week 51 - Error 0.46487\n",
      "\n",
      "Mean Error = 0.44902\n"
     ]
    }
   ],
   "source": [
    "mean_error = []\n",
    "for week in range(40,52):\n",
    "    train = df3[df3['Week'] < week]\n",
    "    validation = df3[df3['Week'] == week]\n",
    "    \n",
    "    train_X, test_X = train.drop(['Sales'], axis=1), validation.drop(['Sales'], axis=1)\n",
    "    train_y, test_y = train['Sales'].values, validation['Sales'].values\n",
    "    \n",
    "    model = RandomForestRegressor(n_estimators=1000, n_jobs=-1, random_state=0)\n",
    "    model.fit(train_X, train_y)\n",
    "    \n",
    "    prediction = model.predict(test_X)\n",
    "    \n",
    "    error = rmsle(test_y, prediction)\n",
    "    print('Week %d - Error %.5f' % (week, error))\n",
    "    mean_error.append(error)\n",
    "\n",
    "print('\\nMean Error = %.5f' % np.mean(mean_error))"
   ]
  },
  {
   "cell_type": "markdown",
   "metadata": {},
   "source": [
    "Outra redução. Então por que não tentar um modelo com mais um atraso e diferença?"
   ]
  },
  {
   "cell_type": "code",
   "execution_count": 19,
   "metadata": {},
   "outputs": [
    {
     "data": {
      "text/html": [
       "<div>\n",
       "<style scoped>\n",
       "    .dataframe tbody tr th:only-of-type {\n",
       "        vertical-align: middle;\n",
       "    }\n",
       "\n",
       "    .dataframe tbody tr th {\n",
       "        vertical-align: top;\n",
       "    }\n",
       "\n",
       "    .dataframe thead th {\n",
       "        text-align: right;\n",
       "    }\n",
       "</style>\n",
       "<table border=\"1\" class=\"dataframe\">\n",
       "  <thead>\n",
       "    <tr style=\"text-align: right;\">\n",
       "      <th></th>\n",
       "      <th>Product_Code</th>\n",
       "      <th>Week</th>\n",
       "      <th>Sales</th>\n",
       "      <th>Last_Week_Sales</th>\n",
       "      <th>Last_Week_Diff</th>\n",
       "      <th>Last-1_Week_Sales</th>\n",
       "      <th>Last-1_Week_Diff</th>\n",
       "      <th>Last-2_Week_Sales</th>\n",
       "      <th>Last-2_Week_Diff</th>\n",
       "    </tr>\n",
       "  </thead>\n",
       "  <tbody>\n",
       "    <tr>\n",
       "      <th>3244</th>\n",
       "      <td>1</td>\n",
       "      <td>4</td>\n",
       "      <td>13</td>\n",
       "      <td>8.0</td>\n",
       "      <td>-2.0</td>\n",
       "      <td>10.0</td>\n",
       "      <td>-2.0</td>\n",
       "      <td>12.0</td>\n",
       "      <td>1.0</td>\n",
       "    </tr>\n",
       "    <tr>\n",
       "      <th>3245</th>\n",
       "      <td>2</td>\n",
       "      <td>4</td>\n",
       "      <td>7</td>\n",
       "      <td>2.0</td>\n",
       "      <td>-1.0</td>\n",
       "      <td>3.0</td>\n",
       "      <td>-3.0</td>\n",
       "      <td>6.0</td>\n",
       "      <td>-1.0</td>\n",
       "    </tr>\n",
       "    <tr>\n",
       "      <th>3246</th>\n",
       "      <td>3</td>\n",
       "      <td>4</td>\n",
       "      <td>10</td>\n",
       "      <td>9.0</td>\n",
       "      <td>1.0</td>\n",
       "      <td>8.0</td>\n",
       "      <td>-3.0</td>\n",
       "      <td>11.0</td>\n",
       "      <td>4.0</td>\n",
       "    </tr>\n",
       "    <tr>\n",
       "      <th>3247</th>\n",
       "      <td>4</td>\n",
       "      <td>4</td>\n",
       "      <td>9</td>\n",
       "      <td>5.0</td>\n",
       "      <td>-8.0</td>\n",
       "      <td>13.0</td>\n",
       "      <td>5.0</td>\n",
       "      <td>8.0</td>\n",
       "      <td>-4.0</td>\n",
       "    </tr>\n",
       "    <tr>\n",
       "      <th>3248</th>\n",
       "      <td>5</td>\n",
       "      <td>4</td>\n",
       "      <td>6</td>\n",
       "      <td>11.0</td>\n",
       "      <td>-2.0</td>\n",
       "      <td>13.0</td>\n",
       "      <td>8.0</td>\n",
       "      <td>5.0</td>\n",
       "      <td>-3.0</td>\n",
       "    </tr>\n",
       "  </tbody>\n",
       "</table>\n",
       "</div>"
      ],
      "text/plain": [
       "      Product_Code  Week  Sales  Last_Week_Sales  Last_Week_Diff  \\\n",
       "3244             1     4     13              8.0            -2.0   \n",
       "3245             2     4      7              2.0            -1.0   \n",
       "3246             3     4     10              9.0             1.0   \n",
       "3247             4     4      9              5.0            -8.0   \n",
       "3248             5     4      6             11.0            -2.0   \n",
       "\n",
       "      Last-1_Week_Sales  Last-1_Week_Diff  Last-2_Week_Sales  Last-2_Week_Diff  \n",
       "3244               10.0              -2.0               12.0               1.0  \n",
       "3245                3.0              -3.0                6.0              -1.0  \n",
       "3246                8.0              -3.0               11.0               4.0  \n",
       "3247               13.0               5.0                8.0              -4.0  \n",
       "3248               13.0               8.0                5.0              -3.0  "
      ]
     },
     "execution_count": 19,
     "metadata": {},
     "output_type": "execute_result"
    }
   ],
   "source": [
    "df4 = df.copy()\n",
    "df4['Last_Week_Sales'] = df4.groupby(['Product_Code'])['Sales'].shift()\n",
    "df4['Last_Week_Diff'] = df4.groupby(['Product_Code'])['Last_Week_Sales'].diff()\n",
    "df4['Last-1_Week_Sales'] = df4.groupby(['Product_Code'])['Sales'].shift(2)\n",
    "df4['Last-1_Week_Diff'] = df4.groupby(['Product_Code'])['Last-1_Week_Sales'].diff()\n",
    "df4['Last-2_Week_Sales'] = df4.groupby(['Product_Code'])['Sales'].shift(3)\n",
    "df4['Last-2_Week_Diff'] = df4.groupby(['Product_Code'])['Last-2_Week_Sales'].diff()\n",
    "df4 = df4.dropna()\n",
    "df4.head()"
   ]
  },
  {
   "cell_type": "code",
   "execution_count": 20,
   "metadata": {},
   "outputs": [
    {
     "name": "stdout",
     "output_type": "stream",
     "text": [
      "Week 40 - Error 0.43286\n",
      "Week 41 - Error 0.43986\n",
      "Week 42 - Error 0.43061\n",
      "Week 43 - Error 0.42074\n",
      "Week 44 - Error 0.45081\n",
      "Week 45 - Error 0.41358\n",
      "Week 46 - Error 0.44129\n",
      "Week 47 - Error 0.43286\n",
      "Week 48 - Error 0.43838\n",
      "Week 49 - Error 0.43048\n",
      "Week 50 - Error 0.46058\n",
      "Week 51 - Error 0.45568\n",
      "\n",
      "Mean Error = 0.43731\n"
     ]
    }
   ],
   "source": [
    "mean_error = []\n",
    "for week in range(40,52):\n",
    "    train = df4[df4['Week'] < week]\n",
    "    validation = df4[df4['Week'] == week]\n",
    "    \n",
    "    train_X, test_X = train.drop(['Sales'], axis=1), validation.drop(['Sales'], axis=1)\n",
    "    train_y, test_y = train['Sales'].values, validation['Sales'].values\n",
    "                                # menos n_estimators\n",
    "    model = RandomForestRegressor(n_estimators=100, n_jobs=-1, random_state=0)\n",
    "    model.fit(train_X, train_y)\n",
    "    \n",
    "    prediction = model.predict(test_X)\n",
    "    \n",
    "    error = rmsle(test_y, prediction)\n",
    "    print('Week %d - Error %.5f' % (week, error))\n",
    "    mean_error.append(error)\n",
    "\n",
    "print('\\nMean Error = %.5f' % np.mean(mean_error))"
   ]
  },
  {
   "cell_type": "markdown",
   "metadata": {},
   "source": [
    "Perceba que mesmo com bem menos estimadores (de 1000 para 100) ainda há redução de erros.\n",
    "\n",
    "Se continuarmos nesse processo, chegaremos a um limite de redução e podendo até aumentar os erros, por isso, agora focaremos em diminuir o erro com outras estratégias."
   ]
  },
  {
   "cell_type": "markdown",
   "metadata": {},
   "source": [
    "## Modificando a variável alvo\n",
    "        Melhor distribuindo a variável alvo para obter melhores retornos.\n",
    "        \n",
    "        Basicamente, ao invés de prever o número original/o número bruto de quantas unidades foram\n",
    "        vendidas, vamos prever o log do número de unidades. Pois ao tirar o log a distribuição da váriavel \n",
    "        mudará, facilitando para o modelo encontrar padrões. \n",
    "\n",
    "Analisando a tabela de logaritmos dá para perceber a mudança que ocorre. Se bem que para não termos problemas com 0 utiliza-se .log1p(), assim ele somará 1 antes de fazer o log (já que se alguma variável tiver o valor igual a zero, teremos problemas, assim 0+1=1, logo o retorno será log de 1 que é 0).\n",
    "\n",
    "Tabela de logaritmo: https://raw.githubusercontent.com/pauloreis-ds/Paulo-Reis-Ciencia-de-dados/master/3%20-%20An%C3%A1lise%20de%20dados%20(com%20Machine%20Learning)%20-%20Data%20Analysis%20(Machine%20Learning)/Previs%C3%A3o%20de%20demanda/adicional/tabua-logaritmos.bmp"
   ]
  },
  {
   "cell_type": "code",
   "execution_count": 26,
   "metadata": {},
   "outputs": [
    {
     "data": {
      "image/png": "[encoded data removed]",
      "text/plain": [
       "<Figure size 576x360 with 1 Axes>"
      ]
     },
     "metadata": {
      "needs_background": "light"
     },
     "output_type": "display_data"
    }
   ],
   "source": [
    "# Distribuição de vendas dos dados, percebemos que muitos itens vendem quantidades muito pequenas.\n",
    "df2['Sales'].hist(bins=20, figsize=(8,5))\n",
    "plt.show()"
   ]
  },
  {
   "cell_type": "code",
   "execution_count": 27,
   "metadata": {},
   "outputs": [
    {
     "data": {
      "image/png": "[encoded data removed]",
      "text/plain": [
       "<Figure size 576x360 with 1 Axes>"
      ]
     },
     "metadata": {
      "needs_background": "light"
     },
     "output_type": "display_data"
    }
   ],
   "source": [
    "# Note como os dados estão mais distribuídos, após aplicarmos a função log \n",
    "np.log1p(df4.Sales).hist(bins=20, figsize=(8,5))\n",
    "plt.show()"
   ]
  },
  {
   "cell_type": "code",
   "execution_count": 22,
   "metadata": {},
   "outputs": [
    {
     "name": "stdout",
     "output_type": "stream",
     "text": [
      "Week 40 - Error 0.41729\n",
      "Week 41 - Error 0.42244\n",
      "Week 42 - Error 0.41291\n",
      "Week 43 - Error 0.40411\n",
      "Week 44 - Error 0.43460\n",
      "Week 45 - Error 0.39733\n",
      "Week 46 - Error 0.42591\n",
      "Week 47 - Error 0.41201\n",
      "Week 48 - Error 0.43050\n",
      "Week 49 - Error 0.43626\n",
      "Week 50 - Error 0.44554\n",
      "Week 51 - Error 0.47273\n",
      "\n",
      "Mean Error = 0.42597\n"
     ]
    }
   ],
   "source": [
    "mean_error = []\n",
    "for week in range(40,52):\n",
    "    train = df4[df4['Week'] < week]\n",
    "    validation = df4[df4['Week'] == week]\n",
    "    \n",
    "    train_X, test_X = train.drop(['Sales'], axis=1), validation.drop(['Sales'], axis=1)\n",
    "    train_y, test_y = train['Sales'].values, validation['Sales'].values\n",
    "    \n",
    "    model = RandomForestRegressor(n_estimators=500, n_jobs=-1, random_state=0)\n",
    "    \n",
    "    # Modificando nosso alvo\n",
    "    model.fit(train_X, np.log1p(train_y)) \n",
    "    \n",
    "    # Transformando as previsões do modelo em valores que façam sentido para nós, em outras palavras deslogando o modelo\n",
    "    prediction = np.expm1(model.predict(test_X)) \n",
    "    \n",
    "    error = rmsle(test_y, prediction)\n",
    "    print('Week %d - Error %.5f' % (week, error))\n",
    "    mean_error.append(error)\n",
    "\n",
    "print('\\nMean Error = %.5f' % np.mean(mean_error))"
   ]
  },
  {
   "cell_type": "markdown",
   "metadata": {},
   "source": [
    "## Um modelo melhor\n",
    "**Outra opção para conseguir melhores resultados é utilizando modelos mais avançados, como por exemplo o LGBMRegressor, o que também é um modelo de árvore, mas ele tem uma abordagem diferente da RandomForest**"
   ]
  },
  {
   "cell_type": "code",
   "execution_count": 28,
   "metadata": {},
   "outputs": [
    {
     "name": "stdout",
     "output_type": "stream",
     "text": [
      "Week 40 - Error 0.40835\n",
      "Week 41 - Error 0.39895\n",
      "Week 42 - Error 0.39485\n",
      "Week 43 - Error 0.39366\n",
      "Week 44 - Error 0.42093\n",
      "Week 45 - Error 0.37787\n",
      "Week 46 - Error 0.40440\n",
      "Week 47 - Error 0.38931\n",
      "Week 48 - Error 0.39630\n",
      "Week 49 - Error 0.40957\n",
      "Week 50 - Error 0.42134\n",
      "Week 51 - Error 0.45500\n",
      "\n",
      "Mean Error = 0.40588\n"
     ]
    }
   ],
   "source": [
    "mean_error = []\n",
    "for week in range(40,52):\n",
    "    train = df4[df4['Week'] < week]\n",
    "    validation = df4[df4['Week'] == week]\n",
    "    \n",
    "    train_X, test_X = train.drop(['Sales'], axis=1), validation.drop(['Sales'], axis=1)\n",
    "    train_y, test_y = train['Sales'].values, validation['Sales'].values\n",
    "    \n",
    "    model = LGBMRegressor(n_estimators=500, learning_rate=0.01)\n",
    "    model.fit(train_X, np.log1p(train_y))\n",
    "    \n",
    "    prediction = np.expm1(model.predict(test_X))\n",
    "    \n",
    "    error = rmsle(test_y, prediction)\n",
    "    print('Week %d - Error %.5f' % (week, error))\n",
    "    mean_error.append(error)\n",
    "\n",
    "print('\\nMean Error = %.5f' % np.mean(mean_error))"
   ]
  },
  {
   "cell_type": "markdown",
   "metadata": {},
   "source": [
    "**Para finalizar, vamos dar uma olhada em nossas previsões para a semana 52:**<br>\n",
    "Veremos que o modelo vai bem até produtos que são vendidos até 20 unidades, depois disso ele começa a embaçar."
   ]
  },
  {
   "cell_type": "code",
   "execution_count": 45,
   "metadata": {},
   "outputs": [
    {
     "data": {
      "text/plain": [
       "array([5.05368656, 4.10682792, 8.89519601, 8.87745301, 7.29732768])"
      ]
     },
     "execution_count": 45,
     "metadata": {},
     "output_type": "execute_result"
    }
   ],
   "source": [
    "prediction[0:5] # As previsões"
   ]
  },
  {
   "cell_type": "code",
   "execution_count": 46,
   "metadata": {},
   "outputs": [
    {
     "data": {
      "text/plain": [
       "array([5., 4., 9., 9., 7.])"
      ]
     },
     "execution_count": 46,
     "metadata": {},
     "output_type": "execute_result"
    }
   ],
   "source": [
    "np.round(prediction[0:5]) # Arredondando seus valores"
   ]
  },
  {
   "cell_type": "code",
   "execution_count": 34,
   "metadata": {
    "scrolled": false
   },
   "outputs": [
    {
     "data": {
      "image/png": "[encoded data removed]",
      "text/plain": [
       "<Figure size 864x576 with 1 Axes>"
      ]
     },
     "metadata": {
      "needs_background": "light"
     },
     "output_type": "display_data"
    }
   ],
   "source": [
    "validation.loc[:, 'Prediction'] = np.round(prediction.copy())\n",
    "validation.plot.scatter(x='Prediction', y='Sales', figsize=(12,8), title='Prediction vs Sales',ylim=(0,40), xlim=(0,40))\n",
    "plt.show()"
   ]
  },
  {
   "cell_type": "code",
   "execution_count": 48,
   "metadata": {
    "scrolled": true
   },
   "outputs": [
    {
     "data": {
      "text/html": [
       "<div>\n",
       "<style scoped>\n",
       "    .dataframe tbody tr th:only-of-type {\n",
       "        vertical-align: middle;\n",
       "    }\n",
       "\n",
       "    .dataframe tbody tr th {\n",
       "        vertical-align: top;\n",
       "    }\n",
       "\n",
       "    .dataframe thead th {\n",
       "        text-align: right;\n",
       "    }\n",
       "</style>\n",
       "<table border=\"1\" class=\"dataframe\">\n",
       "  <thead>\n",
       "    <tr style=\"text-align: right;\">\n",
       "      <th></th>\n",
       "      <th>Product_Code</th>\n",
       "      <th>Week</th>\n",
       "      <th>Sales</th>\n",
       "      <th>Last_Week_Sales</th>\n",
       "      <th>Last_Week_Diff</th>\n",
       "      <th>Last-1_Week_Sales</th>\n",
       "      <th>Last-1_Week_Diff</th>\n",
       "      <th>Last-2_Week_Sales</th>\n",
       "      <th>Last-2_Week_Diff</th>\n",
       "      <th>Prediction</th>\n",
       "    </tr>\n",
       "  </thead>\n",
       "  <tbody>\n",
       "    <tr>\n",
       "      <th>41361</th>\n",
       "      <td>1</td>\n",
       "      <td>51</td>\n",
       "      <td>10</td>\n",
       "      <td>5.0</td>\n",
       "      <td>-1.0</td>\n",
       "      <td>6.0</td>\n",
       "      <td>-1.0</td>\n",
       "      <td>7.0</td>\n",
       "      <td>4.0</td>\n",
       "      <td>5.0</td>\n",
       "    </tr>\n",
       "    <tr>\n",
       "      <th>41362</th>\n",
       "      <td>2</td>\n",
       "      <td>51</td>\n",
       "      <td>0</td>\n",
       "      <td>6.0</td>\n",
       "      <td>5.0</td>\n",
       "      <td>1.0</td>\n",
       "      <td>-4.0</td>\n",
       "      <td>5.0</td>\n",
       "      <td>1.0</td>\n",
       "      <td>4.0</td>\n",
       "    </tr>\n",
       "    <tr>\n",
       "      <th>41363</th>\n",
       "      <td>3</td>\n",
       "      <td>51</td>\n",
       "      <td>7</td>\n",
       "      <td>8.0</td>\n",
       "      <td>0.0</td>\n",
       "      <td>8.0</td>\n",
       "      <td>-6.0</td>\n",
       "      <td>14.0</td>\n",
       "      <td>6.0</td>\n",
       "      <td>9.0</td>\n",
       "    </tr>\n",
       "    <tr>\n",
       "      <th>41364</th>\n",
       "      <td>4</td>\n",
       "      <td>51</td>\n",
       "      <td>8</td>\n",
       "      <td>7.0</td>\n",
       "      <td>-1.0</td>\n",
       "      <td>8.0</td>\n",
       "      <td>-6.0</td>\n",
       "      <td>14.0</td>\n",
       "      <td>6.0</td>\n",
       "      <td>9.0</td>\n",
       "    </tr>\n",
       "    <tr>\n",
       "      <th>41365</th>\n",
       "      <td>5</td>\n",
       "      <td>51</td>\n",
       "      <td>9</td>\n",
       "      <td>8.0</td>\n",
       "      <td>-3.0</td>\n",
       "      <td>11.0</td>\n",
       "      <td>6.0</td>\n",
       "      <td>5.0</td>\n",
       "      <td>-1.0</td>\n",
       "      <td>7.0</td>\n",
       "    </tr>\n",
       "  </tbody>\n",
       "</table>\n",
       "</div>"
      ],
      "text/plain": [
       "       Product_Code  Week  Sales  Last_Week_Sales  Last_Week_Diff  \\\n",
       "41361             1    51     10              5.0            -1.0   \n",
       "41362             2    51      0              6.0             5.0   \n",
       "41363             3    51      7              8.0             0.0   \n",
       "41364             4    51      8              7.0            -1.0   \n",
       "41365             5    51      9              8.0            -3.0   \n",
       "\n",
       "       Last-1_Week_Sales  Last-1_Week_Diff  Last-2_Week_Sales  \\\n",
       "41361                6.0              -1.0                7.0   \n",
       "41362                1.0              -4.0                5.0   \n",
       "41363                8.0              -6.0               14.0   \n",
       "41364                8.0              -6.0               14.0   \n",
       "41365               11.0               6.0                5.0   \n",
       "\n",
       "       Last-2_Week_Diff  Prediction  \n",
       "41361               4.0         5.0  \n",
       "41362               1.0         4.0  \n",
       "41363               6.0         9.0  \n",
       "41364               6.0         9.0  \n",
       "41365              -1.0         7.0  "
      ]
     },
     "execution_count": 48,
     "metadata": {},
     "output_type": "execute_result"
    }
   ],
   "source": [
    "validation.head() # Todos os dados de Teste, incluindo as previsões"
   ]
  },
  {
   "cell_type": "markdown",
   "metadata": {},
   "source": [
    "No gráfico podemos perceber um \"cluster\" de produtos que têm cerca de 30 vendas por dia em que nosso modelo não prevê. Definitivamente, devemos investigar esse grupo, entender por que isso está acontecendo e ver se podemos ajustar nosso modelo a isso.\n",
    "\n",
    "Faltam informações? Talvez estes sejam produtos comprados a granel? Ou as unidades são diferentes (libras vs onças)? Podemos formular hipóteses e então investigá-las."
   ]
  },
  {
   "cell_type": "markdown",
   "metadata": {},
   "source": [
    "## Melhorando a solução\n",
    "Algumas ideias para tentar melhorar esta solução:\n",
    "\n",
    "- Investigar produtos com vendas acima de 25 unidades.\n",
    "- Testar com mais features (atrasos, diferenças) não apenas no nível do produto, mas no global.\n",
    "- Tentar usar o suporte nativo do LightGBM para recursos categóricos com o Código do produto.\n",
    "- Tentar ajustar os hiperparâmetros do modelo.\n",
    "- Experimentar uma rede neural e fazer conjunto com o GBM."
   ]
  }
 ],
 "metadata": {
  "kernelspec": {
   "display_name": "Python 3",
   "language": "python",
   "name": "python3"
  },
  "language_info": {
   "codemirror_mode": {
    "name": "ipython",
    "version": 3
   },
   "file_extension": ".py",
   "mimetype": "text/x-python",
   "name": "python",
   "nbconvert_exporter": "python",
   "pygments_lexer": "ipython3",
   "version": "3.7.7"
  }
 },
 "nbformat": 4,
 "nbformat_minor": 4
}
