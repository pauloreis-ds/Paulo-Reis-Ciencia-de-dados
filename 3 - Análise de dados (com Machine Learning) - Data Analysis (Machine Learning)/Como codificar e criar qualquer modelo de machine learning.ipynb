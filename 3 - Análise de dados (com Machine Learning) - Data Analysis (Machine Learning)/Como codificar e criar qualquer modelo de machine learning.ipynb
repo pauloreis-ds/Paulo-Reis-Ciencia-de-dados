{
 "cells": [
  {
   "cell_type": "markdown",
   "metadata": {},
   "source": [
    "Esta é uma visualização de código básica feita para ajudá-lo a entender cada etapa em um código de machine learning. Podemos adicionar muitas outras etapas e aumentar a complexidade o tanto quanto quisermos, mas, eventualmente, você aprenderá e saberá lidar com problemas e códigos complexos.\n",
    "\n",
    "# Como realmente machine.learniamos(learn = True) as coisas?\n",
    "\n",
    "**Vamos ver esse processo em um pseudocódigo**\n",
    "\n",
    "**Primeiro, carregamos os dados na memória:** "
   ]
  },
  {
   "cell_type": "code",
   "execution_count": null,
   "metadata": {},
   "outputs": [],
   "source": [
    "dados = função_para.carregar_dados(\"arquivo com dados.csv\")"
   ]
  },
  {
   "cell_type": "markdown",
   "metadata": {},
   "source": [
    "**...e depois de prepararmos os dados (Análise Exploratória de Dados,  pré-processamento de dados...) podemos aplicar machine learning a eles:**"
   ]
  },
  {
   "cell_type": "code",
   "execution_count": null,
   "metadata": {},
   "outputs": [],
   "source": [
    "# importando apenas o que é necessário\n",
    "\n",
    "from biblioteca_de_ML.métodos_úteis import separar_treino_teste\n",
    "from biblioteca_de_ML.selecionar_modelo import SeuModelo"
   ]
  },
  {
   "cell_type": "markdown",
   "metadata": {},
   "source": [
    "**1 - Você divide os dados em dados de treinamento e teste. Neste caso, estamos usando um método da \" _biblioteca_de_ML_ \" para fazer isso para nós, mas você poderia fazer isso de uma maneira diferente.**"
   ]
  },
  {
   "cell_type": "code",
   "execution_count": null,
   "metadata": {},
   "outputs": [],
   "source": [
    "X_treino, X_teste, y_treino, y_teste = separar_treino_teste(data['coluna com X_features'], data['coluna com y_label(s)'])"
   ]
  },
  {
   "cell_type": "markdown",
   "metadata": {},
   "source": [
    "**2 - Você cria uma instância do objeto SeuModelo, para que possa usar seus métodos.**"
   ]
  },
  {
   "cell_type": "code",
   "execution_count": 1,
   "metadata": {},
   "outputs": [
    {
     "name": "stdout",
     "output_type": "stream",
     "text": [
      "SeuModelo() object type\n"
     ]
    }
   ],
   "source": [
    "modelo = SeuModelo()"
   ]
  },
  {
   "cell_type": "markdown",
   "metadata": {},
   "source": [
    "**3 - Agora você usa os métodos do objeto  \"_SeuModelo()_ \" para resolver seu problema e prever ou classificar o que quiser. E você faz isso treinando o modelo (em outros termos \"_fitting model_ \" ([.fit](https://scikit-learn.org/stable/modules/generated/sklearn.linear_model.LinearRegression.html?highlight=linear%20regression#sklearn.linear_model.LinearRegression.fit))),  avaliando-o ([.score](https://scikit-learn.org/stable/modules/generated/sklearn.linear_model.LinearRegression.html?highlight=linear%20regression#sklearn.linear_model.LinearRegression.score)), e mais...**\n",
    "\n",
    "> .fit() .score() - Esses métodos meio que \"variam\" de modelo para modelo, por exemplo, você pode ver [.fit_transform()](https://scikit-learn.org/stable/modules/generated/sklearn.impute.KNNImputer.html?highlight=knn#sklearn.impute.KNNImputer.fit_transform) ou [.fit_predict()](https://scikit-learn.org/stable/modules/generated/sklearn.svm.OneClassSVM.html#sklearn.svm.OneClassSVM.fit_predict), mas a base é a mesma.\n",
    "\n",
    "**O modelo cuidará de descobrir a relação (matemática) entre os dados:**"
   ]
  },
  {
   "cell_type": "code",
   "execution_count": null,
   "metadata": {},
   "outputs": [],
   "source": [
    "modelo.treinando_algoritmo(X_treino, y_treino, outro_parâmetro_que_varia_de_modelo_para_modelo = False)\n",
    "\n",
    "# modelo.fit(X_treino, y_treino)"
   ]
  },
  {
   "cell_type": "markdown",
   "metadata": {},
   "source": [
    "**Por fim, usamos os _dados de teste_ (cujo modelo nunca viu / tocou) para ver se ele realmente encontrou a função que melhor representa a interação/relacionamento entre os dados e quão bom é este modelo:**"
   ]
  },
  {
   "cell_type": "code",
   "execution_count": 1,
   "metadata": {},
   "outputs": [
    {
     "name": "stdout",
     "output_type": "stream",
     "text": [
      "Score: 0.84\n"
     ]
    }
   ],
   "source": [
    "print('Score: ', modelo.avaliar(X_teste, y_teste))"
   ]
  },
  {
   "cell_type": "markdown",
   "metadata": {},
   "source": [
    "**Neste ponto, pensamos se a \"precisão\" do modelo é boa o suficiente para ser usada ou se precisamos ajustar nosso modelo alterando alguns parâmetros em alguns métodos ou talvez trabalhando mais na feature engineering ou no pré-processamento de dados...**"
   ]
  }
 ],
 "metadata": {
  "kernelspec": {
   "display_name": "Python 3",
   "language": "python",
   "name": "python3"
  },
  "language_info": {
   "codemirror_mode": {
    "name": "ipython",
    "version": 3
   },
   "file_extension": ".py",
   "mimetype": "text/x-python",
   "name": "python",
   "nbconvert_exporter": "python",
   "pygments_lexer": "ipython3",
   "version": "3.7.7"
  }
 },
 "nbformat": 4,
 "nbformat_minor": 4
}
