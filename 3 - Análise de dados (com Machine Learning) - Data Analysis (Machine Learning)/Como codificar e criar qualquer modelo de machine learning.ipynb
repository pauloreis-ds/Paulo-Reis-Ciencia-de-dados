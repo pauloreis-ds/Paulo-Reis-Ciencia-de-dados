{
 "cells": [
  {
   "cell_type": "markdown",
   "id": "3ae567d4",
   "metadata": {},
   "source": [
    "Esta é uma visualização de código básica feita para ajudá-lo a entender cada etapa em um código de machine learning.<br> Podemos adicionar muitas outras etapas e aumentar a complexidade o tanto quanto quisermos, mas, eventualmente,<br> \n",
    "você aprenderá e saberá lidar com problemas e códigos complexos.\n",
    "\n",
    "## Como realmente machine.learniamos(learn = True) as coisas?\n",
    "**Vamos ver esse processo em um pseudocódigo**\n",
    "\n",
    "**Primeiro, carregamos os dados na memória:**"
   ]
  },
  {
   "cell_type": "code",
   "execution_count": 1,
   "id": "11817d03",
   "metadata": {},
   "outputs": [],
   "source": [
    "dados = função_para.carregar_dados(\"arquivo com dados.csv\")"
   ]
  },
  {
   "cell_type": "markdown",
   "id": "07784d55",
   "metadata": {},
   "source": [
    "**...e depois de prepararmos os dados (Análise Exploratória de Dados, pré-processamento de dados...) podemos aplicar machine learning a eles:**"
   ]
  },
  {
   "cell_type": "code",
   "execution_count": 2,
   "id": "3183ad31",
   "metadata": {},
   "outputs": [],
   "source": [
    "# importando apenas o que é necessário\n",
    "\n",
    "from biblioteca_de_ML.métodos_úteis import separar_treino_teste\n",
    "from biblioteca_de_ML.selecionar_modelo import SeuModelo"
   ]
  },
  {
   "cell_type": "markdown",
   "id": "078a4a5c",
   "metadata": {},
   "source": [
    "**1 - Você divide os dados em dados de treinamento e teste. Neste caso, estamos usando uma função da _\"biblioteca_de_ML\"_ para fazer isso para nós, mas você poderia fazer isso de uma maneira diferente.**"
   ]
  },
  {
   "cell_type": "code",
   "execution_count": 3,
   "id": "9a68ecdb",
   "metadata": {},
   "outputs": [],
   "source": [
    "X_treino, X_teste, y_treino, y_teste = separar_treino_teste(dados['coluna com X (features)'], dados['coluna com y (labels)'])"
   ]
  },
  {
   "cell_type": "markdown",
   "id": "9be66d68",
   "metadata": {},
   "source": [
    "**2 - Você cria uma instância do objeto SeuModelo, para que possa usar seus métodos.**"
   ]
  },
  {
   "cell_type": "code",
   "execution_count": 4,
   "id": "46427d51",
   "metadata": {},
   "outputs": [
    {
     "name": "stdout",
     "output_type": "stream",
     "text": [
      "SeuModelo() object type\n"
     ]
    }
   ],
   "source": [
    "modelo = SeuModelo()"
   ]
  },
  {
   "cell_type": "markdown",
   "id": "0ed04c8c",
   "metadata": {},
   "source": [
    "**3 - Agora você usa os métodos do objeto _\"SeuModelo()\"_ para resolver seu problema e prever ou classificar o que quiser. E você faz isso treinando o modelo (em outros termos \"fitting model \" ([.fit](https://scikit-learn.org/stable/modules/generated/sklearn.linear_model.LinearRegression.html?highlight=linear%20regression#sklearn.linear_model.LinearRegression.fit))), e avaliando-o ([.score](https://scikit-learn.org/stable/modules/generated/sklearn.linear_model.LinearRegression.html?highlight=linear%20regression#sklearn.linear_model.LinearRegression.score)), e mais...**\n",
    "\n",
    "> .fit() faz o modelo aprender as relações existentes nos dados.\n",
    ">\n",
    "> Há outros modos ([métricas](https://scikit-learn.org/stable/modules/model_evaluation.html)) para avaliar a precisão do modelo, .score() é básico, para estudo.\n",
    "\n",
    "**O modelo cuidará de descobrir a relação (matemática) nos dados:**"
   ]
  },
  {
   "cell_type": "code",
   "execution_count": 5,
   "id": "255e6b22",
   "metadata": {},
   "outputs": [],
   "source": [
    "modelo.treinando_algoritmo(X_treino, y_treino, outro_parâmetro='que_varia_de_modelo', para_modelo=False)\n",
    "\n",
    "# ou como falei antes:\n",
    "modelo.fit(X_treino, y_treino)"
   ]
  },
  {
   "cell_type": "markdown",
   "id": "02f1d038",
   "metadata": {},
   "source": [
    "**Por fim, usamos os dados de teste (que o modelo nunca viu / tocou) para ver se ele realmente encontrou a função que melhor representa a interação/relacionamento entre os dados e quão bom é este modelo:**"
   ]
  },
  {
   "cell_type": "code",
   "execution_count": 6,
   "id": "2a30006d",
   "metadata": {},
   "outputs": [
    {
     "name": "stdout",
     "output_type": "stream",
     "text": [
      "Score: 0.84\n"
     ]
    }
   ],
   "source": [
    "print('Score: ', modelo.avaliar(X_teste, y_teste))"
   ]
  },
  {
   "cell_type": "markdown",
   "id": "d07876a6",
   "metadata": {},
   "source": [
    "**Neste ponto, pensamos se a \"precisão\" do modelo é boa o suficiente para ser usada ou se precisamos ajustar nosso modelo alterando alguns parâmetros ou talvez trabalhando mais na feature engineering ou no pré-processamento de dados...**"
   ]
  }
 ],
 "metadata": {
  "kernelspec": {
   "display_name": "Python 3",
   "language": "python",
   "name": "python3"
  },
  "language_info": {
   "codemirror_mode": {
    "name": "ipython",
    "version": 3
   },
   "file_extension": ".py",
   "mimetype": "text/x-python",
   "name": "python",
   "nbconvert_exporter": "python",
   "pygments_lexer": "ipython3",
   "version": "3.8.5"
  }
 },
 "nbformat": 4,
 "nbformat_minor": 5
}
