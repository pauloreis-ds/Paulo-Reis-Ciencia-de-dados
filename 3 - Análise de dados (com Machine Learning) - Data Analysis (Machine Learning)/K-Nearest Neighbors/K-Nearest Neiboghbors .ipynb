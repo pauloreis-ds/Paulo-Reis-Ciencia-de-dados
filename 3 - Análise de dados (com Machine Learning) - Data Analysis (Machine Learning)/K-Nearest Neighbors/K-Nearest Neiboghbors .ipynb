{
 "cells": [
  {
   "cell_type": "markdown",
   "metadata": {},
   "source": [
    "# Classificando carros\n",
    "\n",
    "## Agenda\n",
    "         1 - Exploração de Dados\n",
    "         2 - Codificando features\n",
    "                 zip() pequeno exemplo - basta ver o que está acontecendo\n",
    "         3 - Treinar o modelo\n",
    "                 subconjuntos de treinamento e teste Exemplo Curto - basta ver o que está acontecendo\n",
    "             3.1 Implementando K-NN\n",
    "         4 - Previsões vs valores reais"
   ]
  },
  {
   "cell_type": "code",
   "execution_count": 1,
   "metadata": {},
   "outputs": [],
   "source": [
    "# Manipulação de dados\n",
    "import pandas as pd\n",
    "# Python numérico\n",
    "import numpy as np\n",
    "\n",
    "# Machine Learning\n",
    "import sklearn\n",
    "from sklearn.utils import shuffle\n",
    "from sklearn.neighbors import KNeighborsClassifier\n",
    "from sklearn import linear_model, preprocessing"
   ]
  },
  {
   "cell_type": "code",
   "execution_count": 2,
   "metadata": {},
   "outputs": [],
   "source": [
    "data = pd.read_csv('car.data')"
   ]
  },
  {
   "cell_type": "code",
   "execution_count": 6,
   "metadata": {},
   "outputs": [
    {
     "data": {
      "text/html": [
       "<div>\n",
       "<style scoped>\n",
       "    .dataframe tbody tr th:only-of-type {\n",
       "        vertical-align: middle;\n",
       "    }\n",
       "\n",
       "    .dataframe tbody tr th {\n",
       "        vertical-align: top;\n",
       "    }\n",
       "\n",
       "    .dataframe thead th {\n",
       "        text-align: right;\n",
       "    }\n",
       "</style>\n",
       "<table border=\"1\" class=\"dataframe\">\n",
       "  <thead>\n",
       "    <tr style=\"text-align: right;\">\n",
       "      <th></th>\n",
       "      <th>buying</th>\n",
       "      <th>maint</th>\n",
       "      <th>door</th>\n",
       "      <th>persons</th>\n",
       "      <th>lug_boot</th>\n",
       "      <th>safety</th>\n",
       "      <th>class</th>\n",
       "    </tr>\n",
       "  </thead>\n",
       "  <tbody>\n",
       "    <tr>\n",
       "      <th>0</th>\n",
       "      <td>vhigh</td>\n",
       "      <td>vhigh</td>\n",
       "      <td>2</td>\n",
       "      <td>2</td>\n",
       "      <td>small</td>\n",
       "      <td>low</td>\n",
       "      <td>unacc</td>\n",
       "    </tr>\n",
       "    <tr>\n",
       "      <th>1</th>\n",
       "      <td>vhigh</td>\n",
       "      <td>vhigh</td>\n",
       "      <td>2</td>\n",
       "      <td>2</td>\n",
       "      <td>small</td>\n",
       "      <td>med</td>\n",
       "      <td>unacc</td>\n",
       "    </tr>\n",
       "    <tr>\n",
       "      <th>2</th>\n",
       "      <td>vhigh</td>\n",
       "      <td>vhigh</td>\n",
       "      <td>2</td>\n",
       "      <td>2</td>\n",
       "      <td>small</td>\n",
       "      <td>high</td>\n",
       "      <td>unacc</td>\n",
       "    </tr>\n",
       "    <tr>\n",
       "      <th>3</th>\n",
       "      <td>vhigh</td>\n",
       "      <td>vhigh</td>\n",
       "      <td>2</td>\n",
       "      <td>2</td>\n",
       "      <td>med</td>\n",
       "      <td>low</td>\n",
       "      <td>unacc</td>\n",
       "    </tr>\n",
       "    <tr>\n",
       "      <th>4</th>\n",
       "      <td>vhigh</td>\n",
       "      <td>vhigh</td>\n",
       "      <td>2</td>\n",
       "      <td>2</td>\n",
       "      <td>med</td>\n",
       "      <td>med</td>\n",
       "      <td>unacc</td>\n",
       "    </tr>\n",
       "  </tbody>\n",
       "</table>\n",
       "</div>"
      ],
      "text/plain": [
       "  buying  maint door persons lug_boot safety  class\n",
       "0  vhigh  vhigh    2       2    small    low  unacc\n",
       "1  vhigh  vhigh    2       2    small    med  unacc\n",
       "2  vhigh  vhigh    2       2    small   high  unacc\n",
       "3  vhigh  vhigh    2       2      med    low  unacc\n",
       "4  vhigh  vhigh    2       2      med    med  unacc"
      ]
     },
     "execution_count": 6,
     "metadata": {},
     "output_type": "execute_result"
    }
   ],
   "source": [
    "data.head()"
   ]
  },
  {
   "cell_type": "markdown",
   "metadata": {},
   "source": [
    "## 1 - Exploração de Dados"
   ]
  },
  {
   "cell_type": "code",
   "execution_count": 7,
   "metadata": {},
   "outputs": [
    {
     "data": {
      "text/plain": [
       "(1728, 7)"
      ]
     },
     "execution_count": 7,
     "metadata": {},
     "output_type": "execute_result"
    }
   ],
   "source": [
    "# Número de linhas e colunas\n",
    "\n",
    "data.shape"
   ]
  },
  {
   "cell_type": "code",
   "execution_count": 8,
   "metadata": {
    "scrolled": true
   },
   "outputs": [
    {
     "name": "stdout",
     "output_type": "stream",
     "text": [
      "<class 'pandas.core.frame.DataFrame'>\n",
      "RangeIndex: 1728 entries, 0 to 1727\n",
      "Data columns (total 7 columns):\n",
      " #   Column    Non-Null Count  Dtype \n",
      "---  ------    --------------  ----- \n",
      " 0   buying    1728 non-null   object\n",
      " 1   maint     1728 non-null   object\n",
      " 2   door      1728 non-null   object\n",
      " 3   persons   1728 non-null   object\n",
      " 4   lug_boot  1728 non-null   object\n",
      " 5   safety    1728 non-null   object\n",
      " 6   class     1728 non-null   object\n",
      "dtypes: object(7)\n",
      "memory usage: 94.6+ KB\n"
     ]
    }
   ],
   "source": [
    "# Informações básicas sobre todas as colunas (sem valores nulos, isso é bom hehe)\n",
    "\n",
    "data.info()"
   ]
  },
  {
   "cell_type": "code",
   "execution_count": 16,
   "metadata": {},
   "outputs": [
    {
     "data": {
      "text/html": [
       "<div>\n",
       "<style scoped>\n",
       "    .dataframe tbody tr th:only-of-type {\n",
       "        vertical-align: middle;\n",
       "    }\n",
       "\n",
       "    .dataframe tbody tr th {\n",
       "        vertical-align: top;\n",
       "    }\n",
       "\n",
       "    .dataframe thead th {\n",
       "        text-align: right;\n",
       "    }\n",
       "</style>\n",
       "<table border=\"1\" class=\"dataframe\">\n",
       "  <thead>\n",
       "    <tr style=\"text-align: right;\">\n",
       "      <th></th>\n",
       "      <th>buying</th>\n",
       "      <th>maint</th>\n",
       "      <th>door</th>\n",
       "      <th>persons</th>\n",
       "      <th>lug_boot</th>\n",
       "      <th>safety</th>\n",
       "      <th>class</th>\n",
       "    </tr>\n",
       "  </thead>\n",
       "  <tbody>\n",
       "    <tr>\n",
       "      <th>count</th>\n",
       "      <td>1728</td>\n",
       "      <td>1728</td>\n",
       "      <td>1728</td>\n",
       "      <td>1728</td>\n",
       "      <td>1728</td>\n",
       "      <td>1728</td>\n",
       "      <td>1728</td>\n",
       "    </tr>\n",
       "    <tr>\n",
       "      <th>unique</th>\n",
       "      <td>4</td>\n",
       "      <td>4</td>\n",
       "      <td>5</td>\n",
       "      <td>3</td>\n",
       "      <td>3</td>\n",
       "      <td>3</td>\n",
       "      <td>4</td>\n",
       "    </tr>\n",
       "    <tr>\n",
       "      <th>top</th>\n",
       "      <td>med</td>\n",
       "      <td>med</td>\n",
       "      <td>4</td>\n",
       "      <td>4</td>\n",
       "      <td>big</td>\n",
       "      <td>med</td>\n",
       "      <td>unacc</td>\n",
       "    </tr>\n",
       "    <tr>\n",
       "      <th>freq</th>\n",
       "      <td>432</td>\n",
       "      <td>432</td>\n",
       "      <td>432</td>\n",
       "      <td>576</td>\n",
       "      <td>576</td>\n",
       "      <td>576</td>\n",
       "      <td>1210</td>\n",
       "    </tr>\n",
       "  </tbody>\n",
       "</table>\n",
       "</div>"
      ],
      "text/plain": [
       "       buying maint  door persons lug_boot safety  class\n",
       "count    1728  1728  1728    1728     1728   1728   1728\n",
       "unique      4     4     5       3        3      3      4\n",
       "top       med   med     4       4      big    med  unacc\n",
       "freq      432   432   432     576      576    576   1210"
      ]
     },
     "execution_count": 16,
     "metadata": {},
     "output_type": "execute_result"
    }
   ],
   "source": [
    "# Estatísticas básicas sobre colunas numéricas (sendo um conjunto de dados 'classificador', temos poucos valores únicos)\n",
    "\n",
    "data.describe()"
   ]
  },
  {
   "cell_type": "markdown",
   "metadata": {},
   "source": [
    "## 2 - Codificando features             \n",
    "        Queremos evitar o uso de features com dados não numéricos, porque iremos\n",
    "        fazer cálculos com eles e não podemos fazer operações com dados que não \n",
    "        sejam numéricos. Isso significa que teremos que converter esses dados \n",
    "        não numéricos em dados numéricos.\n",
    "\n",
    "**Aqui é onde o 'preprocessing' do sklearn atua. Seu método pode nos ajudar nessa tarefa** "
   ]
  },
  {
   "cell_type": "code",
   "execution_count": 21,
   "metadata": {},
   "outputs": [],
   "source": [
    "# LabelEncoder() será responsável por transformar os labels em valores inteiros apropriados\n",
    "\n",
    "label_encoder = preprocessing.LabelEncoder()"
   ]
  },
  {
   "cell_type": "markdown",
   "metadata": {},
   "source": [
    "**Codificando as features categóricas em valores numéricos**"
   ]
  },
  {
   "cell_type": "code",
   "execution_count": 25,
   "metadata": {},
   "outputs": [],
   "source": [
    "# fit_transform() pega uma lista(cada_uma_das['colunas']) e nos retorna um vetor contendo nossos novos valores numéricos.\n",
    "\n",
    "buying = label_encoder.fit_transform(list(data['buying']))\n",
    "maint = label_encoder.fit_transform(list(data[\"maint\"]))\n",
    "door = label_encoder.fit_transform(list(data[\"door\"]))\n",
    "persons = label_encoder.fit_transform(list(data[\"persons\"]))\n",
    "lug_boot = label_encoder.fit_transform(list(data[\"lug_boot\"]))\n",
    "safety = label_encoder.fit_transform(list(data[\"safety\"]))\n",
    "class_ = label_encoder.fit_transform(list(data[\"class\"]))"
   ]
  },
  {
   "cell_type": "markdown",
   "metadata": {},
   "source": [
    "Resultado:"
   ]
  },
  {
   "cell_type": "code",
   "execution_count": 40,
   "metadata": {},
   "outputs": [
    {
     "data": {
      "text/plain": [
       "0       vhigh\n",
       "1       vhigh\n",
       "100     vhigh\n",
       "800      high\n",
       "900       med\n",
       "1400      low\n",
       "Name: buying, dtype: object"
      ]
     },
     "execution_count": 40,
     "metadata": {},
     "output_type": "execute_result"
    }
   ],
   "source": [
    "data.buying[[0,1,100,800,900,1400]]"
   ]
  },
  {
   "cell_type": "code",
   "execution_count": 38,
   "metadata": {},
   "outputs": [
    {
     "data": {
      "text/plain": [
       "array([3, 3, 3, 0, 2, 1], dtype=int64)"
      ]
     },
     "execution_count": 38,
     "metadata": {},
     "output_type": "execute_result"
    }
   ],
   "source": [
    "# Hehe\n",
    "buying[[0,1,100,800,900,1400]]"
   ]
  },
  {
   "cell_type": "markdown",
   "metadata": {},
   "source": [
    "**Agora, recombinaremos nossos dados em uma lista de features e uma lista de labels. Podemos usar a função zip() para facilitar as coisas**\n",
    "\n",
    "        The zip() function returns a zip object, which is an iterator of tuples\n",
    "        where the first item in each passed iterator is paired together, and then\n",
    "        the second item in each passed iterator are paired together etc.\n",
    "\n",
    "        A função zip() retorna um objeto zip, que é um iterador de tuplas em que o\n",
    "        primeiro item em cada iterador é 'pareado' e, em seguida, o segundo item e \n",
    "        assim em diante. Para facilitar o entendimento veja o exemplo abaixo."
   ]
  },
  {
   "cell_type": "markdown",
   "metadata": {},
   "source": [
    "### |----- _zip() pequeno exemplo - basta ver o que está acontecendo_ -----|"
   ]
  },
  {
   "cell_type": "code",
   "execution_count": 56,
   "metadata": {},
   "outputs": [
    {
     "name": "stdout",
     "output_type": "stream",
     "text": [
      "(('Apple', 'Red'), ('Banana', 'Yellow'), ('Lemon', 'Green'))\n"
     ]
    }
   ],
   "source": [
    "fruits = (\"Apple\", \"Banana\", \"Lemon\")\n",
    "fruit_colors = (\"Red\", \"Yellow\", \"Green\")\n",
    "\n",
    "zip_test = zip(fruits, fruit_colors)\n",
    "\n",
    "print(tuple(zip_test)) # Aqui, precisamos convertê-lo como uma tupla para mostrar os elementos"
   ]
  },
  {
   "cell_type": "markdown",
   "metadata": {},
   "source": [
    "**|----- _Fim do exemplo [ \\o/ ]_ ------|**"
   ]
  },
  {
   "cell_type": "code",
   "execution_count": 49,
   "metadata": {},
   "outputs": [],
   "source": [
    "predict = 'class'\n",
    "\n",
    "# Convertendo nossos dados numéricos em uma lista, para que possamos aplicar métodos de ML neles\n",
    "features_X = list(zip(buying, maint, door, persons, lug_boot, safety))\n",
    "labels_y = list(class_)"
   ]
  },
  {
   "cell_type": "code",
   "execution_count": 52,
   "metadata": {},
   "outputs": [
    {
     "data": {
      "text/plain": [
       "[(3, 3, 0, 0, 2, 1),\n",
       " (3, 3, 0, 0, 2, 2),\n",
       " (3, 3, 0, 0, 2, 0),\n",
       " (3, 3, 0, 0, 1, 1)]"
      ]
     },
     "execution_count": 52,
     "metadata": {},
     "output_type": "execute_result"
    }
   ],
   "source": [
    "# Assim como no exemplo\n",
    "features_X[0:4]"
   ]
  },
  {
   "cell_type": "markdown",
   "metadata": {},
   "source": [
    "## 3 - Treinar modelo"
   ]
  },
  {
   "cell_type": "code",
   "execution_count": 59,
   "metadata": {},
   "outputs": [],
   "source": [
    "'''  Dividindo as features e os labels em subconjuntos aleatórios de treino e teste '''\n",
    "\n",
    "features_X_train, features_X_test, labels_y_train, labels_y_test = sklearn.model_selection.train_test_split(features_X,\n",
    "                                                                                                           labels_y,\n",
    "                                                                                                           test_size=0.1)\n",
    "# 0.1 (10%) dos dados estão sendo alocados como dados de teste, \n",
    "# enquanto os outros 90% estão sendo tratados como dados de treinamento"
   ]
  },
  {
   "cell_type": "markdown",
   "metadata": {},
   "source": [
    "**[features_X_train e labels_y_train] serão usados para treinar nosso modelo**<br>\n",
    "(e fazer a máquina aprender)\n",
    "\n",
    "**[features_X_test e labels_y_test] serão usados para testar a precisão do nosso modelo**<br>\n",
    "(proporção do número de previsões corretas para o número total de amostras de fornecidas)"
   ]
  },
  {
   "cell_type": "markdown",
   "metadata": {},
   "source": [
    "### |----- _subconjuntos de treinamento e teste Exemplo Curto - basta ver o que está acontecendo_ -----|"
   ]
  },
  {
   "cell_type": "code",
   "execution_count": 2,
   "metadata": {},
   "outputs": [
    {
     "name": "stdout",
     "output_type": "stream",
     "text": [
      "X:\n",
      " [[0 1]\n",
      " [2 3]\n",
      " [4 5]\n",
      " [6 7]\n",
      " [8 9]]\n",
      "y:\n",
      " [0 1 2 3 4]\n"
     ]
    }
   ],
   "source": [
    "''' Criando valores para X e y '''\n",
    "X , y = np.arange(10).reshape((5, 2)), np.arange(5)\n",
    "print('X:\\n',X)\n",
    "print('y:\\n',y)"
   ]
  },
  {
   "cell_type": "code",
   "execution_count": 4,
   "metadata": {},
   "outputs": [
    {
     "name": "stdout",
     "output_type": "stream",
     "text": [
      "Valores de X_train values:\n",
      " [[2 3]\n",
      " [4 5]\n",
      " [6 7]\n",
      " [8 9]]\n",
      "\n",
      "Valores de y_train values:\n",
      " [1 2 3 4]\n",
      "\n",
      "Valores de X_test values:\n",
      " [[0 1]]\n",
      "\n",
      "Valores de y_test values:\n",
      " [0]\n"
     ]
    }
   ],
   "source": [
    "''' Isso que acontece '''\n",
    "\n",
    "X_train, X_test, y_train, y_test = sklearn.model_selection.train_test_split(X, y, test_size=0.1)\n",
    "\n",
    "print('Valores de X_train values:\\n',X_train)\n",
    "print('\\nValores de y_train values:\\n',y_train)\n",
    "print('\\nValores de X_test values:\\n',X_test)\n",
    "print('\\nValores de y_test values:\\n',y_test)"
   ]
  },
  {
   "cell_type": "markdown",
   "metadata": {},
   "source": [
    "#### |----- _Fim do exemplo [ \\o/ ]_ -----|"
   ]
  },
  {
   "cell_type": "markdown",
   "metadata": {},
   "source": [
    "### 3.1 - Implementando K-Nearest Neighbors"
   ]
  },
  {
   "cell_type": "code",
   "execution_count": 97,
   "metadata": {},
   "outputs": [],
   "source": [
    "# O objeto KNeighborsClassifier() recebe 1 parâmetro (o número de vizinhos que queremos)\n",
    "\n",
    "classifier_model = KNeighborsClassifier(n_neighbors=5)"
   ]
  },
  {
   "cell_type": "code",
   "execution_count": 98,
   "metadata": {},
   "outputs": [
    {
     "name": "stdout",
     "output_type": "stream",
     "text": [
      "0.9248554913294798\n"
     ]
    }
   ],
   "source": [
    "# Treinando o modelo\n",
    "\n",
    "classifier_model.fit(features_X_train, labels_y_train)\n",
    "\n",
    "# Usando o subconjunto de teste para validar o modelo\n",
    "accuracy = classifier_model.score(features_X_test, labels_y_test)\n",
    "print(accuracy)"
   ]
  },
  {
   "cell_type": "markdown",
   "metadata": {},
   "source": [
    "**Agora vamos mudar o número de vizinhos e ver como isso afeta a precisão**"
   ]
  },
  {
   "cell_type": "code",
   "execution_count": 91,
   "metadata": {},
   "outputs": [
    {
     "name": "stdout",
     "output_type": "stream",
     "text": [
      "0.8497109826589595\n"
     ]
    }
   ],
   "source": [
    "classifier_model_3 = KNeighborsClassifier(n_neighbors=3)\n",
    "\n",
    "classifier_model_3.fit(features_X_train, labels_y_train)\n",
    "accuracy_3 = classifier_model_3.score(features_X_test, labels_y_test)\n",
    "print(accuracy_3)"
   ]
  },
  {
   "cell_type": "code",
   "execution_count": 92,
   "metadata": {},
   "outputs": [
    {
     "name": "stdout",
     "output_type": "stream",
     "text": [
      "0.9479768786127167\n"
     ]
    }
   ],
   "source": [
    "classifier_model_7 = KNeighborsClassifier(n_neighbors=7)\n",
    "\n",
    "classifier_model_7.fit(features_X_train, labels_y_train)\n",
    "accuracy_7 = classifier_model_7.score(features_X_test, labels_y_test)\n",
    "print(accuracy_7)"
   ]
  },
  {
   "cell_type": "code",
   "execution_count": 93,
   "metadata": {},
   "outputs": [
    {
     "name": "stdout",
     "output_type": "stream",
     "text": [
      "0.953757225433526\n"
     ]
    }
   ],
   "source": [
    "classifier_model_9 = KNeighborsClassifier(n_neighbors=9)\n",
    "\n",
    "classifier_model_9.fit(features_X_train, labels_y_train)\n",
    "accuracy_9 = classifier_model_9.score(features_X_test, labels_y_test)\n",
    "print(accuracy_9)"
   ]
  },
  {
   "cell_type": "code",
   "execution_count": 95,
   "metadata": {},
   "outputs": [
    {
     "name": "stdout",
     "output_type": "stream",
     "text": [
      "0.8728323699421965\n"
     ]
    }
   ],
   "source": [
    "classifier_model_15 = KNeighborsClassifier(n_neighbors=15)\n",
    "\n",
    "classifier_model_15.fit(features_X_train, labels_y_train)\n",
    "accuracy_15 = classifier_model_15.score(features_X_test, labels_y_test)\n",
    "print(accuracy_15)"
   ]
  },
  {
   "cell_type": "markdown",
   "metadata": {},
   "source": [
    "**Poucos vizinhos e a precisão diminui, muitos vizinhos e ainda diminui**\n",
    "   \n",
    "   \n",
    "     Vizinhos  Precisão do modelo\n",
    "        3   --->  0.84\n",
    "        7   --->  0.94\n",
    "        9   --->  0.95\n",
    "        15  --->  0.87"
   ]
  },
  {
   "cell_type": "markdown",
   "metadata": {},
   "source": [
    "### 4 - Previsões vs valores reais"
   ]
  },
  {
   "cell_type": "code",
   "execution_count": 112,
   "metadata": {},
   "outputs": [
    {
     "name": "stdout",
     "output_type": "stream",
     "text": [
      "Predicted value:  0 --> unacc\n",
      "Input Data:  (2, 3, 2, 2, 1, 2)\n",
      "Actual value 0   -->    unacc\n",
      "-------------------------------------------------- \n",
      "\n",
      "Predicted value:  2 --> good\n",
      "Input Data:  (2, 2, 1, 0, 0, 1)\n",
      "Actual value 2   -->    good\n",
      "-------------------------------------------------- \n",
      "\n",
      "Predicted value:  2 --> good\n",
      "Input Data:  (0, 2, 3, 0, 2, 1)\n",
      "Actual value 2   -->    good\n",
      "-------------------------------------------------- \n",
      "\n",
      "Predicted value:  2 --> good\n",
      "Input Data:  (3, 2, 2, 0, 1, 1)\n",
      "Actual value 2   -->    good\n",
      "-------------------------------------------------- \n",
      "\n",
      "Predicted value:  2 --> good\n",
      "Input Data:  (3, 2, 3, 0, 0, 0)\n",
      "Actual value 2   -->    good\n",
      "-------------------------------------------------- \n",
      "\n"
     ]
    }
   ],
   "source": [
    "# Fazendo isso, obteremos não apenas o número (valor_numérico_codificado), mas também o seu significado real\n",
    "names = [\"unacc\", \"acc\", \"good\", \"vgood\"]\n",
    "\n",
    "predicted_values = classifier_model.predict(features_X_test)\n",
    "\n",
    "break_point = 0 # Não quero printar todo o DataFrame\n",
    "for value in range(len(features_X_test)):\n",
    "    print('Predicted value: ', predicted_values[value], '-->', names[predicted_values[value]])\n",
    "    print('Input Data: ', features_X_test[value])\n",
    "    print('Actual value', labels_y_test[value], '  -->   ', names[labels_y_test[value]])\n",
    "    print('-'*50,'\\n')\n",
    "    if break_point == 4: break\n",
    "    break_point += 1"
   ]
  }
 ],
 "metadata": {
  "kernelspec": {
   "display_name": "Python 3",
   "language": "python",
   "name": "python3"
  },
  "language_info": {
   "codemirror_mode": {
    "name": "ipython",
    "version": 3
   },
   "file_extension": ".py",
   "mimetype": "text/x-python",
   "name": "python",
   "nbconvert_exporter": "python",
   "pygments_lexer": "ipython3",
   "version": "3.7.7"
  }
 },
 "nbformat": 4,
 "nbformat_minor": 4
}
