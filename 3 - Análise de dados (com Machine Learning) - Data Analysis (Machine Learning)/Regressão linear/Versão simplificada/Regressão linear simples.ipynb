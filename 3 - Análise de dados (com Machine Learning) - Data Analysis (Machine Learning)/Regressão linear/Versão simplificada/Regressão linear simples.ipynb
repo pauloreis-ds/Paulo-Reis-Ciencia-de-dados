{
 "cells": [
  {
   "cell_type": "markdown",
   "metadata": {},
   "source": [
    "## Agenda \n",
    "        1 - Pré-processamento de dados \n",
    "        2 - Ajustando o modelo de regressão linear ao conjunto de treinamento \n",
    "        3 - Prevendo o resultado \n",
    "        4 - Visualização"
   ]
  },
  {
   "cell_type": "markdown",
   "metadata": {},
   "source": [
    "**Olhos nos dados**"
   ]
  },
  {
   "cell_type": "code",
   "execution_count": 1,
   "metadata": {},
   "outputs": [],
   "source": [
    "import pandas as pd\n",
    "import numpy as np\n",
    "import matplotlib.pyplot as plt\n",
    "\n",
    "dataset = pd.read_csv('studentscores.csv')"
   ]
  },
  {
   "cell_type": "code",
   "execution_count": 2,
   "metadata": {},
   "outputs": [
    {
     "data": {
      "text/html": [
       "<div>\n",
       "<style scoped>\n",
       "    .dataframe tbody tr th:only-of-type {\n",
       "        vertical-align: middle;\n",
       "    }\n",
       "\n",
       "    .dataframe tbody tr th {\n",
       "        vertical-align: top;\n",
       "    }\n",
       "\n",
       "    .dataframe thead th {\n",
       "        text-align: right;\n",
       "    }\n",
       "</style>\n",
       "<table border=\"1\" class=\"dataframe\">\n",
       "  <thead>\n",
       "    <tr style=\"text-align: right;\">\n",
       "      <th></th>\n",
       "      <th>Hours</th>\n",
       "      <th>Scores</th>\n",
       "    </tr>\n",
       "  </thead>\n",
       "  <tbody>\n",
       "    <tr>\n",
       "      <th>0</th>\n",
       "      <td>2.5</td>\n",
       "      <td>21</td>\n",
       "    </tr>\n",
       "    <tr>\n",
       "      <th>1</th>\n",
       "      <td>5.1</td>\n",
       "      <td>47</td>\n",
       "    </tr>\n",
       "    <tr>\n",
       "      <th>2</th>\n",
       "      <td>3.2</td>\n",
       "      <td>27</td>\n",
       "    </tr>\n",
       "    <tr>\n",
       "      <th>3</th>\n",
       "      <td>8.5</td>\n",
       "      <td>75</td>\n",
       "    </tr>\n",
       "    <tr>\n",
       "      <th>4</th>\n",
       "      <td>3.5</td>\n",
       "      <td>30</td>\n",
       "    </tr>\n",
       "    <tr>\n",
       "      <th>5</th>\n",
       "      <td>1.5</td>\n",
       "      <td>20</td>\n",
       "    </tr>\n",
       "    <tr>\n",
       "      <th>6</th>\n",
       "      <td>9.2</td>\n",
       "      <td>88</td>\n",
       "    </tr>\n",
       "    <tr>\n",
       "      <th>7</th>\n",
       "      <td>5.5</td>\n",
       "      <td>60</td>\n",
       "    </tr>\n",
       "    <tr>\n",
       "      <th>8</th>\n",
       "      <td>8.3</td>\n",
       "      <td>81</td>\n",
       "    </tr>\n",
       "    <tr>\n",
       "      <th>9</th>\n",
       "      <td>2.7</td>\n",
       "      <td>25</td>\n",
       "    </tr>\n",
       "    <tr>\n",
       "      <th>10</th>\n",
       "      <td>7.7</td>\n",
       "      <td>85</td>\n",
       "    </tr>\n",
       "    <tr>\n",
       "      <th>11</th>\n",
       "      <td>5.9</td>\n",
       "      <td>62</td>\n",
       "    </tr>\n",
       "    <tr>\n",
       "      <th>12</th>\n",
       "      <td>4.5</td>\n",
       "      <td>41</td>\n",
       "    </tr>\n",
       "    <tr>\n",
       "      <th>13</th>\n",
       "      <td>3.3</td>\n",
       "      <td>42</td>\n",
       "    </tr>\n",
       "    <tr>\n",
       "      <th>14</th>\n",
       "      <td>1.1</td>\n",
       "      <td>17</td>\n",
       "    </tr>\n",
       "    <tr>\n",
       "      <th>15</th>\n",
       "      <td>8.9</td>\n",
       "      <td>95</td>\n",
       "    </tr>\n",
       "    <tr>\n",
       "      <th>16</th>\n",
       "      <td>2.5</td>\n",
       "      <td>30</td>\n",
       "    </tr>\n",
       "    <tr>\n",
       "      <th>17</th>\n",
       "      <td>1.9</td>\n",
       "      <td>24</td>\n",
       "    </tr>\n",
       "    <tr>\n",
       "      <th>18</th>\n",
       "      <td>6.1</td>\n",
       "      <td>67</td>\n",
       "    </tr>\n",
       "    <tr>\n",
       "      <th>19</th>\n",
       "      <td>7.4</td>\n",
       "      <td>69</td>\n",
       "    </tr>\n",
       "    <tr>\n",
       "      <th>20</th>\n",
       "      <td>2.7</td>\n",
       "      <td>30</td>\n",
       "    </tr>\n",
       "    <tr>\n",
       "      <th>21</th>\n",
       "      <td>4.8</td>\n",
       "      <td>54</td>\n",
       "    </tr>\n",
       "    <tr>\n",
       "      <th>22</th>\n",
       "      <td>3.8</td>\n",
       "      <td>35</td>\n",
       "    </tr>\n",
       "    <tr>\n",
       "      <th>23</th>\n",
       "      <td>6.9</td>\n",
       "      <td>76</td>\n",
       "    </tr>\n",
       "    <tr>\n",
       "      <th>24</th>\n",
       "      <td>7.8</td>\n",
       "      <td>86</td>\n",
       "    </tr>\n",
       "  </tbody>\n",
       "</table>\n",
       "</div>"
      ],
      "text/plain": [
       "    Hours  Scores\n",
       "0     2.5      21\n",
       "1     5.1      47\n",
       "2     3.2      27\n",
       "3     8.5      75\n",
       "4     3.5      30\n",
       "5     1.5      20\n",
       "6     9.2      88\n",
       "7     5.5      60\n",
       "8     8.3      81\n",
       "9     2.7      25\n",
       "10    7.7      85\n",
       "11    5.9      62\n",
       "12    4.5      41\n",
       "13    3.3      42\n",
       "14    1.1      17\n",
       "15    8.9      95\n",
       "16    2.5      30\n",
       "17    1.9      24\n",
       "18    6.1      67\n",
       "19    7.4      69\n",
       "20    2.7      30\n",
       "21    4.8      54\n",
       "22    3.8      35\n",
       "23    6.9      76\n",
       "24    7.8      86"
      ]
     },
     "execution_count": 2,
     "metadata": {},
     "output_type": "execute_result"
    }
   ],
   "source": [
    "dataset"
   ]
  },
  {
   "cell_type": "code",
   "execution_count": 3,
   "metadata": {},
   "outputs": [
    {
     "data": {
      "text/plain": [
       "(25, 2)"
      ]
     },
     "execution_count": 3,
     "metadata": {},
     "output_type": "execute_result"
    }
   ],
   "source": [
    "# É um conjuto pequeno\n",
    "dataset.shape"
   ]
  },
  {
   "cell_type": "code",
   "execution_count": 4,
   "metadata": {},
   "outputs": [
    {
     "data": {
      "text/plain": [
       "Hours     False\n",
       "Scores    False\n",
       "dtype: bool"
      ]
     },
     "execution_count": 4,
     "metadata": {},
     "output_type": "execute_result"
    }
   ],
   "source": [
    "# Não há valores NaN \n",
    "dataset.isna().any()"
   ]
  },
  {
   "cell_type": "markdown",
   "metadata": {},
   "source": [
    "## 1 - Pré-processamento de Dados\n",
    "        Basicamente:\n",
    "        Feature são os dados que damos ao algoritmo.\n",
    "        Label é o que queremos prever.\n",
    "        \n",
    "        Ex: Ei, Machine, diga-me se este vídeo (feature) pode ser acessado por crianças.\n",
    "            \n",
    "            [A máquina usa o que aprendeu analisando outros vídeos e retorna uma previsão / probabilidade]\n",
    "            \n",
    "            0 - Sim, pode. (label)\n",
    "            1 - Não, não pode. (label)\n",
    "        \n",
    "            Agora, o sistema pode decidir se o vídeo será disponibilizado para crianças ou não.\n",
    "            \n",
    "            \n",
    "        No nosso caso, temos:\n",
    "            \n",
    "            Ei, Machine, qual será minha pontuação (label) se estudar N horas (feature)?\n",
    "        \n",
    "        E para fazer o modelo aprender a correlação entre essas duas variáveis (horas estudadas e pontuação no teste),\n",
    "        primeiro precisamos dar uma amostra, para que ele possa aplicar matemática e descobrir \"as regras do jogo\", e \n",
    "        no final, ele poderá jogar de acordo com tais regras e nos fornecer uma resposta / classificação adequada."
   ]
  },
  {
   "cell_type": "code",
   "execution_count": 5,
   "metadata": {},
   "outputs": [],
   "source": [
    "# Por convenção, chamamos as features de 'X' e os labels de 'Y'\n",
    "X = dataset.iloc[ : ,   : 1 ].values\n",
    "Y = dataset.iloc[ : , 1 ].values"
   ]
  },
  {
   "cell_type": "code",
   "execution_count": 6,
   "metadata": {},
   "outputs": [
    {
     "name": "stdout",
     "output_type": "stream",
     "text": [
      "length of ['Hours']  -- 25\n",
      "length of ['Scores'] -- 25\n",
      "length of X - 25\n",
      "length of Y - 25\n"
     ]
    }
   ],
   "source": [
    "''' Dê uma olhada, apenas separamos as colunas '''\n",
    "\n",
    "print(\"length of ['Hours']  --\", len(dataset.Hours))\n",
    "print(\"length of ['Scores'] --\", len(dataset.Scores))\n",
    "print('length of X -', len(X))\n",
    "print('length of Y -', len(Y))"
   ]
  },
  {
   "cell_type": "code",
   "execution_count": 7,
   "metadata": {},
   "outputs": [
    {
     "name": "stdout",
     "output_type": "stream",
     "text": [
      "\n",
      "hour in dataset:  2.5\n",
      "feature X:  [2.5]\n",
      "\n",
      "hour in dataset:  5.1\n",
      "feature X:  [5.1]\n",
      "\n",
      "hour in dataset:  3.2\n",
      "feature X:  [3.2]\n",
      "\n",
      "hour in dataset:  8.5\n",
      "feature X:  [8.5]\n",
      "\n",
      "hour in dataset:  3.5\n",
      "feature X:  [3.5]\n",
      "\n",
      "hour in dataset:  1.5\n",
      "feature X:  [1.5]\n"
     ]
    }
   ],
   "source": [
    "stop_point = 0\n",
    "\n",
    "for hour, x in zip(dataset.Hours, X):\n",
    "    print('\\nhour in dataset: ', hour)\n",
    "    print('feature X: ', x)\n",
    "    \n",
    "    if stop_point == 5: break\n",
    "    stop_point+=1"
   ]
  },
  {
   "cell_type": "code",
   "execution_count": 8,
   "metadata": {},
   "outputs": [
    {
     "name": "stdout",
     "output_type": "stream",
     "text": [
      "\n",
      "hour in dataset:  21\n",
      "label Y:  21\n",
      "\n",
      "hour in dataset:  47\n",
      "label Y:  47\n",
      "\n",
      "hour in dataset:  27\n",
      "label Y:  27\n",
      "\n",
      "hour in dataset:  75\n",
      "label Y:  75\n",
      "\n",
      "hour in dataset:  30\n",
      "label Y:  30\n",
      "\n",
      "hour in dataset:  20\n",
      "label Y:  20\n"
     ]
    }
   ],
   "source": [
    "stop_point = 0\n",
    "\n",
    "for score, y in zip(dataset.Scores, Y):\n",
    "    print('\\nhour in dataset: ', score)\n",
    "    print('label Y: ', y)\n",
    "    \n",
    "    if stop_point == 5: break\n",
    "    stop_point+=1"
   ]
  },
  {
   "cell_type": "markdown",
   "metadata": {},
   "source": [
    "**Agora, temos nossas features e labels. Então, precisamos dividir nossos dados em subconjuntos de treinamento e teste.**<br>\n",
    "    \n",
    "    E como você vê, fazemos isso utilizando o método train_test_split()\n"
   ]
  },
  {
   "cell_type": "code",
   "execution_count": 9,
   "metadata": {},
   "outputs": [],
   "source": [
    "from sklearn.model_selection import train_test_split\n",
    "\n",
    "X_train, X_test, Y_train, Y_test = train_test_split( X, Y, test_size = 1/4, random_state = 0) "
   ]
  },
  {
   "cell_type": "markdown",
   "metadata": {},
   "source": [
    "    test_size ==> proporção do conjunto de dados a ser incluída na divisão de teste 1/4 = 25%\n",
    "     (a outra parte será tratada como dados de treinamento)"
   ]
  },
  {
   "cell_type": "code",
   "execution_count": 10,
   "metadata": {
    "scrolled": true
   },
   "outputs": [
    {
     "data": {
      "text/plain": [
       "0.28"
      ]
     },
     "execution_count": 10,
     "metadata": {},
     "output_type": "execute_result"
    }
   ],
   "source": [
    "dataset_rows = 25 # Número total de features e labels\n",
    "7/dataset_rows # Note que o método aproxima essa divisão para cima (sabendo que 6/25 is 24%)"
   ]
  },
  {
   "cell_type": "markdown",
   "metadata": {},
   "source": [
    "    random_state ==> defini-lo como um valor fixo garantirá que a mesma sequência de números aleatórios \n",
    "    seja gerada toda vez que você executar o código. E, a menos que haja alguma outra aleatoriedade presente\n",
    "    no processo, os resultados produzidos serão os mesmos de sempre. Em outras palavras, na primeira vez em \n",
    "    que rodarmos o código haverá uma seleção aleatória, nas próximas vezes, os números serão os mesmos \n",
    "    (para fins de estudos)."
   ]
  },
  {
   "cell_type": "code",
   "execution_count": 11,
   "metadata": {},
   "outputs": [
    {
     "name": "stdout",
     "output_type": "stream",
     "text": [
      "X_train length: 18\n",
      "X_test length:  7\n",
      "Y_train length: 18\n",
      "Y_test length:  7\n",
      "18 + 7 = 25\n"
     ]
    }
   ],
   "source": [
    "print('X_train length:', len(X_train))\n",
    "print('X_test length: ', len(X_test))\n",
    "print('Y_train length:',len(Y_train))\n",
    "print('Y_test length: ', len(Y_test))\n",
    "\n",
    "print(f'{len(X_train)} + {len(X_test)} =', len(X_train)+len(X_test))"
   ]
  },
  {
   "cell_type": "code",
   "execution_count": 12,
   "metadata": {},
   "outputs": [
    {
     "data": {
      "text/plain": [
       "(25, 2)"
      ]
     },
     "execution_count": 12,
     "metadata": {},
     "output_type": "execute_result"
    }
   ],
   "source": [
    "''' 25 valores, como nas 25 linhas do nosso dataset '''\n",
    "dataset.shape"
   ]
  },
  {
   "cell_type": "code",
   "execution_count": 13,
   "metadata": {},
   "outputs": [
    {
     "name": "stdout",
     "output_type": "stream",
     "text": [
      "X_train (features used in training)\n",
      " [[7.8]\n",
      " [6.9]\n",
      " [1.1]\n",
      " [5.1]\n",
      " [7.7]\n",
      " [3.3]\n",
      " [8.3]\n",
      " [9.2]\n",
      " [6.1]\n",
      " [3.5]\n",
      " [2.7]\n",
      " [5.5]\n",
      " [2.7]\n",
      " [8.5]\n",
      " [2.5]\n",
      " [4.8]\n",
      " [8.9]\n",
      " [4.5]]\n",
      "\n",
      "Y_train (labels used in training)\n",
      " [86 76 17 47 85 42 81 88 67 30 25 60 30 75 21 54 95 41]\n",
      "----------------------------------------\n",
      "\n",
      "X_test (features the model will see after training so we can see how good it went)\n",
      " [[1.5]\n",
      " [3.2]\n",
      " [7.4]\n",
      " [2.5]\n",
      " [5.9]\n",
      " [3.8]\n",
      " [1.9]]\n",
      "\n",
      "Y_test (labels/ correct answers/predictions the model should give us when we give X_test to it predict)\n",
      " [20 27 69 30 62 35 24]\n"
     ]
    }
   ],
   "source": [
    "''' Uma olhada rápida nas features e labels '''\n",
    "print('X_train (features used in training)\\n', X_train)   # hours -  features\n",
    "print('\\nY_train (labels used in training)\\n', Y_train)   # scores - labels\n",
    "print('--'*20)\n",
    "print('\\nX_test (features the model will see after training so we can see how good it went)\\n', X_test) \n",
    "print('\\nY_test (labels/ correct answers/predictions the model should give us when we give X_test to it predict)\\n', Y_test)"
   ]
  },
  {
   "cell_type": "markdown",
   "metadata": {},
   "source": [
    "## 2 - Ajustando o modelo de regressão linear ao conjunto de treinamento \n",
    "\n",
    "        Escolhendo a linha/função(y = mx + b) correta para este modelo.\n",
    "        Fazendo o algoritmo aprender a relação entre os recursos e os rótulos. assim\n",
    "        ele poderá usar as \"regras do jogo\" para jogá-lo.   "
   ]
  },
  {
   "cell_type": "code",
   "execution_count": 14,
   "metadata": {},
   "outputs": [],
   "source": [
    "from sklearn.linear_model import LinearRegression\n",
    "\n",
    "# Criando um object (regressor) da classe LinearRegression para termos acesso aos seus métodos\n",
    "regressor = LinearRegression()"
   ]
  },
  {
   "cell_type": "markdown",
   "metadata": {},
   "source": [
    "Em poucas palavras: **o \"fit\" é o mesmo que treinar o modelo**. Depois que o modelo for treinado<br> \n",
    "**.fit(features, labels_das_features_usados_para_comparar_e_aprender)**, ele poderá ser usado para fazer previsões, geralmente o método .predict()"
   ]
  },
  {
   "cell_type": "code",
   "execution_count": 15,
   "metadata": {},
   "outputs": [],
   "source": [
    "regressor = regressor.fit(X_train, Y_train)"
   ]
  },
  {
   "cell_type": "markdown",
   "metadata": {},
   "source": [
    "## 3 - Prevendo o resultado\n",
    "        Se você prestar atenção, notará que acabamos de passar o X_train e o Y_train para o modelo.\n",
    "        Agora que ele está treinado, podemos usar o X_test e Y_test para verificar se está funcionando\n",
    "        como nósqueríamos e prevendo as pontuações para horas de estudo que nunca foram passadas ao modelo."
   ]
  },
  {
   "cell_type": "code",
   "execution_count": 16,
   "metadata": {},
   "outputs": [
    {
     "name": "stdout",
     "output_type": "stream",
     "text": [
      "X_test:\n",
      " [[1.5]\n",
      " [3.2]\n",
      " [7.4]\n",
      " [2.5]\n",
      " [5.9]\n",
      " [3.8]\n",
      " [1.9]]\n",
      "\n",
      "Y_test:\n",
      " [20 27 69 30 62 35 24]\n"
     ]
    }
   ],
   "source": [
    "# Você pode até procurar por esses números no dataset, e Lembre-se:\n",
    "print('X_test:\\n', X_test)   # Feature são os dados que alimentamos o algoritmo com.\n",
    "print('\\nY_test:\\n', Y_test) # Label é o que que queremos prever."
   ]
  },
  {
   "cell_type": "markdown",
   "metadata": {},
   "source": [
    "**Agora que sabemos os valores reais da pontuação, podemos compará-los com a previsão que o modelo fará.**"
   ]
  },
  {
   "cell_type": "code",
   "execution_count": 17,
   "metadata": {},
   "outputs": [
    {
     "name": "stdout",
     "output_type": "stream",
     "text": [
      "\n",
      "Hours of study ------------------- [1.5]\n",
      "Real score value ----------------- 20\n",
      "Prediction from Linear Regression  16\n",
      "\n",
      "Hours of study ------------------- [3.2]\n",
      "Real score value ----------------- 27\n",
      "Prediction from Linear Regression  33\n",
      "\n",
      "Hours of study ------------------- [7.4]\n",
      "Real score value ----------------- 69\n",
      "Prediction from Linear Regression  75\n",
      "\n",
      "Hours of study ------------------- [2.5]\n",
      "Real score value ----------------- 30\n",
      "Prediction from Linear Regression  26\n",
      "\n",
      "Hours of study ------------------- [5.9]\n",
      "Real score value ----------------- 62\n",
      "Prediction from Linear Regression  60\n",
      "\n",
      "Hours of study ------------------- [3.8]\n",
      "Real score value ----------------- 35\n",
      "Prediction from Linear Regression  39\n",
      "\n",
      "Hours of study ------------------- [1.9]\n",
      "Real score value ----------------- 24\n",
      "Prediction from Linear Regression  20\n"
     ]
    }
   ],
   "source": [
    "# Predição dos valores do Score\n",
    "Y_pred = regressor.predict(X_test)\n",
    "\n",
    "for study_hours, test_value, predicted_value in zip(X_test, Y_test,Y_pred):\n",
    "    print('\\nHours of study -------------------', study_hours)\n",
    "    print('Real score value -----------------', test_value)\n",
    "    print('Prediction from Linear Regression ', int(predicted_value))"
   ]
  },
  {
   "cell_type": "markdown",
   "metadata": {},
   "source": [
    "## 4 - Visualização\n",
    "        Os pontos vermelhos representam os dados reais (do subconjunto de treinamento):\n",
    "        \n",
    "        Y_train\n",
    "        |\n",
    "        |\n",
    "        |\n",
    "        |\n",
    "        |\n",
    "        |\n",
    "        |_______________X_train   \n",
    "        \n",
    "        E a linha azul são os valores de Y que o modelo previu.\n",
    "        \n",
    "        Durante o treinamento, o modelo/algoritmo está criando/ajustando a melhor linha/função(y = mx + b)\n",
    "        que se ajusta aos dados. E dessa forma, ele pode prever outros valores.       "
   ]
  },
  {
   "cell_type": "code",
   "execution_count": 18,
   "metadata": {},
   "outputs": [
    {
     "data": {
      "text/plain": [
       "Text(0, 0.5, 'Score')"
      ]
     },
     "execution_count": 18,
     "metadata": {},
     "output_type": "execute_result"
    },
    {
     "data": {
      "image/png": "[encoded data removed]",
      "text/plain": [
       "<Figure size 504x360 with 1 Axes>"
      ]
     },
     "metadata": {
      "needs_background": "light"
     },
     "output_type": "display_data"
    }
   ],
   "source": [
    "# Visualizando os resultados do treinamento\n",
    "plt.figure(figsize=(7,5))\n",
    "plt.scatter(X_train , Y_train, color = 'red')\n",
    "plt.plot(X_train , regressor.predict(X_train), color ='blue')\n",
    "\n",
    "plt.title('Line/Predictions that best fit our training dataset')\n",
    "plt.xlabel('Hours of study')\n",
    "plt.ylabel('Score')"
   ]
  },
  {
   "cell_type": "markdown",
   "metadata": {},
   "source": [
    "        Aqui, basicamente temos a mesma previsão, mas aplicada\n",
    "        nos dados que o modelo nunca viu (subconjunto de teste):"
   ]
  },
  {
   "cell_type": "code",
   "execution_count": 19,
   "metadata": {},
   "outputs": [
    {
     "data": {
      "image/png": "[encoded data removed]",
      "text/plain": [
       "<Figure size 504x360 with 1 Axes>"
      ]
     },
     "metadata": {
      "needs_background": "light"
     },
     "output_type": "display_data"
    }
   ],
   "source": [
    "plt.figure(figsize=(7,5))\n",
    "plt.scatter(X_test , Y_test, color = 'red')\n",
    "plt.plot(X_test , regressor.predict(X_test), color ='blue')\n",
    "plt.xlabel('Hours of study')\n",
    "plt.ylabel('Score')\n",
    "plt.yticks(Y_pred)\n",
    "plt.grid(axis='y')"
   ]
  }
 ],
 "metadata": {
  "kernelspec": {
   "display_name": "Python 3",
   "language": "python",
   "name": "python3"
  },
  "language_info": {
   "codemirror_mode": {
    "name": "ipython",
    "version": 3
   },
   "file_extension": ".py",
   "mimetype": "text/x-python",
   "name": "python",
   "nbconvert_exporter": "python",
   "pygments_lexer": "ipython3",
   "version": "3.7.7"
  }
 },
 "nbformat": 4,
 "nbformat_minor": 4
}
