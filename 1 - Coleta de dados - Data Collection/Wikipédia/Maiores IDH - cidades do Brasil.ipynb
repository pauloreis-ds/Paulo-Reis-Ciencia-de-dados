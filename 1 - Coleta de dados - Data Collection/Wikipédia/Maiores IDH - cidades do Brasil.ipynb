{
 "cells": [
  {
   "cell_type": "markdown",
   "metadata": {},
   "source": [
    "# Wikipédia - Lista de municípios do Brasil por IDH\n",
    "        Mais um exercício de prática de web scraping.\n",
    "        Vamos pegar os dados de uma tabela da wikipédia."
   ]
  },
  {
   "cell_type": "code",
   "execution_count": 332,
   "metadata": {},
   "outputs": [],
   "source": [
    "# Seção imports\n",
    "\n",
    "import requests\n",
    "from bs4 import BeautifulSoup\n",
    "\n",
    "# Para criar o dataset\n",
    "import pandas as pd"
   ]
  },
  {
   "cell_type": "code",
   "execution_count": 2,
   "metadata": {},
   "outputs": [],
   "source": [
    "url = 'https://pt.wikipedia.org/wiki/Lista_de_munic%C3%ADpios_do_Brasil_por_IDH'"
   ]
  },
  {
   "cell_type": "markdown",
   "metadata": {},
   "source": [
    "####  Pegando o documento html"
   ]
  },
  {
   "cell_type": "code",
   "execution_count": 25,
   "metadata": {},
   "outputs": [],
   "source": [
    "html = requests.get(url).text"
   ]
  },
  {
   "cell_type": "markdown",
   "metadata": {},
   "source": [
    "#### BeautifulSoup é um objeto que nos permite trabalhar com o html recebido"
   ]
  },
  {
   "cell_type": "code",
   "execution_count": 26,
   "metadata": {},
   "outputs": [],
   "source": [
    "soup = BeautifulSoup(html)"
   ]
  },
  {
   "cell_type": "markdown",
   "metadata": {},
   "source": [
    "#### Visualizando a 'sopa'. .prettify() torna o objeto mais legível   (teste sem utilizar prettify e admire)"
   ]
  },
  {
   "cell_type": "code",
   "execution_count": 29,
   "metadata": {},
   "outputs": [
    {
     "name": "stdout",
     "output_type": "stream",
     "text": [
      "<!DOCTYPE html>\n",
      "<html class=\"client-nojs\" dir=\"ltr\" lang=\"pt\">\n",
      " <head>\n",
      "  <meta charset=\"utf-8\"/>\n",
      "  <title>\n",
      "   Lista de municípios do Brasil por IDH – Wikipédia, a enciclopédia livre\n",
      "  </title>\n",
      "  <script>\n",
      "   document.documentElement.className=\"client-js\";RLCONF={\"wgBreakFrames\":!1,\"wgSeparatorTransformTable\":[\",\\t.\",\" \\t,\"],\"wgDigitTransformTable\":[\"\",\"\"],\"wgDefaultDateFormat\":\"dmy\",\"wgMonthNames\":[\"\",\"janeiro\",\"fevereiro\",\"março\",\"abril\",\"maio\",\"junho\",\"julho\",\"agosto\",\"setembro\",\"outubro\",\"nove\n"
     ]
    }
   ],
   "source": [
    "print(soup.prettify()[0:500])"
   ]
  },
  {
   "cell_type": "markdown",
   "metadata": {},
   "source": [
    "#### Obs: Podemos usar atributos(tagsdo html) para encontrar as informações que queremos.        "
   ]
  },
  {
   "cell_type": "code",
   "execution_count": 30,
   "metadata": {},
   "outputs": [
    {
     "data": {
      "text/plain": [
       "<title>Lista de municípios do Brasil por IDH – Wikipédia, a enciclopédia livre</title>"
      ]
     },
     "execution_count": 30,
     "metadata": {},
     "output_type": "execute_result"
    }
   ],
   "source": [
    "soup.title"
   ]
  },
  {
   "cell_type": "code",
   "execution_count": 31,
   "metadata": {},
   "outputs": [
    {
     "data": {
      "text/plain": [
       "'Lista de municípios do Brasil por IDH – Wikipédia, a enciclopédia livre'"
      ]
     },
     "execution_count": 31,
     "metadata": {},
     "output_type": "execute_result"
    }
   ],
   "source": [
    "# Para obter apenas a informação (sem as <tags>) .text é uma opção\n",
    "\n",
    "soup.title.text"
   ]
  },
  {
   "cell_type": "markdown",
   "metadata": {},
   "source": [
    "### Direto para a ação"
   ]
  },
  {
   "cell_type": "code",
   "execution_count": 215,
   "metadata": {},
   "outputs": [],
   "source": [
    "table = soup.find('table', class_= \"wikitable sortable\")"
   ]
  },
  {
   "cell_type": "code",
   "execution_count": 230,
   "metadata": {},
   "outputs": [
    {
     "data": {
      "text/plain": [
       "<td>1\n",
       "</td>"
      ]
     },
     "execution_count": 230,
     "metadata": {},
     "output_type": "execute_result"
    }
   ],
   "source": [
    "'''\n",
    "    Algo que notei, os dados que queremos têm as mesmas tags (e nenhuma classificação),\n",
    "    ou seja, ao tentar pegar apenas as cidades, o índice e UF vêm juntos \\o\\|o|/o/\n",
    "    Encontrei uma forma um tanto quanto enrolada para pegar cada um separadamente.\n",
    "'''\n",
    "\n",
    "table.td"
   ]
  },
  {
   "cell_type": "code",
   "execution_count": 228,
   "metadata": {},
   "outputs": [
    {
     "data": {
      "text/plain": [
       "'\\n'"
      ]
     },
     "execution_count": 228,
     "metadata": {},
     "output_type": "execute_result"
    }
   ],
   "source": [
    "table.td.nextSibling"
   ]
  },
  {
   "cell_type": "code",
   "execution_count": 229,
   "metadata": {},
   "outputs": [
    {
     "data": {
      "text/plain": [
       "<td><a href=\"/wiki/S%C3%A3o_Caetano_do_Sul\" title=\"São Caetano do Sul\">São Caetano do Sul</a>\n",
       "</td>"
      ]
     },
     "execution_count": 229,
     "metadata": {},
     "output_type": "execute_result"
    }
   ],
   "source": [
    "table.td.nextSibling.nextSibling"
   ]
  },
  {
   "cell_type": "markdown",
   "metadata": {},
   "source": [
    "#### Pegando os dados"
   ]
  },
  {
   "cell_type": "code",
   "execution_count": 290,
   "metadata": {},
   "outputs": [
    {
     "name": "stdout",
     "output_type": "stream",
     "text": [
      "1\n",
      "\n",
      "\\__________________/---> 0 \n",
      "São Caetano do Sul\n",
      "\n",
      "\\__________________/---> 1 \n",
      " São Paulo\n",
      "\n",
      "\\__________________/---> 2 \n",
      "0,862\n",
      "\n",
      "\\__________________/---> 3 \n",
      "2\n",
      "\n",
      "\\__________________/---> 4 \n",
      "Águas de São Pedro\n",
      "\n",
      "\\__________________/---> 5 \n",
      " São Paulo\n",
      "\n",
      "\\__________________/---> 6 \n",
      "0,854\n",
      "\n",
      "\\__________________/---> 7 \n"
     ]
    }
   ],
   "source": [
    "all_data = soup.find('table', class_= \"wikitable sortable\")\n",
    "\n",
    "ponto_de_parada = 0 # Para não mostrar a lista tooooda\n",
    "\n",
    "for city in all_data.findAll('td'):\n",
    "    print(city.text)\n",
    "    print('\\__________________/--->',ponto_de_parada,'')\n",
    "    \n",
    "    ponto_de_parada+=1\n",
    "    if ponto_de_parada == 8: break"
   ]
  },
  {
   "cell_type": "markdown",
   "metadata": {},
   "source": [
    "#### Passando dados para uma lista"
   ]
  },
  {
   "cell_type": "code",
   "execution_count": 289,
   "metadata": {},
   "outputs": [
    {
     "data": {
      "text/plain": [
       "['100\\n',\n",
       " 'Ivoti\\n',\n",
       " '\\xa0Rio Grande do Sul\\n',\n",
       " '0,784\\n',\n",
       " '100\\n',\n",
       " 'Santa Maria\\n',\n",
       " '\\xa0Rio Grande do Sul\\n']"
      ]
     },
     "execution_count": 289,
     "metadata": {},
     "output_type": "execute_result"
    }
   ],
   "source": [
    "all_data = soup.find('table', class_= \"wikitable sortable\")\n",
    "\n",
    "all_in_list = []\n",
    "\n",
    "for city in all_data.findAll('td'):\n",
    "    all_in_list.append(city.text)\n",
    "    \n",
    "all_in_list[-8:-1]"
   ]
  },
  {
   "cell_type": "markdown",
   "metadata": {},
   "source": [
    "#### Utilizando os 'pulos' de 4 em 4 para mapear as cidades, as UF e os IDHs"
   ]
  },
  {
   "cell_type": "code",
   "execution_count": 247,
   "metadata": {},
   "outputs": [
    {
     "data": {
      "text/plain": [
       "436"
      ]
     },
     "execution_count": 247,
     "metadata": {},
     "output_type": "execute_result"
    }
   ],
   "source": [
    "# Sabendo quantos índices temos ao total (para saber até onde 'pular')\n",
    "number_of_itens_in_list = 0\n",
    "\n",
    "for i in all_in_list:\n",
    "    number_of_itens_in_list += 1\n",
    "\n",
    "number_of_itens_in_list"
   ]
  },
  {
   "cell_type": "code",
   "execution_count": 257,
   "metadata": {},
   "outputs": [
    {
     "data": {
      "text/plain": [
       "['Ribeirão Pires\\n',\n",
       " 'Santa Fé do Sul\\n',\n",
       " 'Salto Veloso\\n',\n",
       " 'Timbó\\n',\n",
       " 'Ivoti\\n',\n",
       " 'Santa Maria\\n']"
      ]
     },
     "execution_count": 257,
     "metadata": {},
     "output_type": "execute_result"
    }
   ],
   "source": [
    "# Capturando as cidades e colocando-as em uma lista\n",
    "\n",
    "index=1 \n",
    "cities_list = []\n",
    "\n",
    "while index < number_of_itens_in_list: \n",
    "    cities_list.append(all_in_list[index])\n",
    "    index += 4\n",
    "\n",
    "cities_list[-6:] # os últimos itens batem com os últimos da tabela do site yyeeeyy \\(*-*)/"
   ]
  },
  {
   "cell_type": "markdown",
   "metadata": {},
   "source": [
    "#### Agora fazemos o mesmo para a UF e IDH. Lembrando de aumentar o valor do índice/index."
   ]
  },
  {
   "cell_type": "code",
   "execution_count": 260,
   "metadata": {},
   "outputs": [
    {
     "data": {
      "text/plain": [
       "['\\xa0São Paulo\\n',\n",
       " '\\xa0São Paulo\\n',\n",
       " '\\xa0Santa Catarina\\n',\n",
       " '\\xa0Santa Catarina\\n',\n",
       " '\\xa0Rio Grande do Sul\\n',\n",
       " '\\xa0Rio Grande do Sul\\n']"
      ]
     },
     "execution_count": 260,
     "metadata": {},
     "output_type": "execute_result"
    }
   ],
   "source": [
    "index=2 \n",
    "uf_list = []\n",
    "\n",
    "while index < number_of_itens_in_list: \n",
    "    uf_list.append(all_in_list[index])\n",
    "    index += 4\n",
    "\n",
    "uf_list[-6:] "
   ]
  },
  {
   "cell_type": "code",
   "execution_count": 265,
   "metadata": {},
   "outputs": [
    {
     "data": {
      "text/plain": [
       "['0,784\\n', '0,784\\n']"
      ]
     },
     "execution_count": 265,
     "metadata": {},
     "output_type": "execute_result"
    }
   ],
   "source": [
    "index=3 \n",
    "idh_list = []\n",
    "\n",
    "while index < number_of_itens_in_list: \n",
    "    idh_list.append(all_in_list[index])\n",
    "    index += 4\n",
    "\n",
    "idh_list[-2:]"
   ]
  },
  {
   "cell_type": "code",
   "execution_count": 267,
   "metadata": {},
   "outputs": [
    {
     "name": "stdout",
     "output_type": "stream",
     "text": [
      "109 109 109\n"
     ]
    }
   ],
   "source": [
    "# Confirmando que as listas têm o mesmo número de itens (logo, nenhum ficou de fora ou veio como intruso)\n",
    "\n",
    "print(len(cities_list), len(uf_list), len(idh_list))"
   ]
  },
  {
   "cell_type": "code",
   "execution_count": 272,
   "metadata": {},
   "outputs": [
    {
     "name": "stdout",
     "output_type": "stream",
     "text": [
      "São Caetano do Sul\n",
      "  São Paulo\n",
      " 0,862\n",
      "\n",
      "----------\n",
      "Santa Maria\n",
      "  Rio Grande do Sul\n",
      " 0,784\n",
      "\n"
     ]
    }
   ],
   "source": [
    "# Comparando no site. Sim, os dados estão corretos :)\n",
    "\n",
    "print(cities_list[0], uf_list[0], idh_list[0]) \n",
    "print('----------')\n",
    "print(cities_list[108], uf_list[108], idh_list[108]) "
   ]
  },
  {
   "cell_type": "markdown",
   "metadata": {},
   "source": [
    "#### Agora só precisamos pegar os nomes das colunas"
   ]
  },
  {
   "cell_type": "code",
   "execution_count": 321,
   "metadata": {},
   "outputs": [
    {
     "data": {
      "text/plain": [
       "'\\n\\n#\\n\\nMunicípio\\n\\nUF\\n\\nIDHM (2010)[5]\\n\\n\\n1\\n\\nSão Caetano do Sul\\n\\n\\xa0São Paulo\\n\\n0,862\\n\\n\\n2\\n\\nÁguas de São Pedr'"
      ]
     },
     "execution_count": 321,
     "metadata": {},
     "output_type": "execute_result"
    }
   ],
   "source": [
    "looking_for_headers =  soup.find('table', class_= \"wikitable sortable\")\n",
    "\n",
    "# Quase lá, mais ou menos \n",
    "looking_for_headers.text[0:100]"
   ]
  },
  {
   "cell_type": "code",
   "execution_count": 322,
   "metadata": {},
   "outputs": [
    {
     "data": {
      "text/plain": [
       "[<a href=\"/wiki/Munic%C3%ADpio\" title=\"Município\">Município</a>,\n",
       " <a class=\"mw-redirect\" href=\"/wiki/Unidades_federativas_do_Brasil\" title=\"Unidades federativas do Brasil\">UF</a>,\n",
       " <a class=\"mw-redirect\" href=\"/wiki/IDH\" title=\"IDH\">IDHM</a>]"
      ]
     },
     "execution_count": 322,
     "metadata": {},
     "output_type": "execute_result"
    }
   ],
   "source": [
    "# Encontramos\n",
    "looking_for_headers.findAll(\"a\")[0:3]"
   ]
  },
  {
   "cell_type": "code",
   "execution_count": 327,
   "metadata": {},
   "outputs": [
    {
     "data": {
      "text/plain": [
       "<a href=\"/wiki/Munic%C3%ADpio\" title=\"Município\">Município</a>"
      ]
     },
     "execution_count": 327,
     "metadata": {},
     "output_type": "execute_result"
    }
   ],
   "source": [
    "headers = looking_for_headers.findAll(\"a\")[0:3]\n",
    "\n",
    "headers[0]"
   ]
  },
  {
   "cell_type": "code",
   "execution_count": 328,
   "metadata": {},
   "outputs": [
    {
     "data": {
      "text/plain": [
       "'Município'"
      ]
     },
     "execution_count": 328,
     "metadata": {},
     "output_type": "execute_result"
    }
   ],
   "source": [
    "headers[0].text"
   ]
  },
  {
   "cell_type": "code",
   "execution_count": 330,
   "metadata": {},
   "outputs": [
    {
     "name": "stdout",
     "output_type": "stream",
     "text": [
      "Município\n",
      "UF\n",
      "IDHM\n"
     ]
    }
   ],
   "source": [
    "# No site está escrito IDHM mesmo\n",
    "for header in headers:\n",
    "    print(header.text)"
   ]
  },
  {
   "cell_type": "code",
   "execution_count": 331,
   "metadata": {},
   "outputs": [
    {
     "data": {
      "text/plain": [
       "['Município', 'UF', 'IDHM']"
      ]
     },
     "execution_count": 331,
     "metadata": {},
     "output_type": "execute_result"
    }
   ],
   "source": [
    "# Pronto para passarmos para uma lista\n",
    "header_list = []\n",
    "\n",
    "for header in headers:\n",
    "    header_list.append(header.text)\n",
    "    \n",
    "header_list"
   ]
  },
  {
   "cell_type": "markdown",
   "metadata": {},
   "source": [
    "#### Criando o DataFrame e passando-o para um csv"
   ]
  },
  {
   "cell_type": "code",
   "execution_count": 376,
   "metadata": {},
   "outputs": [
    {
     "data": {
      "text/html": [
       "<div>\n",
       "<style scoped>\n",
       "    .dataframe tbody tr th:only-of-type {\n",
       "        vertical-align: middle;\n",
       "    }\n",
       "\n",
       "    .dataframe tbody tr th {\n",
       "        vertical-align: top;\n",
       "    }\n",
       "\n",
       "    .dataframe thead th {\n",
       "        text-align: right;\n",
       "    }\n",
       "</style>\n",
       "<table border=\"1\" class=\"dataframe\">\n",
       "  <thead>\n",
       "    <tr style=\"text-align: right;\">\n",
       "      <th></th>\n",
       "      <th>Cidade</th>\n",
       "      <th>UF</th>\n",
       "      <th>IDH</th>\n",
       "    </tr>\n",
       "  </thead>\n",
       "  <tbody>\n",
       "    <tr>\n",
       "      <th>0</th>\n",
       "      <td>São Caetano do Sul\\n</td>\n",
       "      <td>São Paulo\\n</td>\n",
       "      <td>0,862\\n</td>\n",
       "    </tr>\n",
       "    <tr>\n",
       "      <th>1</th>\n",
       "      <td>Águas de São Pedro\\n</td>\n",
       "      <td>São Paulo\\n</td>\n",
       "      <td>0,854\\n</td>\n",
       "    </tr>\n",
       "    <tr>\n",
       "      <th>2</th>\n",
       "      <td>Florianópolis\\n</td>\n",
       "      <td>Santa Catarina\\n</td>\n",
       "      <td>0,847\\n</td>\n",
       "    </tr>\n",
       "    <tr>\n",
       "      <th>3</th>\n",
       "      <td>Balneário Camboriú\\n</td>\n",
       "      <td>Santa Catarina\\n</td>\n",
       "      <td>0,845\\n</td>\n",
       "    </tr>\n",
       "    <tr>\n",
       "      <th>4</th>\n",
       "      <td>Vitória\\n</td>\n",
       "      <td>Espírito Santo\\n</td>\n",
       "      <td>0,845\\n</td>\n",
       "    </tr>\n",
       "    <tr>\n",
       "      <th>...</th>\n",
       "      <td>...</td>\n",
       "      <td>...</td>\n",
       "      <td>...</td>\n",
       "    </tr>\n",
       "    <tr>\n",
       "      <th>104</th>\n",
       "      <td>Santa Fé do Sul\\n</td>\n",
       "      <td>São Paulo\\n</td>\n",
       "      <td>0,784\\n</td>\n",
       "    </tr>\n",
       "    <tr>\n",
       "      <th>105</th>\n",
       "      <td>Salto Veloso\\n</td>\n",
       "      <td>Santa Catarina\\n</td>\n",
       "      <td>0,784\\n</td>\n",
       "    </tr>\n",
       "    <tr>\n",
       "      <th>106</th>\n",
       "      <td>Timbó\\n</td>\n",
       "      <td>Santa Catarina\\n</td>\n",
       "      <td>0,784\\n</td>\n",
       "    </tr>\n",
       "    <tr>\n",
       "      <th>107</th>\n",
       "      <td>Ivoti\\n</td>\n",
       "      <td>Rio Grande do Sul\\n</td>\n",
       "      <td>0,784\\n</td>\n",
       "    </tr>\n",
       "    <tr>\n",
       "      <th>108</th>\n",
       "      <td>Santa Maria\\n</td>\n",
       "      <td>Rio Grande do Sul\\n</td>\n",
       "      <td>0,784\\n</td>\n",
       "    </tr>\n",
       "  </tbody>\n",
       "</table>\n",
       "<p>109 rows × 3 columns</p>\n",
       "</div>"
      ],
      "text/plain": [
       "                   Cidade                    UF      IDH\n",
       "0    São Caetano do Sul\\n           São Paulo\\n  0,862\\n\n",
       "1    Águas de São Pedro\\n           São Paulo\\n  0,854\\n\n",
       "2         Florianópolis\\n      Santa Catarina\\n  0,847\\n\n",
       "3    Balneário Camboriú\\n      Santa Catarina\\n  0,845\\n\n",
       "4               Vitória\\n      Espírito Santo\\n  0,845\\n\n",
       "..                    ...                   ...      ...\n",
       "104     Santa Fé do Sul\\n           São Paulo\\n  0,784\\n\n",
       "105        Salto Veloso\\n      Santa Catarina\\n  0,784\\n\n",
       "106               Timbó\\n      Santa Catarina\\n  0,784\\n\n",
       "107               Ivoti\\n   Rio Grande do Sul\\n  0,784\\n\n",
       "108         Santa Maria\\n   Rio Grande do Sul\\n  0,784\\n\n",
       "\n",
       "[109 rows x 3 columns]"
      ]
     },
     "execution_count": 376,
     "metadata": {},
     "output_type": "execute_result"
    }
   ],
   "source": [
    "# Criando um\n",
    "data_frame = pd.DataFrame(cities_list, columns=['Cidade'])\n",
    "\n",
    "# Criando outro e já o adicionando ao primeiro\n",
    "data_frame = data_frame.join( pd.DataFrame(uf_list, columns=['UF']) )\n",
    "\n",
    "# Hehe, não diria que é a melhor alternativa, mas por hora farei assim\n",
    "data_frame = data_frame.join( pd.DataFrame(idh_list, columns=['IDH']) )\n",
    "\n",
    "data_frame\n",
    "\n",
    "# Como pode ver, ainda há '\\n' símbolos, mas podemos solucionar isso durante a análise exploratória (EDA)"
   ]
  },
  {
   "cell_type": "code",
   "execution_count": 377,
   "metadata": {},
   "outputs": [],
   "source": [
    "data_frame.to_csv('100 maiores IDHs brasileiros.csv')"
   ]
  }
 ],
 "metadata": {
  "kernelspec": {
   "display_name": "Python 3",
   "language": "python",
   "name": "python3"
  },
  "language_info": {
   "codemirror_mode": {
    "name": "ipython",
    "version": 3
   },
   "file_extension": ".py",
   "mimetype": "text/x-python",
   "name": "python",
   "nbconvert_exporter": "python",
   "pygments_lexer": "ipython3",
   "version": "3.7.6"
  }
 },
 "nbformat": 4,
 "nbformat_minor": 4
}
