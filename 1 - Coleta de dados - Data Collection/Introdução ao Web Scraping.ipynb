{
 "cells": [
  {
   "cell_type": "markdown",
   "metadata": {},
   "source": [
    "# Introdução ao BeautifulSoup.\n",
    "    Aqui você aprenderá os principais atributos e métodos do BeautifulSoup.\n",
    "    Tentei simplificar bastante, para que você possa aprender rapidamente.\n",
    "    \n",
    "Vídeo que me ajudou a criar este tutorial: https://www.youtube.com/watch?v=4UcqECQe5Kc&list=WL&index=20"
   ]
  },
  {
   "cell_type": "code",
   "execution_count": 1,
   "metadata": {},
   "outputs": [],
   "source": [
    "from bs4 import BeautifulSoup\n",
    "# Não precisaremos importar requests (já que já temos o 'html')"
   ]
  },
  {
   "cell_type": "code",
   "execution_count": 2,
   "metadata": {},
   "outputs": [],
   "source": [
    "html_doc = \"\"\"\n",
    "<div class=\"header\">\n",
    "  <h2>Blog Name</h2>\n",
    "</div>\n",
    "\n",
    "<div class=\"row\">\n",
    "  <div class=\"leftcolumn\">\n",
    "    <div class=\"card\">\n",
    "      <h2>TITLE HEADING</h2>\n",
    "      <h5>Title description, Dec 7, 2017</h5>\n",
    "      <div class=\"fakeimg\" style=\"height:200px;\">Image</div>\n",
    "      <p>Some text..</p>\n",
    "    </div>\n",
    "    <div class=\"card\">\n",
    "      <h2>TITLE HEADING</h2>\n",
    "      <h5>Title description, Sep 2, 2017</h5>\n",
    "      <div class=\"fakeimg\" style=\"height:200px;\">Image</div>\n",
    "      <p>Some text..</p>\n",
    "    </div>\n",
    "  </div>\n",
    "  <div class=\"rightcolumn\">\n",
    "    <div class=\"card\">\n",
    "      <h2>About Me</h2>\n",
    "      <div class=\"fakeimg\" style=\"height:100px;\">Image</div>\n",
    "      <p>Some text about me in culpa qui officia deserunt mollit anim..</p>\n",
    "    </div>\n",
    "    <div class=\"card\">\n",
    "      <h3>Popular Post</h3>\n",
    "      <div class=\"fakeimg\">Image</div><br>\n",
    "      <div class=\"fakeimg\">Image</div><br>\n",
    "      <div class=\"fakeimg\">Image</div>\n",
    "    </div>\n",
    "    <div class=\"stack-it\">\n",
    "      <span>    \n",
    "          <h3>Popular Post</h3>\n",
    "          <div class=\"fakeimg\">Image</div><br>\n",
    "          <div class=\"fakeimg\">Image</div><br>\n",
    "          <div class=\"fakeimg\">Image</div>\n",
    "      </span>\n",
    "    </div>\n",
    "    <div class=\"card\">\n",
    "      <h3 id=\"follow\">Follow Me</h3>\n",
    "      <p>Some text..</p>\n",
    "    </div>\n",
    "  </div>\n",
    "</div>\n",
    "\n",
    "<div class=\"footer\">\n",
    "  <h2>Footer</h2>\n",
    "</div>\n",
    "\"\"\""
   ]
  },
  {
   "cell_type": "markdown",
   "metadata": {},
   "source": [
    "###  Como você verá, o BeautifulSoup \"dá sentido\" ao documento html\n",
    "     Mesmo que html_doc seja uma string, o bs4 a analisa e a converte em\n",
    "     um objeto com certos atributos e métodos que nos ajudarão a obter\n",
    "     informações específicas."
   ]
  },
  {
   "cell_type": "code",
   "execution_count": 5,
   "metadata": {},
   "outputs": [],
   "source": [
    "# ps: soup é uma instância.   BeautifulSoup é um objeto.\n",
    "soup = BeautifulSoup(html_doc, 'html.parser')"
   ]
  },
  {
   "cell_type": "code",
   "execution_count": 6,
   "metadata": {},
   "outputs": [
    {
     "name": "stdout",
     "output_type": "stream",
     "text": [
      "\n",
      "<div class=\"header\">\n",
      "<h2>Blog Name</h2>\n",
      "</div>\n",
      "<div class=\"row\">\n",
      "<div class=\"leftcolumn\">\n",
      "<div class=\"card\">\n",
      "<h2>TITLE HEADING</h2>\n",
      "<h5>Title description, Dec 7, 2017</h5>\n",
      "<div class=\"fakeimg\" style=\"height:200px;\">Image</div>\n",
      "<p>Some text..</p>\n",
      "</div>\n",
      "<div class=\"card\">\n",
      "<h2>TITLE HEADING</h2>\n",
      "<h5>Title description, Sep 2, 2017</h5>\n",
      "<div class=\"fakeimg\" style=\"height:200px;\">Image</div>\n",
      "<p>Some text..</p>\n",
      "</div>\n",
      "</div>\n",
      "<div class=\"rightcolumn\">\n",
      "<div class=\"card\">\n",
      "<h2>About Me</h2>\n",
      "<div class=\"fakeimg\" style=\"height:100px;\">Image</div>\n",
      "<p>Some text about me in culpa qui officia deserunt mollit anim..</p>\n",
      "</div>\n",
      "<div class=\"card\">\n",
      "<h3>Popular Post</h3>\n",
      "<div class=\"fakeimg\">Image</div><br/>\n",
      "<div class=\"fakeimg\">Image</div><br/>\n",
      "<div class=\"fakeimg\">Image</div>\n",
      "</div>\n",
      "<div class=\"stack-it\">\n",
      "<span>\n",
      "<h3>Popular Post</h3>\n",
      "<div class=\"fakeimg\">Image</div><br/>\n",
      "<div class=\"fakeimg\">Image</div><br/>\n",
      "<div class=\"fakeimg\">Image</div>\n",
      "</span>\n",
      "</div>\n",
      "<div class=\"card\">\n",
      "<h3 id=\"follow\">Follow Me</h3>\n",
      "<p>Some text..</p>\n",
      "</div>\n",
      "</div>\n",
      "</div>\n",
      "<div class=\"footer\">\n",
      "<h2>Footer</h2>\n",
      "</div>\n",
      "\n"
     ]
    }
   ],
   "source": [
    "# O conteúdo vem assim ... mas usando .prettify()\n",
    "print(soup)"
   ]
  },
  {
   "cell_type": "code",
   "execution_count": 8,
   "metadata": {},
   "outputs": [
    {
     "name": "stdout",
     "output_type": "stream",
     "text": [
      "<div class=\"header\">\n",
      " <h2>\n",
      "  Blog Name\n",
      " </h2>\n",
      "</div>\n",
      "<div class=\"row\">\n",
      " <div class=\"leftcolumn\">\n",
      "  <div class=\"card\">\n",
      "   <h2>\n",
      "    TITLE HEADING\n",
      "   </h2>\n",
      "   <h5>\n",
      "    Title description, Dec 7, 2017\n",
      "   </h5>\n",
      "   <div class=\"fakeimg\" style=\"height:200px;\">\n",
      "    Image\n",
      "   </div>\n",
      "   <p>\n",
      "    Some text..\n",
      "   </p>\n",
      "  </div>\n",
      "  <div class=\"card\">\n",
      "   <h2>\n",
      "    TITLE HEADING\n",
      "   </h2>\n",
      "   <h5>\n",
      "    Title description, Sep 2, 2017\n",
      "   </h5>\n",
      "   <div class=\"fakeimg\" style=\"height:200px;\">\n",
      "    Image\n",
      "   </div>\n",
      "   <p>\n",
      "    Some text..\n",
      "   </p>\n",
      "  </div>\n",
      " </div>\n",
      " <div class=\"rightcolumn\">\n",
      "  <div class=\"card\">\n",
      "   <h2>\n",
      "    About Me\n",
      "   </h2>\n",
      "   <div class=\"fakeimg\" style=\"height:100px;\">\n",
      "    Image\n",
      "   </div>\n",
      "   <p>\n",
      "    Some text about me in culpa qui officia deserunt mollit anim..\n",
      "   </p>\n",
      "  </div>\n",
      "  <div class=\"card\">\n",
      "   <h3>\n",
      "    Popular Post\n",
      "   </h3>\n",
      "   <div class=\"fakeimg\">\n",
      "    Image\n",
      "   </div>\n",
      "   <br/>\n",
      "   <div class=\"fakeimg\">\n",
      "    Image\n",
      "   </div>\n",
      "   <br/>\n",
      "   <div class=\"fakeimg\">\n",
      "    Image\n",
      "   </div>\n",
      "  </div>\n",
      "  <div class=\"stack-it\">\n",
      "   <span>\n",
      "    <h3>\n",
      "     Popular Post\n",
      "    </h3>\n",
      "    <div class=\"fakeimg\">\n",
      "     Image\n",
      "    </div>\n",
      "    <br/>\n",
      "    <div class=\"fakeimg\">\n",
      "     Image\n",
      "    </div>\n",
      "    <br/>\n",
      "    <div class=\"fakeimg\">\n",
      "     Image\n",
      "    </div>\n",
      "   </span>\n",
      "  </div>\n",
      "  <div class=\"card\">\n",
      "   <h3 id=\"follow\">\n",
      "    Follow Me\n",
      "   </h3>\n",
      "   <p>\n",
      "    Some text..\n",
      "   </p>\n",
      "  </div>\n",
      " </div>\n",
      "</div>\n",
      "<div class=\"footer\">\n",
      " <h2>\n",
      "  Footer\n",
      " </h2>\n",
      "</div>\n",
      "\n"
     ]
    }
   ],
   "source": [
    "# ...é possível ver uma versão \"melhorada\" do html \n",
    "\n",
    "print(soup.prettify())"
   ]
  },
  {
   "cell_type": "markdown",
   "metadata": {},
   "source": [
    "#### Usando os atributos do objeto bs4 (tags do html), podemos buscar as informações que queremos"
   ]
  },
  {
   "cell_type": "code",
   "execution_count": 9,
   "metadata": {},
   "outputs": [
    {
     "data": {
      "text/plain": [
       "<div class=\"header\">\n",
       "<h2>Blog Name</h2>\n",
       "</div>"
      ]
     },
     "execution_count": 9,
     "metadata": {},
     "output_type": "execute_result"
    }
   ],
   "source": [
    "# Essa abordagem nos fornece a primeira tag, mas nem sempre estamos procurando o conteúdo na primeira tag\n",
    "soup.div"
   ]
  },
  {
   "cell_type": "code",
   "execution_count": 10,
   "metadata": {},
   "outputs": [
    {
     "data": {
      "text/plain": [
       "<h2>Blog Name</h2>"
      ]
     },
     "execution_count": 10,
     "metadata": {},
     "output_type": "execute_result"
    }
   ],
   "source": [
    "# Digamos que precisamos ter TITLE HEADING, sabemos que está dentro da tag h2, mas como eu disse\n",
    "soup.h2 # Primeira tag h2"
   ]
  },
  {
   "cell_type": "code",
   "execution_count": 11,
   "metadata": {},
   "outputs": [
    {
     "data": {
      "text/plain": [
       "<div class=\"card\">\n",
       "<h2>TITLE HEADING</h2>\n",
       "<h5>Title description, Dec 7, 2017</h5>\n",
       "<div class=\"fakeimg\" style=\"height:200px;\">Image</div>\n",
       "<p>Some text..</p>\n",
       "</div>"
      ]
     },
     "execution_count": 11,
     "metadata": {},
     "output_type": "execute_result"
    }
   ],
   "source": [
    "# Para obter TITLE HEADING, podemos usar o método find(), passando uma tag e um atributo como argumentos\n",
    "# Como a tag h2 do TITLE HEADING não tem um atributo, vamos procurar uma tag em que ele está\n",
    "\n",
    "soup.find ('div', class_ = 'card')"
   ]
  },
  {
   "cell_type": "code",
   "execution_count": 13,
   "metadata": {},
   "outputs": [
    {
     "data": {
      "text/plain": [
       "<h2>TITLE HEADING</h2>"
      ]
     },
     "execution_count": 13,
     "metadata": {},
     "output_type": "execute_result"
    }
   ],
   "source": [
    "# Também podemos passar esse resultado para uma variável (ainda objeto bs4)\n",
    "specific_heading = soup.find('div', class_= 'card')\n",
    "\n",
    "# e agora o conseguimos\n",
    "specific_heading.h2"
   ]
  },
  {
   "cell_type": "code",
   "execution_count": 14,
   "metadata": {},
   "outputs": [
    {
     "data": {
      "text/plain": [
       "'TITLE HEADING'"
      ]
     },
     "execution_count": 14,
     "metadata": {},
     "output_type": "execute_result"
    }
   ],
   "source": [
    "# Para obter apenas o conteúdo real, você pode usar o atributo .text\n",
    "\n",
    "specific_heading.h2.text"
   ]
  },
  {
   "cell_type": "markdown",
   "metadata": {},
   "source": [
    "#### O método .findAll() ( ou find_all() ) nos fornece um retorno semelhante, mas como o próprio nome diz, ele retornará all / todos os atributos / tags que passamos como parâmetros. "
   ]
  },
  {
   "cell_type": "code",
   "execution_count": 15,
   "metadata": {},
   "outputs": [
    {
     "data": {
      "text/plain": [
       "[<div class=\"header\">\n",
       " <h2>Blog Name</h2>\n",
       " </div>,\n",
       " <div class=\"row\">\n",
       " <div class=\"leftcolumn\">\n",
       " <div class=\"card\">\n",
       " <h2>TITLE HEADING</h2>\n",
       " <h5>Title description, Dec 7, 2017</h5>\n",
       " <div class=\"fakeimg\" style=\"height:200px;\">Image</div>\n",
       " <p>Some text..</p>\n",
       " </div>\n",
       " <div class=\"card\">\n",
       " <h2>TITLE HEADING</h2>\n",
       " <h5>Title description, Sep 2, 2017</h5>\n",
       " <div class=\"fakeimg\" style=\"height:200px;\">Image</div>\n",
       " <p>Some text..</p>\n",
       " </div>\n",
       " </div>\n",
       " <div class=\"rightcolumn\">\n",
       " <div class=\"card\">\n",
       " <h2>About Me</h2>\n",
       " <div class=\"fakeimg\" style=\"height:100px;\">Image</div>\n",
       " <p>Some text about me in culpa qui officia deserunt mollit anim..</p>\n",
       " </div>\n",
       " <div class=\"card\">\n",
       " <h3>Popular Post</h3>\n",
       " <div class=\"fakeimg\">Image</div><br/>\n",
       " <div class=\"fakeimg\">Image</div><br/>\n",
       " <div class=\"fakeimg\">Image</div>\n",
       " </div>\n",
       " <div class=\"stack-it\">\n",
       " <span>\n",
       " <h3>Popular Post</h3>\n",
       " <div class=\"fakeimg\">Image</div><br/>\n",
       " <div class=\"fakeimg\">Image</div><br/>\n",
       " <div class=\"fakeimg\">Image</div>\n",
       " </span>\n",
       " </div>\n",
       " <div class=\"card\">\n",
       " <h3 id=\"follow\">Follow Me</h3>\n",
       " <p>Some text..</p>\n",
       " </div>\n",
       " </div>\n",
       " </div>,\n",
       " <div class=\"leftcolumn\">\n",
       " <div class=\"card\">\n",
       " <h2>TITLE HEADING</h2>\n",
       " <h5>Title description, Dec 7, 2017</h5>\n",
       " <div class=\"fakeimg\" style=\"height:200px;\">Image</div>\n",
       " <p>Some text..</p>\n",
       " </div>\n",
       " <div class=\"card\">\n",
       " <h2>TITLE HEADING</h2>\n",
       " <h5>Title description, Sep 2, 2017</h5>\n",
       " <div class=\"fakeimg\" style=\"height:200px;\">Image</div>\n",
       " <p>Some text..</p>\n",
       " </div>\n",
       " </div>,\n",
       " <div class=\"card\">\n",
       " <h2>TITLE HEADING</h2>\n",
       " <h5>Title description, Dec 7, 2017</h5>\n",
       " <div class=\"fakeimg\" style=\"height:200px;\">Image</div>\n",
       " <p>Some text..</p>\n",
       " </div>,\n",
       " <div class=\"fakeimg\" style=\"height:200px;\">Image</div>,\n",
       " <div class=\"card\">\n",
       " <h2>TITLE HEADING</h2>\n",
       " <h5>Title description, Sep 2, 2017</h5>\n",
       " <div class=\"fakeimg\" style=\"height:200px;\">Image</div>\n",
       " <p>Some text..</p>\n",
       " </div>,\n",
       " <div class=\"fakeimg\" style=\"height:200px;\">Image</div>,\n",
       " <div class=\"rightcolumn\">\n",
       " <div class=\"card\">\n",
       " <h2>About Me</h2>\n",
       " <div class=\"fakeimg\" style=\"height:100px;\">Image</div>\n",
       " <p>Some text about me in culpa qui officia deserunt mollit anim..</p>\n",
       " </div>\n",
       " <div class=\"card\">\n",
       " <h3>Popular Post</h3>\n",
       " <div class=\"fakeimg\">Image</div><br/>\n",
       " <div class=\"fakeimg\">Image</div><br/>\n",
       " <div class=\"fakeimg\">Image</div>\n",
       " </div>\n",
       " <div class=\"stack-it\">\n",
       " <span>\n",
       " <h3>Popular Post</h3>\n",
       " <div class=\"fakeimg\">Image</div><br/>\n",
       " <div class=\"fakeimg\">Image</div><br/>\n",
       " <div class=\"fakeimg\">Image</div>\n",
       " </span>\n",
       " </div>\n",
       " <div class=\"card\">\n",
       " <h3 id=\"follow\">Follow Me</h3>\n",
       " <p>Some text..</p>\n",
       " </div>\n",
       " </div>,\n",
       " <div class=\"card\">\n",
       " <h2>About Me</h2>\n",
       " <div class=\"fakeimg\" style=\"height:100px;\">Image</div>\n",
       " <p>Some text about me in culpa qui officia deserunt mollit anim..</p>\n",
       " </div>,\n",
       " <div class=\"fakeimg\" style=\"height:100px;\">Image</div>,\n",
       " <div class=\"card\">\n",
       " <h3>Popular Post</h3>\n",
       " <div class=\"fakeimg\">Image</div><br/>\n",
       " <div class=\"fakeimg\">Image</div><br/>\n",
       " <div class=\"fakeimg\">Image</div>\n",
       " </div>,\n",
       " <div class=\"fakeimg\">Image</div>,\n",
       " <div class=\"fakeimg\">Image</div>,\n",
       " <div class=\"fakeimg\">Image</div>,\n",
       " <div class=\"stack-it\">\n",
       " <span>\n",
       " <h3>Popular Post</h3>\n",
       " <div class=\"fakeimg\">Image</div><br/>\n",
       " <div class=\"fakeimg\">Image</div><br/>\n",
       " <div class=\"fakeimg\">Image</div>\n",
       " </span>\n",
       " </div>,\n",
       " <div class=\"fakeimg\">Image</div>,\n",
       " <div class=\"fakeimg\">Image</div>,\n",
       " <div class=\"fakeimg\">Image</div>,\n",
       " <div class=\"card\">\n",
       " <h3 id=\"follow\">Follow Me</h3>\n",
       " <p>Some text..</p>\n",
       " </div>,\n",
       " <div class=\"footer\">\n",
       " <h2>Footer</h2>\n",
       " </div>]"
      ]
     },
     "execution_count": 15,
     "metadata": {},
     "output_type": "execute_result"
    }
   ],
   "source": [
    "# Todos os divs\n",
    "soup.findAll('div')"
   ]
  },
  {
   "cell_type": "code",
   "execution_count": 16,
   "metadata": {},
   "outputs": [
    {
     "data": {
      "text/plain": [
       "[<h2>Blog Name</h2>,\n",
       " <h2>TITLE HEADING</h2>,\n",
       " <h2>TITLE HEADING</h2>,\n",
       " <h2>About Me</h2>,\n",
       " <h2>Footer</h2>]"
      ]
     },
     "execution_count": 16,
     "metadata": {},
     "output_type": "execute_result"
    }
   ],
   "source": [
    "# Todos os h2s\n",
    "soup.findAll('h2')"
   ]
  },
  {
   "cell_type": "code",
   "execution_count": 17,
   "metadata": {},
   "outputs": [
    {
     "data": {
      "text/plain": [
       "[<div class=\"fakeimg\" style=\"height:200px;\">Image</div>,\n",
       " <div class=\"fakeimg\" style=\"height:200px;\">Image</div>,\n",
       " <div class=\"fakeimg\" style=\"height:100px;\">Image</div>,\n",
       " <div class=\"fakeimg\">Image</div>,\n",
       " <div class=\"fakeimg\">Image</div>,\n",
       " <div class=\"fakeimg\">Image</div>,\n",
       " <div class=\"fakeimg\">Image</div>,\n",
       " <div class=\"fakeimg\">Image</div>,\n",
       " <div class=\"fakeimg\">Image</div>]"
      ]
     },
     "execution_count": 17,
     "metadata": {},
     "output_type": "execute_result"
    }
   ],
   "source": [
    "# Todos os divs em que seu atributo de classe é igual a 'fakeimg'\n",
    "soup.findAll('div', class_=\"fakeimg\")"
   ]
  },
  {
   "cell_type": "markdown",
   "metadata": {},
   "source": [
    "#### Outra maneira de obter uma informação específica é 'empilhando' os atributos"
   ]
  },
  {
   "cell_type": "code",
   "execution_count": 19,
   "metadata": {},
   "outputs": [
    {
     "data": {
      "text/plain": [
       "<div class=\"stack-it\">\n",
       "<span>\n",
       "<h3>Popular Post</h3>\n",
       "<div class=\"fakeimg\">Image</div><br/>\n",
       "<div class=\"fakeimg\">Image</div><br/>\n",
       "<div class=\"fakeimg\">Image</div>\n",
       "</span>\n",
       "</div>"
      ]
     },
     "execution_count": 19,
     "metadata": {},
     "output_type": "execute_result"
    }
   ],
   "source": [
    "soup.find('div', class_=\"stack-it\")"
   ]
  },
  {
   "cell_type": "code",
   "execution_count": 20,
   "metadata": {},
   "outputs": [
    {
     "data": {
      "text/plain": [
       "<span>\n",
       "<h3>Popular Post</h3>\n",
       "<div class=\"fakeimg\">Image</div><br/>\n",
       "<div class=\"fakeimg\">Image</div><br/>\n",
       "<div class=\"fakeimg\">Image</div>\n",
       "</span>"
      ]
     },
     "execution_count": 20,
     "metadata": {},
     "output_type": "execute_result"
    }
   ],
   "source": [
    "stacking_attributes = soup.find('div', class_=\"stack-it\")\n",
    "\n",
    "stacking_attributes.span"
   ]
  },
  {
   "cell_type": "code",
   "execution_count": 21,
   "metadata": {},
   "outputs": [
    {
     "data": {
      "text/plain": [
       "<h3>Popular Post</h3>"
      ]
     },
     "execution_count": 21,
     "metadata": {},
     "output_type": "execute_result"
    }
   ],
   "source": [
    "stacking_attributes.span.h3"
   ]
  },
  {
   "cell_type": "code",
   "execution_count": 22,
   "metadata": {},
   "outputs": [
    {
     "data": {
      "text/plain": [
       "'Popular Post'"
      ]
     },
     "execution_count": 22,
     "metadata": {},
     "output_type": "execute_result"
    }
   ],
   "source": [
    "stacking_attributes.span.h3.text"
   ]
  },
  {
   "cell_type": "markdown",
   "metadata": {},
   "source": [
    "#### O atributo .contents retorna para nós os filhos da tag (tags dentro dessa tag)"
   ]
  },
  {
   "cell_type": "code",
   "execution_count": 23,
   "metadata": {},
   "outputs": [
    {
     "data": {
      "text/plain": [
       "['\\n',\n",
       " <span>\n",
       " <h3>Popular Post</h3>\n",
       " <div class=\"fakeimg\">Image</div><br/>\n",
       " <div class=\"fakeimg\">Image</div><br/>\n",
       " <div class=\"fakeimg\">Image</div>\n",
       " </span>,\n",
       " '\\n']"
      ]
     },
     "execution_count": 23,
     "metadata": {},
     "output_type": "execute_result"
    }
   ],
   "source": [
    "# retorna no formato de uma lista\n",
    "stacking_attributes.contents"
   ]
  },
  {
   "cell_type": "code",
   "execution_count": 24,
   "metadata": {},
   "outputs": [
    {
     "data": {
      "text/plain": [
       "'\\n'"
      ]
     },
     "execution_count": 24,
     "metadata": {},
     "output_type": "execute_result"
    }
   ],
   "source": [
    "stacking_attributes.contents[0]"
   ]
  },
  {
   "cell_type": "code",
   "execution_count": 25,
   "metadata": {},
   "outputs": [
    {
     "data": {
      "text/plain": [
       "<span>\n",
       "<h3>Popular Post</h3>\n",
       "<div class=\"fakeimg\">Image</div><br/>\n",
       "<div class=\"fakeimg\">Image</div><br/>\n",
       "<div class=\"fakeimg\">Image</div>\n",
       "</span>"
      ]
     },
     "execution_count": 25,
     "metadata": {},
     "output_type": "execute_result"
    }
   ],
   "source": [
    "''' \n",
    "    Observe que <span> é filho, mas <h3> e <<<divs>>> são filhos do <span>,\n",
    "     é por isso que o segundo item da lista é todo o <span>\n",
    "'''\n",
    "stacking_attributes.contents[1]"
   ]
  },
  {
   "cell_type": "markdown",
   "metadata": {},
   "source": [
    "#### Podemos usar .select() para selecionar as tags 'diretamente da classe'\n",
    "     ps: retorna uma lista"
   ]
  },
  {
   "cell_type": "code",
   "execution_count": 26,
   "metadata": {},
   "outputs": [
    {
     "data": {
      "text/plain": [
       "[<div class=\"stack-it\">\n",
       " <span>\n",
       " <h3>Popular Post</h3>\n",
       " <div class=\"fakeimg\">Image</div><br/>\n",
       " <div class=\"fakeimg\">Image</div><br/>\n",
       " <div class=\"fakeimg\">Image</div>\n",
       " </span>\n",
       " </div>]"
      ]
     },
     "execution_count": 26,
     "metadata": {},
     "output_type": "execute_result"
    }
   ],
   "source": [
    "soup.select(\".stack-it\")"
   ]
  },
  {
   "cell_type": "code",
   "execution_count": 27,
   "metadata": {},
   "outputs": [
    {
     "data": {
      "text/plain": [
       "[<div class=\"fakeimg\" style=\"height:200px;\">Image</div>,\n",
       " <div class=\"fakeimg\" style=\"height:200px;\">Image</div>,\n",
       " <div class=\"fakeimg\" style=\"height:100px;\">Image</div>,\n",
       " <div class=\"fakeimg\">Image</div>,\n",
       " <div class=\"fakeimg\">Image</div>,\n",
       " <div class=\"fakeimg\">Image</div>,\n",
       " <div class=\"fakeimg\">Image</div>,\n",
       " <div class=\"fakeimg\">Image</div>,\n",
       " <div class=\"fakeimg\">Image</div>]"
      ]
     },
     "execution_count": 27,
     "metadata": {},
     "output_type": "execute_result"
    }
   ],
   "source": [
    "soup.select(\".fakeimg\")"
   ]
  },
  {
   "cell_type": "markdown",
   "metadata": {},
   "source": [
    "Características de lista"
   ]
  },
  {
   "cell_type": "code",
   "execution_count": 28,
   "metadata": {},
   "outputs": [
    {
     "data": {
      "text/plain": [
       "<div class=\"fakeimg\" style=\"height:200px;\">Image</div>"
      ]
     },
     "execution_count": 28,
     "metadata": {},
     "output_type": "execute_result"
    }
   ],
   "source": [
    "soup.select(\".fakeimg\")[0]"
   ]
  },
  {
   "cell_type": "code",
   "execution_count": 29,
   "metadata": {},
   "outputs": [
    {
     "data": {
      "text/plain": [
       "[<div class=\"fakeimg\" style=\"height:100px;\">Image</div>,\n",
       " <div class=\"fakeimg\">Image</div>,\n",
       " <div class=\"fakeimg\">Image</div>]"
      ]
     },
     "execution_count": 29,
     "metadata": {},
     "output_type": "execute_result"
    }
   ],
   "source": [
    "soup.select(\".fakeimg\")[2:5]"
   ]
  },
  {
   "cell_type": "markdown",
   "metadata": {},
   "source": [
    "#### .get_text() como você provavelmente pensa ... sim, ele recebe o texto\n",
    "        Do mesmo modo como o atributo .text\n",
    "        No entanto, .get_text() também suporta vários argumentos que podem alterar como ele se comporta\n",
    "        (separator, strip, types). Se você precisar de mais controle sobre o resultado, precisará da forma funcional."
   ]
  },
  {
   "cell_type": "code",
   "execution_count": 30,
   "metadata": {},
   "outputs": [
    {
     "data": {
      "text/plain": [
       "'\\n\\nPopular Post\\nImage\\nImage\\nImage\\n\\n'"
      ]
     },
     "execution_count": 30,
     "metadata": {},
     "output_type": "execute_result"
    }
   ],
   "source": [
    "soup.find('div', class_=\"stack-it\").get_text()"
   ]
  },
  {
   "cell_type": "code",
   "execution_count": 31,
   "metadata": {},
   "outputs": [
    {
     "data": {
      "text/plain": [
       "'\\n\\nPopular Post\\nImage\\nImage\\nImage\\n\\n'"
      ]
     },
     "execution_count": 31,
     "metadata": {},
     "output_type": "execute_result"
    }
   ],
   "source": [
    "soup.find('div', class_=\"stack-it\").text"
   ]
  },
  {
   "cell_type": "code",
   "execution_count": 32,
   "metadata": {},
   "outputs": [
    {
     "data": {
      "text/plain": [
       "'\\n|\\n|Popular Post|\\n|Image|\\n|Image|\\n|Image|\\n|\\n'"
      ]
     },
     "execution_count": 32,
     "metadata": {},
     "output_type": "execute_result"
    }
   ],
   "source": [
    "# Você pode especificar uma string a ser usada para unir os pedaços do texto:\n",
    "soup.find('div', class_=\"stack-it\").get_text('|')"
   ]
  },
  {
   "cell_type": "code",
   "execution_count": 33,
   "metadata": {},
   "outputs": [
    {
     "data": {
      "text/plain": [
       "'\\n \\n Popular Post \\n Image \\n Image \\n Image \\n \\n'"
      ]
     },
     "execution_count": 33,
     "metadata": {},
     "output_type": "execute_result"
    }
   ],
   "source": [
    "soup.find('div', class_=\"stack-it\").get_text(' ')"
   ]
  },
  {
   "cell_type": "code",
   "execution_count": 34,
   "metadata": {},
   "outputs": [
    {
     "data": {
      "text/plain": [
       "'Popular Post Image Image Image'"
      ]
     },
     "execution_count": 34,
     "metadata": {},
     "output_type": "execute_result"
    }
   ],
   "source": [
    "# Remover o \\n (Enter)\n",
    "soup.find('div', class_=\"stack-it\").get_text(' ', strip=True)"
   ]
  },
  {
   "cell_type": "markdown",
   "metadata": {},
   "source": [
    "#### Vamos fazer alguns testes hehe "
   ]
  },
  {
   "cell_type": "code",
   "execution_count": 35,
   "metadata": {},
   "outputs": [
    {
     "data": {
      "text/plain": [
       "[<div class=\"stack-it\">\n",
       " <span>\n",
       " <h3>Popular Post</h3>\n",
       " <div class=\"fakeimg\">Image</div><br/>\n",
       " <div class=\"fakeimg\">Image</div><br/>\n",
       " <div class=\"fakeimg\">Image</div>\n",
       " </span>\n",
       " </div>]"
      ]
     },
     "execution_count": 35,
     "metadata": {},
     "output_type": "execute_result"
    }
   ],
   "source": [
    "# Uma lista\n",
    "soup.select(\".stack-it\")"
   ]
  },
  {
   "cell_type": "code",
   "execution_count": 42,
   "metadata": {},
   "outputs": [
    {
     "name": "stdout",
     "output_type": "stream",
     "text": [
      "<div class=\"stack-it\">\n",
      "<span>\n",
      "<h3>Popular Post</h3>\n",
      "<div class=\"fakeimg\">Image</div><br/>\n",
      "<div class=\"fakeimg\">Image</div><br/>\n",
      "<div class=\"fakeimg\">Image</div>\n",
      "</span>\n",
      "</div>\n"
     ]
    }
   ],
   "source": [
    "# Cada item da lista\n",
    "for item in soup.select(\".stack-it\"):\n",
    "    print(item)"
   ]
  },
  {
   "cell_type": "code",
   "execution_count": 46,
   "metadata": {},
   "outputs": [
    {
     "name": "stdout",
     "output_type": "stream",
     "text": [
      "\n",
      "\n",
      "Popular Post\n",
      "Image\n",
      "Image\n",
      "Image\n",
      "\n",
      "\n"
     ]
    }
   ],
   "source": [
    "# Já que estamos trabalhando com um objeto bs4... apenas o conteúdo:\n",
    "for item in soup.select(\".stack-it\"):\n",
    "    print(item.text)"
   ]
  },
  {
   "cell_type": "code",
   "execution_count": 47,
   "metadata": {},
   "outputs": [
    {
     "name": "stdout",
     "output_type": "stream",
     "text": [
      "\n",
      "-\n",
      "-Popular Post-\n",
      "-Image-\n",
      "-Image-\n",
      "-Image-\n",
      "-\n",
      "\n"
     ]
    }
   ],
   "source": [
    "# Legal\n",
    "for item in soup.select(\".stack-it\"):\n",
    "    print(item.get_text('-'))"
   ]
  },
  {
   "cell_type": "code",
   "execution_count": 48,
   "metadata": {},
   "outputs": [
    {
     "name": "stdout",
     "output_type": "stream",
     "text": [
      "Popular Post-Image-Image-Image\n"
     ]
    }
   ],
   "source": [
    "# Sem o '\\n'\n",
    "for item in soup.select(\".stack-it\"):\n",
    "    print(item.get_text('-', strip=True))"
   ]
  },
  {
   "cell_type": "markdown",
   "metadata": {},
   "source": [
    "#### Ah, com .find() também podemos procurar identificadores específicos"
   ]
  },
  {
   "cell_type": "code",
   "execution_count": 49,
   "metadata": {},
   "outputs": [
    {
     "data": {
      "text/plain": [
       "<h3 id=\"follow\">Follow Me</h3>"
      ]
     },
     "execution_count": 49,
     "metadata": {},
     "output_type": "execute_result"
    }
   ],
   "source": [
    "soup.find(id='follow')"
   ]
  },
  {
   "cell_type": "code",
   "execution_count": 50,
   "metadata": {},
   "outputs": [
    {
     "data": {
      "text/plain": [
       "[<h3 id=\"follow\">Follow Me</h3>]"
      ]
     },
     "execution_count": 50,
     "metadata": {},
     "output_type": "execute_result"
    }
   ],
   "source": [
    "# Mesmo resultado? Não! Aqui temos uma lista (de todos os IDs 'follow')\n",
    "soup.findAll(id='follow')"
   ]
  },
  {
   "cell_type": "markdown",
   "metadata": {},
   "source": [
    "#####  Agora, voltando ao assunto .contents-children. Podemos encontrar o pai de uma tag (a tag que contém a tag que temos) usando .find_parent() "
   ]
  },
  {
   "cell_type": "code",
   "execution_count": 51,
   "metadata": {},
   "outputs": [
    {
     "data": {
      "text/plain": [
       "<div class=\"card\">\n",
       "<h3 id=\"follow\">Follow Me</h3>\n",
       "<p>Some text..</p>\n",
       "</div>"
      ]
     },
     "execution_count": 51,
     "metadata": {},
     "output_type": "execute_result"
    }
   ],
   "source": [
    "# div é o pai de {h3 id = \"follow\"}\n",
    "soup.find(id='follow').findParent()"
   ]
  },
  {
   "cell_type": "code",
   "execution_count": 52,
   "metadata": {},
   "outputs": [],
   "source": [
    "#### e é possível encontrar seus irmãos com find_next_sibling()"
   ]
  },
  {
   "cell_type": "code",
   "execution_count": 53,
   "metadata": {},
   "outputs": [
    {
     "data": {
      "text/plain": [
       "<p>Some text..</p>"
      ]
     },
     "execution_count": 53,
     "metadata": {},
     "output_type": "execute_result"
    }
   ],
   "source": [
    "soup.find(id='follow').findNextSibling()"
   ]
  },
  {
   "cell_type": "code",
   "execution_count": 54,
   "metadata": {},
   "outputs": [
    {
     "data": {
      "text/plain": [
       "<p>Some text..</p>"
      ]
     },
     "execution_count": 54,
     "metadata": {},
     "output_type": "execute_result"
    }
   ],
   "source": [
    "soup.find(id='follow').find_next_sibling()"
   ]
  },
  {
   "cell_type": "markdown",
   "metadata": {},
   "source": [
    "### É isso aí. Claro que há muito mais, mas esses são os principais métodos e atributos que você usará"
   ]
  }
 ],
 "metadata": {
  "kernelspec": {
   "display_name": "Python 3",
   "language": "python",
   "name": "python3"
  },
  "language_info": {
   "codemirror_mode": {
    "name": "ipython",
    "version": 3
   },
   "file_extension": ".py",
   "mimetype": "text/x-python",
   "name": "python",
   "nbconvert_exporter": "python",
   "pygments_lexer": "ipython3",
   "version": "3.7.6"
  }
 },
 "nbformat": 4,
 "nbformat_minor": 4
}
