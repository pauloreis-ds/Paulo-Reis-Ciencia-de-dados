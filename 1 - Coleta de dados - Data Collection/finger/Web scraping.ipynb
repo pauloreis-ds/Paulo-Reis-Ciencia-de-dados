{
 "cells": [
  {
   "cell_type": "markdown",
   "metadata": {},
   "source": [
    "# Web scraping - Prática Básica\n",
    "    Pegaremos algumas informações do site da Finger\n",
    "    \n",
    "    Nessa fase iniciante, a estrutura do processo fica assim:\n",
    "    Encontre 1\n",
    "    Cheque o conteúdo\n",
    "    Encontre todos \n",
    "    Itere sobre eles para pegar as informações desejadas\n",
    "    \n",
    "## Agenda \n",
    "        1 - Lendo a página da Web em Python\n",
    "        2 - Analisando o HTML usando BeautifulSoup\n",
    "        3 - Obtendo Título e Descrição\n",
    "        4 - Passando os dados para uma tabela e salvando em csv"
   ]
  },
  {
   "cell_type": "code",
   "execution_count": 36,
   "metadata": {},
   "outputs": [],
   "source": [
    "# Seção imports\n",
    "\n",
    "from bs4 import BeautifulSoup\n",
    "import requests\n",
    "\n",
    "# Criar a tabela em csv ou excel ou outros formatos...\n",
    "import pandas as pd"
   ]
  },
  {
   "cell_type": "markdown",
   "metadata": {},
   "source": [
    "### 1 - Lendo a página da Web em Python\n",
    "    A primeira coisa que precisamos fazer é ler o HTML que iremos usar\n",
    "    através da biblioteca de requests"
   ]
  },
  {
   "cell_type": "code",
   "execution_count": 4,
   "metadata": {},
   "outputs": [],
   "source": [
    "url = 'https://finger.ind.br/diferenciais-finger/'\n",
    "html = requests.get(url)"
   ]
  },
  {
   "cell_type": "markdown",
   "metadata": {},
   "source": [
    "### 2 - Analisando o HTML usando Beautiful Soup\n",
    "    Vamos passar o HTML para um objeto BeautifulSoup().\n",
    "    Este objeto tem atributos e métodos que usaremos para pegar\n",
    "    os dados da página da web.\n",
    "\n",
    "    Em outras palavras, o BeautifulSoup está lendo o HTML e fazendo sua estrutura \n",
    "    ter sentido para nós."
   ]
  },
  {
   "cell_type": "code",
   "execution_count": 9,
   "metadata": {},
   "outputs": [],
   "source": [
    "soup = BeautifulSoup(html.text, 'lxml')"
   ]
  },
  {
   "cell_type": "code",
   "execution_count": 13,
   "metadata": {},
   "outputs": [
    {
     "name": "stdout",
     "output_type": "stream",
     "text": [
      "<!DOCTYPE html>\n",
      "<html class=\"no-js\" lang=\"pt-br\">\n",
      " <head>\n",
      "  <meta charset=\"utf-8\"/>\n",
      "  <link crossorigin=\"\" href=\"https://fonts.gstatic.com/\" rel=\"preconnect\"/>\n",
      "  <script>\n",
      "   WebFontConfig={google:{families:[\"Montserrat:200,200i,300,300i,400,400i,500,500i,600,600i,700,700i,800,800i,900,900i\",\"Prata\"]}};if(typeof WebFont===\"object\"&&typeof WebFont.load===\"function\"){WebFont.load(WebFontConfig);}\n",
      "  </script>\n",
      "  <script defer=\"\" id=\"litespeed-webfont-lib\" src=\"https://finger.ind.br/wp-content/plugins\n"
     ]
    }
   ],
   "source": [
    "# .prettify() deixa o HTML mais bonitinho para nossa leitura \n",
    "\n",
    "print(soup.prettify()[0:500])\n",
    "\n",
    "# print(soup) # Faz o teste para comparar"
   ]
  },
  {
   "cell_type": "markdown",
   "metadata": {},
   "source": [
    "### 3 - Obtendo Título e Descrição\n",
    "    Vamos supor que desta página web queremos o título do artigo e sua descrição"
   ]
  },
  {
   "cell_type": "code",
   "execution_count": 18,
   "metadata": {},
   "outputs": [
    {
     "data": {
      "text/plain": [
       "'Extrem High Gloss'"
      ]
     },
     "execution_count": 18,
     "metadata": {},
     "output_type": "execute_result"
    }
   ],
   "source": [
    "'''\n",
    "    .find() procura pela tag que passamos como parâmetro, e já que também passamos\n",
    "    um atributo dela (a classe), .find() buscará por essa tag=div com a classe \n",
    "    específica 'title'.\n",
    "    \n",
    "    .text nos mostra o conteúdo da tag.    \n",
    "'''\n",
    "\n",
    "soup.find('div', class_='title').text"
   ]
  },
  {
   "cell_type": "code",
   "execution_count": 19,
   "metadata": {},
   "outputs": [
    {
     "data": {
      "text/plain": [
       "[<div class=\"title\">Extrem High Gloss<div class=\"flag\"><img alt=\"Itália\" class=\"img-fluid\" data-lazyloaded=\"1\" data-src=\"https://finger.ind.br/wp-content/uploads/2019/01/diferenciais-finger-15-50x50.png\" src=\"data:image/gif;base64,R0lGODdhAQABAPAAAMPDwwAAACwAAAAAAQABAAACAkQBADs=\"/><noscript><img alt=\"Itália\" class=\"img-fluid\" src=\"https://finger.ind.br/wp-content/uploads/2019/01/diferenciais-finger-15-50x50.png\"/></noscript></div></div>,\n",
       " <div class=\"title\">Extrem Super Matte<div class=\"flag\"><img alt=\"Itália\" class=\"img-fluid\" data-lazyloaded=\"1\" data-src=\"https://finger.ind.br/wp-content/uploads/2019/01/diferenciais-finger-15-50x50.png\" src=\"data:image/gif;base64,R0lGODdhAQABAPAAAMPDwwAAACwAAAAAAQABAAACAkQBADs=\"/><noscript><img alt=\"Itália\" class=\"img-fluid\" src=\"https://finger.ind.br/wp-content/uploads/2019/01/diferenciais-finger-15-50x50.png\"/></noscript></div></div>,\n",
       " <div class=\"title\">3D Lenz<div class=\"flag\"><img alt=\"Itália\" class=\"img-fluid\" data-lazyloaded=\"1\" data-src=\"https://finger.ind.br/wp-content/uploads/2019/01/diferenciais-finger-15-50x50.png\" src=\"data:image/gif;base64,R0lGODdhAQABAPAAAMPDwwAAACwAAAAAAQABAAACAkQBADs=\"/><noscript><img alt=\"Itália\" class=\"img-fluid\" src=\"https://finger.ind.br/wp-content/uploads/2019/01/diferenciais-finger-15-50x50.png\"/></noscript></div></div>,\n",
       " <div class=\"title\">Provençal Berlin<div class=\"flag\"><img alt=\"Inglaterra\" class=\"img-fluid\" data-lazyloaded=\"1\" data-src=\"https://finger.ind.br/wp-content/uploads/2019/01/diferenciais-finger-16-50x50.png\" src=\"data:image/gif;base64,R0lGODdhAQABAPAAAMPDwwAAACwAAAAAAQABAAACAkQBADs=\"/><noscript><img alt=\"Inglaterra\" class=\"img-fluid\" src=\"https://finger.ind.br/wp-content/uploads/2019/01/diferenciais-finger-16-50x50.png\"/></noscript></div></div>,\n",
       " <div class=\"title\">Couro<div class=\"flag\"><img alt=\"Alemanha\" class=\"img-fluid\" data-lazyloaded=\"1\" data-src=\"https://finger.ind.br/wp-content/uploads/2019/01/diferenciais-finger-17-50x50.png\" src=\"data:image/gif;base64,R0lGODdhAQABAPAAAMPDwwAAACwAAAAAAQABAAACAkQBADs=\"/><noscript><img alt=\"Alemanha\" class=\"img-fluid\" src=\"https://finger.ind.br/wp-content/uploads/2019/01/diferenciais-finger-17-50x50.png\"/></noscript></div></div>,\n",
       " <div class=\"title\">Painéis Stark</div>,\n",
       " <div class=\"title\">Painéis Stark 3D</div>,\n",
       " <div class=\"title\">Berg e Ágata</div>,\n",
       " <div class=\"title\">Painéis Editáveis</div>,\n",
       " <div class=\"title\">Kurve</div>,\n",
       " <div class=\"title\">Puxadores</div>,\n",
       " <div class=\"title\">Acessórios e Divisores</div>,\n",
       " <div class=\"title\">Corrediças Quadro</div>,\n",
       " <div class=\"title\">Dobradiças Blum</div>,\n",
       " <div class=\"title\">A qualidade Finger está presente em tudo que faz.</div>,\n",
       " <div class=\"title\">Site Finger</div>,\n",
       " <div class=\"title\">Blog Finger</div>,\n",
       " <div class=\"title\">Ambientes</div>,\n",
       " <div class=\"title\">Onde Encontrar</div>,\n",
       " <div class=\"title\">Atendimento</div>]"
      ]
     },
     "execution_count": 19,
     "metadata": {},
     "output_type": "execute_result"
    }
   ],
   "source": [
    "# Agora que sabemos como encontrar 1 título, podemos aplicar o mesmo pensamento para Todos\n",
    "'''\n",
    "    .findAll() faz a mesma busca, porém nos retorna todos os resultados que encontrou\n",
    "    enquanto .find() nos retorna apenas o primeiro que ela encontrar\n",
    "'''\n",
    "soup.findAll('div', class_='title')"
   ]
  },
  {
   "cell_type": "code",
   "execution_count": 20,
   "metadata": {
    "scrolled": true
   },
   "outputs": [
    {
     "name": "stdout",
     "output_type": "stream",
     "text": [
      "Extrem High Gloss\n",
      "Extrem Super Matte\n",
      "3D Lenz\n",
      "Provençal Berlin\n",
      "Couro\n",
      "Painéis Stark\n",
      "Painéis Stark 3D\n",
      "Berg e Ágata\n",
      "Painéis Editáveis\n",
      "Kurve\n",
      "Puxadores\n",
      "Acessórios e Divisores\n",
      "Corrediças Quadro\n",
      "Dobradiças Blum\n",
      "A qualidade Finger está presente em tudo que faz.\n",
      "Site Finger\n",
      "Blog Finger\n",
      "Ambientes\n",
      "Onde Encontrar\n",
      "Atendimento\n"
     ]
    }
   ],
   "source": [
    "# Utilizando um loop, podemos iterar e pegar todo o conteúdo dentro de findAll()\n",
    "for title in soup.findAll('div', class_='title'):\n",
    "    print(title.text)"
   ]
  },
  {
   "cell_type": "markdown",
   "metadata": {},
   "source": [
    "    O mesmo pensamento e técnicas se aplicam ao procuramos pelas descrições"
   ]
  },
  {
   "cell_type": "code",
   "execution_count": 21,
   "metadata": {},
   "outputs": [
    {
     "data": {
      "text/plain": [
       "<div class=\"content clearfix\" style=\"padding: 0;\"><p>A Finger tem uma história inteira de trabalho, sempre pesquisando materiais, novas tecnologias e tendências. Assim, desenvolveu uma linha de produtos altamente diferenciada no mercado. A Coleção Origens é o melhor exemplo disso: cada detalhe, cada acabamento, cada padrão são de alta qualidade, durabilidade o que proporciona economia e alto valor agregado. Aproveite ao máximo a precisão alemã e o melhor do design europeu.</p><p><a data-pin-color=\"red\" data-pin-do=\"buttonBookmark\" data-pin-height=\"128\" href=\"//www.pinterest.com/pin/create/button/\"><img data-lazyloaded=\"1\" data-src=\"//assets.pinterest.com/images/pidgets/pinit_fg_en_rect_red_28.png\" src=\"data:image/gif;base64,R0lGODdhAQABAPAAAMPDwwAAACwAAAAAAQABAAACAkQBADs=\"/><noscript><img src=\"//assets.pinterest.com/images/pidgets/pinit_fg_en_rect_red_28.png\"/></noscript></a></p></div>"
      ]
     },
     "execution_count": 21,
     "metadata": {},
     "output_type": "execute_result"
    }
   ],
   "source": [
    "# Encontre 1\n",
    "soup.find('div', class_='content clearfix')"
   ]
  },
  {
   "cell_type": "code",
   "execution_count": 22,
   "metadata": {},
   "outputs": [
    {
     "data": {
      "text/plain": [
       "'A Finger tem uma história inteira de trabalho, sempre pesquisando materiais, novas tecnologias e tendências. Assim, desenvolveu uma linha de produtos altamente diferenciada no mercado. A Coleção Origens é o melhor exemplo disso: cada detalhe, cada acabamento, cada padrão são de alta qualidade, durabilidade o que proporciona economia e alto valor agregado. Aproveite ao máximo a precisão alemã e o melhor do design europeu.'"
      ]
     },
     "execution_count": 22,
     "metadata": {},
     "output_type": "execute_result"
    }
   ],
   "source": [
    "# Cheque o conteúdo\n",
    "soup.find('div', class_='content clearfix').text"
   ]
  },
  {
   "cell_type": "code",
   "execution_count": 24,
   "metadata": {},
   "outputs": [
    {
     "name": "stdout",
     "output_type": "stream",
     "text": [
      "A Finger tem uma história inteira de trabalho, sempre pesquisando materiais, novas tecnologias e tendências. Assim, desenvolveu uma linha de produtos altamente diferenciada no mercado. A Coleção Origens é o melhor exemplo disso: cada detalhe, cada acabamento, cada padrão são de alta qualidade, durabilidade o que proporciona economia e alto valor agregado. Aproveite ao máximo a precisão alemã e o melhor do design europeu.\n",
      "\n",
      "Com um brilho inigualável, o padrão Extrem High Gloss gera a percepção de ampliação dos espaços. Apresenta altíssima capacidade de reflexo quando comparado a pinturas. Produzido com Laminado de Resina Polimérica, que é um produto vindo de Milão, na Itália.\n",
      "\n",
      "Com o Super Matte (fosco aveludado), o padrão Extrem traz uma sensação muito agradável ao tato e aquece os ambientes. Tem como característica principal não reter a gordura dos dedos e mãos sobre a superfície. Produzido com Laminado de Resina Polimérica, que é um produto vindo de Buriasco, na Itália.\n",
      "\n",
      "O padrão tridimensional Lenz confere uma sensação de grande suavidade e movimento, a partir da sua forma e relevos, proporcionando um belo jogo de luz e sombra, transformando seus ambientes em uma verdadeira obra de arte. Produzido com Laminado de Resina Polimérica, que é um produto vindo de Milão, na Itália.\n",
      "\n",
      "O romantismo e as recordações do estilo provençal estão retornando com muita força. Com design leve, rico em detalhes e com ar campestre, cria um espaço acolhedor, perfeito para todos os ambientes da sua casa. Produzido com Laminado de Resina Polimérica, que é um produto vindo de Cramlington, Inglaterra.\n",
      "\n",
      "Um toque tão real e quente que você tem a sensação que os painéis são feitos de couro natural. Traz muito mais charme e sofisticação aos seus ambientes. Tão versátil que pode ser aplicado nas partes internas (caixarias) dos móveis, deixando-os ainda mais harmónicos visualmente. Produzido com Laminado de Resina Polimérica, que é um produto vindo de Munique, na Alemanha.\n",
      "\n",
      "A robustez da madeira maciça compõe a sensação de aconchego, vindo ao encontro das tendências naturais, conservando a essência da madeira tornando cada peça única. Estas são as características para entregar aos seus projetos um toque de bem-estar.\n",
      "\n",
      "A volumetria do Painel Stark 3D apresenta um visual tridimensional sem perder a característica proporcionada pela madeira natural, vindo ao encontro das tendências da decoração contemporânea.\n",
      "\n",
      "Os padrões Berg e Ágata permitem infinitas possibilidades de combinações. O estilo escandinavo está presente no padrão amadeirado do Berg, enquanto o Padrão Ágata apresenta um suave toque vintage.\n",
      "\n",
      "Saia do lugar comum e diferencie seus projetos. Com painéis editáveis você aproveita cada milímetro do seu espaço. E o melhor, você pode usar todos os padrões oferecidos pela Finger, incluindo os produzidos com a exclusivo Laminado de Resina Polimérica.\n",
      "\n",
      "As linhas sinuosas do Kurve geram uma sensação de tranquilidade e suave movimento, tornando seus ambientes locais perfeitos para você relaxar, podendo ser aplicadas em qualquer espaço tornando seus ambientes únicos e exclusivos.\n",
      "\n",
      "Diversos modelos de puxadores com diversidade de materiais, cores e acabamentos. Tudo para que seus ambientes ganhem um visual mais leve e elegante e o seu dia a dia mais funcional.\n",
      "\n",
      "Os acessórios que criam um grande diferencial em cada detalhe do seu projeto, trazendo a personalidade de cada cliente para o ambiente dos seus sonhos, além de auxiliar a organização dos seus espaços tornado sua vida diária muito mais agradável.\n",
      "\n",
      "As corrediças quadro deslizam perfeitamente. Não ficam aparentes, proporcionando um acabamento mais sofisticado e um maior espaço interno.Oferecem uma alta facilidade no manuseio, limpeza e manutenção e também um movimento mais suave para abrir e fechar. Apresenta maior resistência e estabilidade comparada à corrediça telescópica.\n",
      "\n",
      "Móveis fechando de maneira suave e silenciosa por muito mais tempo. Dobradiças Blum, empresa Austríaca, são reconhecidas internacionalmente pelo seu alto padrão de qualidade, oferecem uma garantia de mais de 200 mil ciclos de aberturas e fechamentos para as portas.\n",
      "\n",
      "Tanto é assim, que oferece 8 anos de garantia de fábrica em seus produtos. Uma marca que há mais de 40 anos trabalha para entregar qualidade, segurança e bem-estar para você. Gostou? Melhor ainda é ver e sentir as texturas e padrões, funcionalidades e as cores ao vivo. Passe em uma de nossas lojas. Esperamos você.\n",
      "\n"
     ]
    }
   ],
   "source": [
    "# Encontre todos  --->  soup.findAll('div', class_='content clearfix')\n",
    "\n",
    "# Itere sobre eles para pegar as informações desejadas\n",
    "for content in soup.findAll('div', class_='content clearfix'):\n",
    "    print(content.text)\n",
    "    print()"
   ]
  },
  {
   "cell_type": "markdown",
   "metadata": {},
   "source": [
    "### 4 - Passando os dados para uma tabela e salvando em csv\n",
    "    Usamos os loops anteriores, mas ao invés de mostrar na tela,\n",
    "    passamos os dados para uma lista e transformamos a lista em \n",
    "    uma tabela."
   ]
  },
  {
   "cell_type": "code",
   "execution_count": 25,
   "metadata": {},
   "outputs": [],
   "source": [
    "# Listas para guardar as informações\n",
    "titles = []\n",
    "descriptions = []\n",
    "\n",
    "for title in soup.findAll('div', class_='title'):\n",
    "    titles.append(title.text)\n",
    "    \n",
    "for content in soup.findAll('div', class_='content clearfix'):\n",
    "    descriptions.append(content.text)    "
   ]
  },
  {
   "cell_type": "markdown",
   "metadata": {},
   "source": [
    "    Perceba que temos mais títulos que descrições, isso porque a forma que\n",
    "    o site foi codificado e o modo como pegamos os dados não estão em sincronia\n",
    "    \n",
    "    Dessa vez, resolverei isso manualmente (simplesmente olhando o site e apagando\n",
    "    na lista, onde as informações começam a vir indesejadamente). Porém, ao se pegar \n",
    "    Muitos dados é indicado vizualizar o inicio da tabela e o final, para saber se há\n",
    "    dados extras (como aconteceu aqui)."
   ]
  },
  {
   "cell_type": "code",
   "execution_count": 29,
   "metadata": {},
   "outputs": [
    {
     "data": {
      "text/plain": [
       "20"
      ]
     },
     "execution_count": 29,
     "metadata": {},
     "output_type": "execute_result"
    }
   ],
   "source": [
    "len(titles)"
   ]
  },
  {
   "cell_type": "code",
   "execution_count": 28,
   "metadata": {},
   "outputs": [
    {
     "data": {
      "text/plain": [
       "16"
      ]
     },
     "execution_count": 28,
     "metadata": {},
     "output_type": "execute_result"
    }
   ],
   "source": [
    "len(descriptions)"
   ]
  },
  {
   "cell_type": "markdown",
   "metadata": {},
   "source": [
    "#### Transformando em uma 'Série' (tipo de dado do pandas) para unir na tabela\n",
    "    E apagando os índices indesejáveis e outras alteraçõeszinhas "
   ]
  },
  {
   "cell_type": "code",
   "execution_count": 68,
   "metadata": {},
   "outputs": [
    {
     "data": {
      "text/html": [
       "<div>\n",
       "<style scoped>\n",
       "    .dataframe tbody tr th:only-of-type {\n",
       "        vertical-align: middle;\n",
       "    }\n",
       "\n",
       "    .dataframe tbody tr th {\n",
       "        vertical-align: top;\n",
       "    }\n",
       "\n",
       "    .dataframe thead th {\n",
       "        text-align: right;\n",
       "    }\n",
       "</style>\n",
       "<table border=\"1\" class=\"dataframe\">\n",
       "  <thead>\n",
       "    <tr style=\"text-align: right;\">\n",
       "      <th></th>\n",
       "      <th>title</th>\n",
       "    </tr>\n",
       "  </thead>\n",
       "  <tbody>\n",
       "    <tr>\n",
       "      <th>0</th>\n",
       "      <td>Extrem High Gloss</td>\n",
       "    </tr>\n",
       "    <tr>\n",
       "      <th>1</th>\n",
       "      <td>Extrem Super Matte</td>\n",
       "    </tr>\n",
       "    <tr>\n",
       "      <th>2</th>\n",
       "      <td>3D Lenz</td>\n",
       "    </tr>\n",
       "    <tr>\n",
       "      <th>3</th>\n",
       "      <td>Provençal Berlin</td>\n",
       "    </tr>\n",
       "    <tr>\n",
       "      <th>4</th>\n",
       "      <td>Couro</td>\n",
       "    </tr>\n",
       "    <tr>\n",
       "      <th>5</th>\n",
       "      <td>Painéis Stark</td>\n",
       "    </tr>\n",
       "    <tr>\n",
       "      <th>6</th>\n",
       "      <td>Painéis Stark 3D</td>\n",
       "    </tr>\n",
       "    <tr>\n",
       "      <th>7</th>\n",
       "      <td>Berg e Ágata</td>\n",
       "    </tr>\n",
       "    <tr>\n",
       "      <th>8</th>\n",
       "      <td>Painéis Editáveis</td>\n",
       "    </tr>\n",
       "    <tr>\n",
       "      <th>9</th>\n",
       "      <td>Kurve</td>\n",
       "    </tr>\n",
       "    <tr>\n",
       "      <th>10</th>\n",
       "      <td>Puxadores</td>\n",
       "    </tr>\n",
       "    <tr>\n",
       "      <th>11</th>\n",
       "      <td>Acessórios e Divisores</td>\n",
       "    </tr>\n",
       "    <tr>\n",
       "      <th>12</th>\n",
       "      <td>Corrediças Quadro</td>\n",
       "    </tr>\n",
       "    <tr>\n",
       "      <th>13</th>\n",
       "      <td>Dobradiças Blum</td>\n",
       "    </tr>\n",
       "  </tbody>\n",
       "</table>\n",
       "</div>"
      ],
      "text/plain": [
       "                     title\n",
       "0        Extrem High Gloss\n",
       "1       Extrem Super Matte\n",
       "2                  3D Lenz\n",
       "3         Provençal Berlin\n",
       "4                    Couro\n",
       "5            Painéis Stark\n",
       "6         Painéis Stark 3D\n",
       "7             Berg e Ágata\n",
       "8        Painéis Editáveis\n",
       "9                    Kurve\n",
       "10               Puxadores\n",
       "11  Acessórios e Divisores\n",
       "12       Corrediças Quadro\n",
       "13         Dobradiças Blum"
      ]
     },
     "execution_count": 68,
     "metadata": {},
     "output_type": "execute_result"
    }
   ],
   "source": [
    "titles_series = pd.DataFrame(titles, columns=['title'])\n",
    "\n",
    "titles_series = titles_series.drop([14,15,16,17,18,19])\n",
    "\n",
    "titles_series"
   ]
  },
  {
   "cell_type": "code",
   "execution_count": 126,
   "metadata": {},
   "outputs": [
    {
     "data": {
      "text/html": [
       "<div>\n",
       "<style scoped>\n",
       "    .dataframe tbody tr th:only-of-type {\n",
       "        vertical-align: middle;\n",
       "    }\n",
       "\n",
       "    .dataframe tbody tr th {\n",
       "        vertical-align: top;\n",
       "    }\n",
       "\n",
       "    .dataframe thead th {\n",
       "        text-align: right;\n",
       "    }\n",
       "</style>\n",
       "<table border=\"1\" class=\"dataframe\">\n",
       "  <thead>\n",
       "    <tr style=\"text-align: right;\">\n",
       "      <th></th>\n",
       "      <th>description</th>\n",
       "    </tr>\n",
       "  </thead>\n",
       "  <tbody>\n",
       "    <tr>\n",
       "      <th>0</th>\n",
       "      <td>Com um brilho inigualável, o padrão Extrem Hig...</td>\n",
       "    </tr>\n",
       "    <tr>\n",
       "      <th>1</th>\n",
       "      <td>Com o Super Matte (fosco aveludado), o padrão ...</td>\n",
       "    </tr>\n",
       "    <tr>\n",
       "      <th>2</th>\n",
       "      <td>O padrão tridimensional Lenz confere uma sensa...</td>\n",
       "    </tr>\n",
       "    <tr>\n",
       "      <th>3</th>\n",
       "      <td>O romantismo e as recordações do estilo proven...</td>\n",
       "    </tr>\n",
       "    <tr>\n",
       "      <th>4</th>\n",
       "      <td>Um toque tão real e quente que você tem a sens...</td>\n",
       "    </tr>\n",
       "    <tr>\n",
       "      <th>5</th>\n",
       "      <td>A robustez da madeira maciça compõe a sensação...</td>\n",
       "    </tr>\n",
       "    <tr>\n",
       "      <th>6</th>\n",
       "      <td>A volumetria do Painel Stark 3D apresenta um v...</td>\n",
       "    </tr>\n",
       "    <tr>\n",
       "      <th>7</th>\n",
       "      <td>Os padrões Berg e Ágata permitem infinitas pos...</td>\n",
       "    </tr>\n",
       "    <tr>\n",
       "      <th>8</th>\n",
       "      <td>Saia do lugar comum e diferencie seus projetos...</td>\n",
       "    </tr>\n",
       "    <tr>\n",
       "      <th>9</th>\n",
       "      <td>As linhas sinuosas do Kurve geram uma sensação...</td>\n",
       "    </tr>\n",
       "    <tr>\n",
       "      <th>10</th>\n",
       "      <td>Diversos modelos de puxadores com diversidade ...</td>\n",
       "    </tr>\n",
       "    <tr>\n",
       "      <th>11</th>\n",
       "      <td>Os acessórios que criam um grande diferencial ...</td>\n",
       "    </tr>\n",
       "    <tr>\n",
       "      <th>12</th>\n",
       "      <td>As corrediças quadro deslizam perfeitamente. N...</td>\n",
       "    </tr>\n",
       "    <tr>\n",
       "      <th>13</th>\n",
       "      <td>Móveis fechando de maneira suave e silenciosa ...</td>\n",
       "    </tr>\n",
       "  </tbody>\n",
       "</table>\n",
       "</div>"
      ],
      "text/plain": [
       "                                          description\n",
       "0   Com um brilho inigualável, o padrão Extrem Hig...\n",
       "1   Com o Super Matte (fosco aveludado), o padrão ...\n",
       "2   O padrão tridimensional Lenz confere uma sensa...\n",
       "3   O romantismo e as recordações do estilo proven...\n",
       "4   Um toque tão real e quente que você tem a sens...\n",
       "5   A robustez da madeira maciça compõe a sensação...\n",
       "6   A volumetria do Painel Stark 3D apresenta um v...\n",
       "7   Os padrões Berg e Ágata permitem infinitas pos...\n",
       "8   Saia do lugar comum e diferencie seus projetos...\n",
       "9   As linhas sinuosas do Kurve geram uma sensação...\n",
       "10  Diversos modelos de puxadores com diversidade ...\n",
       "11  Os acessórios que criam um grande diferencial ...\n",
       "12  As corrediças quadro deslizam perfeitamente. N...\n",
       "13  Móveis fechando de maneira suave e silenciosa ..."
      ]
     },
     "execution_count": 126,
     "metadata": {},
     "output_type": "execute_result"
    }
   ],
   "source": [
    "descriptions_series = pd.DataFrame(descriptions, columns=['description'])\n",
    "\n",
    "descriptions_series = descriptions_series.drop([0,15])\n",
    "\n",
    "descriptions_series = descriptions_series.reset_index().drop(columns='index')\n",
    "\n",
    "descriptions_series"
   ]
  },
  {
   "cell_type": "code",
   "execution_count": 127,
   "metadata": {},
   "outputs": [
    {
     "data": {
      "text/html": [
       "<div>\n",
       "<style scoped>\n",
       "    .dataframe tbody tr th:only-of-type {\n",
       "        vertical-align: middle;\n",
       "    }\n",
       "\n",
       "    .dataframe tbody tr th {\n",
       "        vertical-align: top;\n",
       "    }\n",
       "\n",
       "    .dataframe thead th {\n",
       "        text-align: right;\n",
       "    }\n",
       "</style>\n",
       "<table border=\"1\" class=\"dataframe\">\n",
       "  <thead>\n",
       "    <tr style=\"text-align: right;\">\n",
       "      <th></th>\n",
       "      <th>title</th>\n",
       "      <th>description</th>\n",
       "    </tr>\n",
       "  </thead>\n",
       "  <tbody>\n",
       "    <tr>\n",
       "      <th>0</th>\n",
       "      <td>Extrem High Gloss</td>\n",
       "      <td>Com um brilho inigualável, o padrão Extrem Hig...</td>\n",
       "    </tr>\n",
       "    <tr>\n",
       "      <th>1</th>\n",
       "      <td>Extrem Super Matte</td>\n",
       "      <td>Com o Super Matte (fosco aveludado), o padrão ...</td>\n",
       "    </tr>\n",
       "    <tr>\n",
       "      <th>2</th>\n",
       "      <td>3D Lenz</td>\n",
       "      <td>O padrão tridimensional Lenz confere uma sensa...</td>\n",
       "    </tr>\n",
       "    <tr>\n",
       "      <th>3</th>\n",
       "      <td>Provençal Berlin</td>\n",
       "      <td>O romantismo e as recordações do estilo proven...</td>\n",
       "    </tr>\n",
       "    <tr>\n",
       "      <th>4</th>\n",
       "      <td>Couro</td>\n",
       "      <td>Um toque tão real e quente que você tem a sens...</td>\n",
       "    </tr>\n",
       "    <tr>\n",
       "      <th>5</th>\n",
       "      <td>Painéis Stark</td>\n",
       "      <td>A robustez da madeira maciça compõe a sensação...</td>\n",
       "    </tr>\n",
       "    <tr>\n",
       "      <th>6</th>\n",
       "      <td>Painéis Stark 3D</td>\n",
       "      <td>A volumetria do Painel Stark 3D apresenta um v...</td>\n",
       "    </tr>\n",
       "    <tr>\n",
       "      <th>7</th>\n",
       "      <td>Berg e Ágata</td>\n",
       "      <td>Os padrões Berg e Ágata permitem infinitas pos...</td>\n",
       "    </tr>\n",
       "    <tr>\n",
       "      <th>8</th>\n",
       "      <td>Painéis Editáveis</td>\n",
       "      <td>Saia do lugar comum e diferencie seus projetos...</td>\n",
       "    </tr>\n",
       "    <tr>\n",
       "      <th>9</th>\n",
       "      <td>Kurve</td>\n",
       "      <td>As linhas sinuosas do Kurve geram uma sensação...</td>\n",
       "    </tr>\n",
       "    <tr>\n",
       "      <th>10</th>\n",
       "      <td>Puxadores</td>\n",
       "      <td>Diversos modelos de puxadores com diversidade ...</td>\n",
       "    </tr>\n",
       "    <tr>\n",
       "      <th>11</th>\n",
       "      <td>Acessórios e Divisores</td>\n",
       "      <td>Os acessórios que criam um grande diferencial ...</td>\n",
       "    </tr>\n",
       "    <tr>\n",
       "      <th>12</th>\n",
       "      <td>Corrediças Quadro</td>\n",
       "      <td>As corrediças quadro deslizam perfeitamente. N...</td>\n",
       "    </tr>\n",
       "    <tr>\n",
       "      <th>13</th>\n",
       "      <td>Dobradiças Blum</td>\n",
       "      <td>Móveis fechando de maneira suave e silenciosa ...</td>\n",
       "    </tr>\n",
       "  </tbody>\n",
       "</table>\n",
       "</div>"
      ],
      "text/plain": [
       "                     title                                        description\n",
       "0        Extrem High Gloss  Com um brilho inigualável, o padrão Extrem Hig...\n",
       "1       Extrem Super Matte  Com o Super Matte (fosco aveludado), o padrão ...\n",
       "2                  3D Lenz  O padrão tridimensional Lenz confere uma sensa...\n",
       "3         Provençal Berlin  O romantismo e as recordações do estilo proven...\n",
       "4                    Couro  Um toque tão real e quente que você tem a sens...\n",
       "5            Painéis Stark  A robustez da madeira maciça compõe a sensação...\n",
       "6         Painéis Stark 3D  A volumetria do Painel Stark 3D apresenta um v...\n",
       "7             Berg e Ágata  Os padrões Berg e Ágata permitem infinitas pos...\n",
       "8        Painéis Editáveis  Saia do lugar comum e diferencie seus projetos...\n",
       "9                    Kurve  As linhas sinuosas do Kurve geram uma sensação...\n",
       "10               Puxadores  Diversos modelos de puxadores com diversidade ...\n",
       "11  Acessórios e Divisores  Os acessórios que criam um grande diferencial ...\n",
       "12       Corrediças Quadro  As corrediças quadro deslizam perfeitamente. N...\n",
       "13         Dobradiças Blum  Móveis fechando de maneira suave e silenciosa ..."
      ]
     },
     "execution_count": 127,
     "metadata": {},
     "output_type": "execute_result"
    }
   ],
   "source": [
    "#titles_series.append(descriptions_series, )\n",
    "\n",
    "data = titles_series.join(descriptions_series, how='left')\n",
    "\n",
    "data"
   ]
  },
  {
   "cell_type": "code",
   "execution_count": 128,
   "metadata": {},
   "outputs": [],
   "source": [
    "data.to_csv('finger.csv')"
   ]
  }
 ],
 "metadata": {
  "kernelspec": {
   "display_name": "Python 3",
   "language": "python",
   "name": "python3"
  },
  "language_info": {
   "codemirror_mode": {
    "name": "ipython",
    "version": 3
   },
   "file_extension": ".py",
   "mimetype": "text/x-python",
   "name": "python",
   "nbconvert_exporter": "python",
   "pygments_lexer": "ipython3",
   "version": "3.7.6"
  }
 },
 "nbformat": 4,
 "nbformat_minor": 4
}
